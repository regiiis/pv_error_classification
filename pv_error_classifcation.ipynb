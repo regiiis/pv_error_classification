{
  "nbformat": 4,
  "nbformat_minor": 0,
  "metadata": {
    "colab": {
      "provenance": [],
      "gpuType": "T4",
      "toc_visible": true,
      "authorship_tag": "ABX9TyM8ZtNz/4qHSg9ayE5Zvz55",
      "include_colab_link": true
    },
    "kernelspec": {
      "name": "python3",
      "display_name": "Python 3"
    },
    "language_info": {
      "name": "python"
    },
    "accelerator": "GPU"
  },
  "cells": [
    {
      "cell_type": "markdown",
      "metadata": {
        "id": "view-in-github",
        "colab_type": "text"
      },
      "source": [
        "<a href=\"https://colab.research.google.com/github/regiiis/pv_error_classification/blob/main/pv_error_classifcation.ipynb\" target=\"_parent\"><img src=\"https://colab.research.google.com/assets/colab-badge.svg\" alt=\"Open In Colab\"/></a>"
      ]
    },
    {
      "cell_type": "markdown",
      "source": [
        "DLV Group Project - **Anomaly Classification**\n",
        "\n"
      ],
      "metadata": {
        "id": "sLYq2BXYhW44"
      }
    },
    {
      "cell_type": "markdown",
      "source": [
        "# LOCAL Runtime"
      ],
      "metadata": {
        "id": "LMXREjNvLc6i"
      }
    },
    {
      "cell_type": "code",
      "source": [
        "# Using LOCAL ressources\n",
        "\n",
        "# 1. jupyter notebook --NotebookApp.allow_origin='https://colab.research.google.com' --port=8888 --NotebookApp.port_retries=0\n",
        "os.chdir(G:/My Drive/Colab Notebooks/data)\n",
        "\n",
        "path = \"G:/My Drive/Colab Notebooks/data/2020-02-14_InfraredSolarModules\""
      ],
      "metadata": {
        "id": "mVlgTgE-KfaR"
      },
      "execution_count": null,
      "outputs": []
    },
    {
      "cell_type": "markdown",
      "source": [
        "# CLOUD Runtime"
      ],
      "metadata": {
        "id": "tdYYOT3wQgdF"
      }
    },
    {
      "cell_type": "code",
      "source": [
        "# Using CLOUD ressources and DRIVE\n",
        "\n",
        "# Import drive and allow access\n",
        "from google.colab import drive\n",
        "drive.mount('/content/drive')\n",
        "\n",
        "# Unzip data on Google Drive\n",
        "!unzip \"/content/drive/My Drive/Colab Notebooks/data/2020-02-14_InfraredSolarModules.zip\"\n",
        "\n",
        "path = \"/content\"\n"
      ],
      "metadata": {
        "colab": {
          "base_uri": "https://localhost:8080/"
        },
        "id": "LwlpHMI-Iui8",
        "outputId": "21395839-02e5-4d98-82ec-97002fa7b7da"
      },
      "execution_count": 1,
      "outputs": [
        {
          "output_type": "stream",
          "name": "stdout",
          "text": [
            "Drive already mounted at /content/drive; to attempt to forcibly remount, call drive.mount(\"/content/drive\", force_remount=True).\n",
            "Archive:  /content/drive/My Drive/Colab Notebooks/data/2020-02-14_InfraredSolarModules.zip\n",
            "replace InfraredSolarModules/module_metadata.json? [y]es, [n]o, [A]ll, [N]one, [r]ename: N\n"
          ]
        }
      ]
    },
    {
      "cell_type": "code",
      "execution_count": 2,
      "metadata": {
        "id": "ERga3Q2TgSIa",
        "colab": {
          "base_uri": "https://localhost:8080/"
        },
        "outputId": "531341e1-8f27-40aa-9ef7-d7c9bafcd151"
      },
      "outputs": [
        {
          "output_type": "stream",
          "name": "stdout",
          "text": [
            "Fri Mar  8 12:47:07 2024       \n",
            "+---------------------------------------------------------------------------------------+\n",
            "| NVIDIA-SMI 535.104.05             Driver Version: 535.104.05   CUDA Version: 12.2     |\n",
            "|-----------------------------------------+----------------------+----------------------+\n",
            "| GPU  Name                 Persistence-M | Bus-Id        Disp.A | Volatile Uncorr. ECC |\n",
            "| Fan  Temp   Perf          Pwr:Usage/Cap |         Memory-Usage | GPU-Util  Compute M. |\n",
            "|                                         |                      |               MIG M. |\n",
            "|=========================================+======================+======================|\n",
            "|   0  Tesla T4                       Off | 00000000:00:04.0 Off |                    0 |\n",
            "| N/A   71C    P8              11W /  70W |      0MiB / 15360MiB |      0%      Default |\n",
            "|                                         |                      |                  N/A |\n",
            "+-----------------------------------------+----------------------+----------------------+\n",
            "                                                                                         \n",
            "+---------------------------------------------------------------------------------------+\n",
            "| Processes:                                                                            |\n",
            "|  GPU   GI   CI        PID   Type   Process name                            GPU Memory |\n",
            "|        ID   ID                                                             Usage      |\n",
            "|=======================================================================================|\n",
            "|  No running processes found                                                           |\n",
            "+---------------------------------------------------------------------------------------+\n"
          ]
        }
      ],
      "source": [
        "gpu_info = !nvidia-smi\n",
        "gpu_info = '\\n'.join(gpu_info)\n",
        "if gpu_info.find('failed') >= 0:\n",
        "  print('Not connected to a GPU')\n",
        "else:\n",
        "  print(gpu_info)"
      ]
    },
    {
      "cell_type": "markdown",
      "source": [
        "# Set Up"
      ],
      "metadata": {
        "id": "yUwXMS1dhcfO"
      }
    },
    {
      "cell_type": "markdown",
      "source": [
        "## Packages"
      ],
      "metadata": {
        "id": "MxjpktpyG8dv"
      }
    },
    {
      "cell_type": "code",
      "source": [
        "# General imports\n",
        "import pandas as pd\n",
        "import numpy as np\n",
        "from numpy import asarray\n",
        "from numpy import savetxt\n",
        "from numpy import genfromtxt\n",
        "from numpy import expand_dims\n",
        "import os, datetime\n",
        "import sys\n",
        "import math\n",
        "import random\n",
        "\n",
        "from sklearn import preprocessing\n",
        "\n",
        "# Import graph plotting lib\n",
        "import matplotlib.pyplot as plt\n",
        "import matplotlib.image as mpimg\n",
        "\n",
        "# Imoprt tensorflow and set to eager execution\n",
        "import tensorflow as tf\n",
        "tf.compat.v1.enable_eager_execution(\n",
        "    config=None, device_policy=None, execution_mode=None\n",
        ")\n",
        "\n",
        "# Shortcuts to keras\n",
        "from tensorflow import keras\n",
        "from tensorflow.keras.applications.vgg16 import preprocess_input\n",
        "from tensorflow.keras.preprocessing.image import ImageDataGenerator\n",
        "from tensorflow.keras.models import Sequential\n",
        "from tensorflow.keras.models import Model\n",
        "from tensorflow.keras.layers import Conv2D, MaxPooling2D\n",
        "from tensorflow.keras.layers import Activation, Dropout, Flatten, Dense, BatchNormalization\n",
        "from tensorflow.keras.callbacks import TensorBoard\n",
        "from tensorflow.keras import layers\n",
        "from tensorflow.keras.utils import load_img, img_to_array\n",
        "from tensorflow.keras.utils import array_to_img\n",
        "from IPython.display import Image\n",
        "\n",
        "# Performance tools\n",
        "!pip install scikit-learn\n",
        "from sklearn.metrics import confusion_matrix\n",
        "from sklearn.metrics import classification_report\n",
        "from sklearn.utils.class_weight import compute_class_weight\n",
        "\n",
        "# NN visualisation\n",
        "!pip install visualkeras\n",
        "import visualkeras\n",
        "from collections import defaultdict\n",
        "from PIL import ImageFont\n",
        "\n",
        "# Histogram\n",
        "from IPython.core.pylabtools import figsize\n",
        "import seaborn as sns\n",
        "sns.set_style(\"white\")"
      ],
      "metadata": {
        "id": "NNIfnnADhnP0",
        "colab": {
          "base_uri": "https://localhost:8080/"
        },
        "outputId": "62c4c0ee-2631-4924-a664-01828b25d3f1"
      },
      "execution_count": 18,
      "outputs": [
        {
          "output_type": "stream",
          "name": "stdout",
          "text": [
            "Requirement already satisfied: scikit-learn in /usr/local/lib/python3.10/dist-packages (1.2.2)\n",
            "Requirement already satisfied: numpy>=1.17.3 in /usr/local/lib/python3.10/dist-packages (from scikit-learn) (1.25.2)\n",
            "Requirement already satisfied: scipy>=1.3.2 in /usr/local/lib/python3.10/dist-packages (from scikit-learn) (1.11.4)\n",
            "Requirement already satisfied: joblib>=1.1.1 in /usr/local/lib/python3.10/dist-packages (from scikit-learn) (1.3.2)\n",
            "Requirement already satisfied: threadpoolctl>=2.0.0 in /usr/local/lib/python3.10/dist-packages (from scikit-learn) (3.3.0)\n",
            "Requirement already satisfied: visualkeras in /usr/local/lib/python3.10/dist-packages (0.0.2)\n",
            "Requirement already satisfied: pillow>=6.2.0 in /usr/local/lib/python3.10/dist-packages (from visualkeras) (9.4.0)\n",
            "Requirement already satisfied: numpy>=1.18.1 in /usr/local/lib/python3.10/dist-packages (from visualkeras) (1.25.2)\n",
            "Requirement already satisfied: aggdraw>=1.3.11 in /usr/local/lib/python3.10/dist-packages (from visualkeras) (1.3.18.post0)\n"
          ]
        }
      ]
    },
    {
      "cell_type": "code",
      "source": [
        "# Load data into df\n",
        "\n",
        "df = pd.read_json(f'{path}/InfraredSolarModules/module_metadata.json',orient=\"index\")\n",
        "df['image_name'] = df['image_filepath'].str[7:]\n",
        "df = df.sort_index()\n",
        "df"
      ],
      "metadata": {
        "colab": {
          "base_uri": "https://localhost:8080/",
          "height": 0
        },
        "outputId": "abca00a0-3cd9-4269-ef55-62141fce8dec",
        "id": "CT1BZOhnHo-H"
      },
      "execution_count": 4,
      "outputs": [
        {
          "output_type": "execute_result",
          "data": {
            "text/plain": [
              "         image_filepath   anomaly_class image_name\n",
              "0          images/0.jpg  Offline-Module      0.jpg\n",
              "1          images/1.jpg  Offline-Module      1.jpg\n",
              "2          images/2.jpg  Offline-Module      2.jpg\n",
              "3          images/3.jpg  Offline-Module      3.jpg\n",
              "4          images/4.jpg  Offline-Module      4.jpg\n",
              "...                 ...             ...        ...\n",
              "19995  images/19995.jpg      No-Anomaly  19995.jpg\n",
              "19996  images/19996.jpg      No-Anomaly  19996.jpg\n",
              "19997  images/19997.jpg      No-Anomaly  19997.jpg\n",
              "19998  images/19998.jpg      No-Anomaly  19998.jpg\n",
              "19999  images/19999.jpg      No-Anomaly  19999.jpg\n",
              "\n",
              "[20000 rows x 3 columns]"
            ],
            "text/html": [
              "\n",
              "  <div id=\"df-80f657d7-15d1-4900-9a9b-dfe5f90f91b4\" class=\"colab-df-container\">\n",
              "    <div>\n",
              "<style scoped>\n",
              "    .dataframe tbody tr th:only-of-type {\n",
              "        vertical-align: middle;\n",
              "    }\n",
              "\n",
              "    .dataframe tbody tr th {\n",
              "        vertical-align: top;\n",
              "    }\n",
              "\n",
              "    .dataframe thead th {\n",
              "        text-align: right;\n",
              "    }\n",
              "</style>\n",
              "<table border=\"1\" class=\"dataframe\">\n",
              "  <thead>\n",
              "    <tr style=\"text-align: right;\">\n",
              "      <th></th>\n",
              "      <th>image_filepath</th>\n",
              "      <th>anomaly_class</th>\n",
              "      <th>image_name</th>\n",
              "    </tr>\n",
              "  </thead>\n",
              "  <tbody>\n",
              "    <tr>\n",
              "      <th>0</th>\n",
              "      <td>images/0.jpg</td>\n",
              "      <td>Offline-Module</td>\n",
              "      <td>0.jpg</td>\n",
              "    </tr>\n",
              "    <tr>\n",
              "      <th>1</th>\n",
              "      <td>images/1.jpg</td>\n",
              "      <td>Offline-Module</td>\n",
              "      <td>1.jpg</td>\n",
              "    </tr>\n",
              "    <tr>\n",
              "      <th>2</th>\n",
              "      <td>images/2.jpg</td>\n",
              "      <td>Offline-Module</td>\n",
              "      <td>2.jpg</td>\n",
              "    </tr>\n",
              "    <tr>\n",
              "      <th>3</th>\n",
              "      <td>images/3.jpg</td>\n",
              "      <td>Offline-Module</td>\n",
              "      <td>3.jpg</td>\n",
              "    </tr>\n",
              "    <tr>\n",
              "      <th>4</th>\n",
              "      <td>images/4.jpg</td>\n",
              "      <td>Offline-Module</td>\n",
              "      <td>4.jpg</td>\n",
              "    </tr>\n",
              "    <tr>\n",
              "      <th>...</th>\n",
              "      <td>...</td>\n",
              "      <td>...</td>\n",
              "      <td>...</td>\n",
              "    </tr>\n",
              "    <tr>\n",
              "      <th>19995</th>\n",
              "      <td>images/19995.jpg</td>\n",
              "      <td>No-Anomaly</td>\n",
              "      <td>19995.jpg</td>\n",
              "    </tr>\n",
              "    <tr>\n",
              "      <th>19996</th>\n",
              "      <td>images/19996.jpg</td>\n",
              "      <td>No-Anomaly</td>\n",
              "      <td>19996.jpg</td>\n",
              "    </tr>\n",
              "    <tr>\n",
              "      <th>19997</th>\n",
              "      <td>images/19997.jpg</td>\n",
              "      <td>No-Anomaly</td>\n",
              "      <td>19997.jpg</td>\n",
              "    </tr>\n",
              "    <tr>\n",
              "      <th>19998</th>\n",
              "      <td>images/19998.jpg</td>\n",
              "      <td>No-Anomaly</td>\n",
              "      <td>19998.jpg</td>\n",
              "    </tr>\n",
              "    <tr>\n",
              "      <th>19999</th>\n",
              "      <td>images/19999.jpg</td>\n",
              "      <td>No-Anomaly</td>\n",
              "      <td>19999.jpg</td>\n",
              "    </tr>\n",
              "  </tbody>\n",
              "</table>\n",
              "<p>20000 rows × 3 columns</p>\n",
              "</div>\n",
              "    <div class=\"colab-df-buttons\">\n",
              "\n",
              "  <div class=\"colab-df-container\">\n",
              "    <button class=\"colab-df-convert\" onclick=\"convertToInteractive('df-80f657d7-15d1-4900-9a9b-dfe5f90f91b4')\"\n",
              "            title=\"Convert this dataframe to an interactive table.\"\n",
              "            style=\"display:none;\">\n",
              "\n",
              "  <svg xmlns=\"http://www.w3.org/2000/svg\" height=\"24px\" viewBox=\"0 -960 960 960\">\n",
              "    <path d=\"M120-120v-720h720v720H120Zm60-500h600v-160H180v160Zm220 220h160v-160H400v160Zm0 220h160v-160H400v160ZM180-400h160v-160H180v160Zm440 0h160v-160H620v160ZM180-180h160v-160H180v160Zm440 0h160v-160H620v160Z\"/>\n",
              "  </svg>\n",
              "    </button>\n",
              "\n",
              "  <style>\n",
              "    .colab-df-container {\n",
              "      display:flex;\n",
              "      gap: 12px;\n",
              "    }\n",
              "\n",
              "    .colab-df-convert {\n",
              "      background-color: #E8F0FE;\n",
              "      border: none;\n",
              "      border-radius: 50%;\n",
              "      cursor: pointer;\n",
              "      display: none;\n",
              "      fill: #1967D2;\n",
              "      height: 32px;\n",
              "      padding: 0 0 0 0;\n",
              "      width: 32px;\n",
              "    }\n",
              "\n",
              "    .colab-df-convert:hover {\n",
              "      background-color: #E2EBFA;\n",
              "      box-shadow: 0px 1px 2px rgba(60, 64, 67, 0.3), 0px 1px 3px 1px rgba(60, 64, 67, 0.15);\n",
              "      fill: #174EA6;\n",
              "    }\n",
              "\n",
              "    .colab-df-buttons div {\n",
              "      margin-bottom: 4px;\n",
              "    }\n",
              "\n",
              "    [theme=dark] .colab-df-convert {\n",
              "      background-color: #3B4455;\n",
              "      fill: #D2E3FC;\n",
              "    }\n",
              "\n",
              "    [theme=dark] .colab-df-convert:hover {\n",
              "      background-color: #434B5C;\n",
              "      box-shadow: 0px 1px 3px 1px rgba(0, 0, 0, 0.15);\n",
              "      filter: drop-shadow(0px 1px 2px rgba(0, 0, 0, 0.3));\n",
              "      fill: #FFFFFF;\n",
              "    }\n",
              "  </style>\n",
              "\n",
              "    <script>\n",
              "      const buttonEl =\n",
              "        document.querySelector('#df-80f657d7-15d1-4900-9a9b-dfe5f90f91b4 button.colab-df-convert');\n",
              "      buttonEl.style.display =\n",
              "        google.colab.kernel.accessAllowed ? 'block' : 'none';\n",
              "\n",
              "      async function convertToInteractive(key) {\n",
              "        const element = document.querySelector('#df-80f657d7-15d1-4900-9a9b-dfe5f90f91b4');\n",
              "        const dataTable =\n",
              "          await google.colab.kernel.invokeFunction('convertToInteractive',\n",
              "                                                    [key], {});\n",
              "        if (!dataTable) return;\n",
              "\n",
              "        const docLinkHtml = 'Like what you see? Visit the ' +\n",
              "          '<a target=\"_blank\" href=https://colab.research.google.com/notebooks/data_table.ipynb>data table notebook</a>'\n",
              "          + ' to learn more about interactive tables.';\n",
              "        element.innerHTML = '';\n",
              "        dataTable['output_type'] = 'display_data';\n",
              "        await google.colab.output.renderOutput(dataTable, element);\n",
              "        const docLink = document.createElement('div');\n",
              "        docLink.innerHTML = docLinkHtml;\n",
              "        element.appendChild(docLink);\n",
              "      }\n",
              "    </script>\n",
              "  </div>\n",
              "\n",
              "\n",
              "<div id=\"df-1e00a86d-1f23-48bf-867f-aa95445375d4\">\n",
              "  <button class=\"colab-df-quickchart\" onclick=\"quickchart('df-1e00a86d-1f23-48bf-867f-aa95445375d4')\"\n",
              "            title=\"Suggest charts\"\n",
              "            style=\"display:none;\">\n",
              "\n",
              "<svg xmlns=\"http://www.w3.org/2000/svg\" height=\"24px\"viewBox=\"0 0 24 24\"\n",
              "     width=\"24px\">\n",
              "    <g>\n",
              "        <path d=\"M19 3H5c-1.1 0-2 .9-2 2v14c0 1.1.9 2 2 2h14c1.1 0 2-.9 2-2V5c0-1.1-.9-2-2-2zM9 17H7v-7h2v7zm4 0h-2V7h2v10zm4 0h-2v-4h2v4z\"/>\n",
              "    </g>\n",
              "</svg>\n",
              "  </button>\n",
              "\n",
              "<style>\n",
              "  .colab-df-quickchart {\n",
              "      --bg-color: #E8F0FE;\n",
              "      --fill-color: #1967D2;\n",
              "      --hover-bg-color: #E2EBFA;\n",
              "      --hover-fill-color: #174EA6;\n",
              "      --disabled-fill-color: #AAA;\n",
              "      --disabled-bg-color: #DDD;\n",
              "  }\n",
              "\n",
              "  [theme=dark] .colab-df-quickchart {\n",
              "      --bg-color: #3B4455;\n",
              "      --fill-color: #D2E3FC;\n",
              "      --hover-bg-color: #434B5C;\n",
              "      --hover-fill-color: #FFFFFF;\n",
              "      --disabled-bg-color: #3B4455;\n",
              "      --disabled-fill-color: #666;\n",
              "  }\n",
              "\n",
              "  .colab-df-quickchart {\n",
              "    background-color: var(--bg-color);\n",
              "    border: none;\n",
              "    border-radius: 50%;\n",
              "    cursor: pointer;\n",
              "    display: none;\n",
              "    fill: var(--fill-color);\n",
              "    height: 32px;\n",
              "    padding: 0;\n",
              "    width: 32px;\n",
              "  }\n",
              "\n",
              "  .colab-df-quickchart:hover {\n",
              "    background-color: var(--hover-bg-color);\n",
              "    box-shadow: 0 1px 2px rgba(60, 64, 67, 0.3), 0 1px 3px 1px rgba(60, 64, 67, 0.15);\n",
              "    fill: var(--button-hover-fill-color);\n",
              "  }\n",
              "\n",
              "  .colab-df-quickchart-complete:disabled,\n",
              "  .colab-df-quickchart-complete:disabled:hover {\n",
              "    background-color: var(--disabled-bg-color);\n",
              "    fill: var(--disabled-fill-color);\n",
              "    box-shadow: none;\n",
              "  }\n",
              "\n",
              "  .colab-df-spinner {\n",
              "    border: 2px solid var(--fill-color);\n",
              "    border-color: transparent;\n",
              "    border-bottom-color: var(--fill-color);\n",
              "    animation:\n",
              "      spin 1s steps(1) infinite;\n",
              "  }\n",
              "\n",
              "  @keyframes spin {\n",
              "    0% {\n",
              "      border-color: transparent;\n",
              "      border-bottom-color: var(--fill-color);\n",
              "      border-left-color: var(--fill-color);\n",
              "    }\n",
              "    20% {\n",
              "      border-color: transparent;\n",
              "      border-left-color: var(--fill-color);\n",
              "      border-top-color: var(--fill-color);\n",
              "    }\n",
              "    30% {\n",
              "      border-color: transparent;\n",
              "      border-left-color: var(--fill-color);\n",
              "      border-top-color: var(--fill-color);\n",
              "      border-right-color: var(--fill-color);\n",
              "    }\n",
              "    40% {\n",
              "      border-color: transparent;\n",
              "      border-right-color: var(--fill-color);\n",
              "      border-top-color: var(--fill-color);\n",
              "    }\n",
              "    60% {\n",
              "      border-color: transparent;\n",
              "      border-right-color: var(--fill-color);\n",
              "    }\n",
              "    80% {\n",
              "      border-color: transparent;\n",
              "      border-right-color: var(--fill-color);\n",
              "      border-bottom-color: var(--fill-color);\n",
              "    }\n",
              "    90% {\n",
              "      border-color: transparent;\n",
              "      border-bottom-color: var(--fill-color);\n",
              "    }\n",
              "  }\n",
              "</style>\n",
              "\n",
              "  <script>\n",
              "    async function quickchart(key) {\n",
              "      const quickchartButtonEl =\n",
              "        document.querySelector('#' + key + ' button');\n",
              "      quickchartButtonEl.disabled = true;  // To prevent multiple clicks.\n",
              "      quickchartButtonEl.classList.add('colab-df-spinner');\n",
              "      try {\n",
              "        const charts = await google.colab.kernel.invokeFunction(\n",
              "            'suggestCharts', [key], {});\n",
              "      } catch (error) {\n",
              "        console.error('Error during call to suggestCharts:', error);\n",
              "      }\n",
              "      quickchartButtonEl.classList.remove('colab-df-spinner');\n",
              "      quickchartButtonEl.classList.add('colab-df-quickchart-complete');\n",
              "    }\n",
              "    (() => {\n",
              "      let quickchartButtonEl =\n",
              "        document.querySelector('#df-1e00a86d-1f23-48bf-867f-aa95445375d4 button');\n",
              "      quickchartButtonEl.style.display =\n",
              "        google.colab.kernel.accessAllowed ? 'block' : 'none';\n",
              "    })();\n",
              "  </script>\n",
              "</div>\n",
              "    </div>\n",
              "  </div>\n"
            ],
            "application/vnd.google.colaboratory.intrinsic+json": {
              "type": "dataframe",
              "variable_name": "df",
              "summary": "{\n  \"name\": \"df\",\n  \"rows\": 20000,\n  \"fields\": [\n    {\n      \"column\": \"image_filepath\",\n      \"properties\": {\n        \"dtype\": \"string\",\n        \"num_unique_values\": 20000,\n        \"samples\": [\n          \"images/10650.jpg\",\n          \"images/2041.jpg\",\n          \"images/8668.jpg\"\n        ],\n        \"semantic_type\": \"\",\n        \"description\": \"\"\n      }\n    },\n    {\n      \"column\": \"anomaly_class\",\n      \"properties\": {\n        \"dtype\": \"category\",\n        \"num_unique_values\": 12,\n        \"samples\": [\n          \"Vegetation\",\n          \"Soiling\",\n          \"Offline-Module\"\n        ],\n        \"semantic_type\": \"\",\n        \"description\": \"\"\n      }\n    },\n    {\n      \"column\": \"image_name\",\n      \"properties\": {\n        \"dtype\": \"string\",\n        \"num_unique_values\": 20000,\n        \"samples\": [\n          \"10650.jpg\",\n          \"2041.jpg\",\n          \"8668.jpg\"\n        ],\n        \"semantic_type\": \"\",\n        \"description\": \"\"\n      }\n    }\n  ]\n}"
            }
          },
          "metadata": {},
          "execution_count": 4
        }
      ]
    },
    {
      "cell_type": "markdown",
      "source": [
        "## Explore Data"
      ],
      "metadata": {
        "id": "Ir5UMdHtnquo"
      }
    },
    {
      "cell_type": "code",
      "source": [
        "# Display all categories\n",
        "\n",
        "categories = df[\"anomaly_class\"].unique()\n",
        "list(categories)"
      ],
      "metadata": {
        "colab": {
          "base_uri": "https://localhost:8080/"
        },
        "id": "4-Z6GlMpmgBc",
        "outputId": "aa092f87-c869-4799-b0f1-9a665a587f2b"
      },
      "execution_count": 5,
      "outputs": [
        {
          "output_type": "execute_result",
          "data": {
            "text/plain": [
              "['Offline-Module',\n",
              " 'Diode-Multi',\n",
              " 'Diode',\n",
              " 'Shadowing',\n",
              " 'Cell-Multi',\n",
              " 'Cell',\n",
              " 'Hot-Spot',\n",
              " 'Cracking',\n",
              " 'Hot-Spot-Multi',\n",
              " 'Soiling',\n",
              " 'Vegetation',\n",
              " 'No-Anomaly']"
            ]
          },
          "metadata": {},
          "execution_count": 5
        }
      ]
    },
    {
      "cell_type": "code",
      "source": [
        "# Select and display a iamge for each category\n",
        "\n",
        "df.groupby('anomaly_class').head(1)\n",
        "img1 = mpimg.imread(f'{path}/InfraredSolarModules/images/13357.jpg') #No-Anomaly\n",
        "img2 = mpimg.imread(f'{path}/InfraredSolarModules/images/5988.jpg')  #Cell\n",
        "img3 = mpimg.imread(f'{path}/InfraredSolarModules/images/6796.jpg')  #Hot-Spot\n",
        "img4 = mpimg.imread(f'{path}/InfraredSolarModules/images/270.jpg')  #Offline-Module\n",
        "img5 = mpimg.imread(f'{path}/InfraredSolarModules/images/9528.jpg') #Vegetation\n",
        "img6 = mpimg.imread(f'{path}/InfraredSolarModules/images/2143.jpg')  #Diode\n",
        "img7 = mpimg.imread(f'{path}/InfraredSolarModules/images/3519.jpg')  #Shadowing\n",
        "img8 = mpimg.imread(f'{path}/InfraredSolarModules/images/7188.jpg')  #Cracking\n",
        "img9 = mpimg.imread(f'{path}/InfraredSolarModules/images/876.jpg') #Diode-Multi\n",
        "img10 = mpimg.imread(f'{path}/InfraredSolarModules/images/8019.jpg')  #Hot-Spot-Multi\n",
        "img11 = mpimg.imread(f'{path}/InfraredSolarModules/images/4592.jpg')  #Cell-Multi\n",
        "img12 = mpimg.imread(f'{path}/InfraredSolarModules/images/8291.jpg')  #Soiling\n",
        "\n",
        "#create list of image name\n",
        "list_img = []\n",
        "for i in range(12):\n",
        "  list_img.append(f\"img{i+1}\")\n",
        "\n",
        "# Create list of category names\n",
        "list_categories = ['No-Anomaly','Cell','Hot-Spot','Offline-Module','Vegetation','Diode','Shadowing',\n",
        "            'Cracking','Diode-Multi','Hot-Spot-Multi','Cell-Multi','Soiling']\n",
        "\n",
        "# Plot images\n",
        "fig = plt.figure(figsize=(8, 12))\n",
        "columns = 4\n",
        "rows = 3\n",
        "for i,n in zip(range(1, columns*rows +1), list_categories):\n",
        "    img = f\"img{i}\"\n",
        "    fig.add_subplot(rows, columns, i)\n",
        "    plt.imshow(globals()[img])\n",
        "    plt.title(n)\n",
        "    plt.axis('off')\n",
        "plt.show()\n",
        "\n"
      ],
      "metadata": {
        "colab": {
          "base_uri": "https://localhost:8080/",
          "height": 936
        },
        "id": "ijJRN81TocSy",
        "outputId": "37e4f034-64b8-45fb-87aa-69cc99d89da9"
      },
      "execution_count": 6,
      "outputs": [
        {
          "output_type": "display_data",
          "data": {
            "text/plain": [
              "<Figure size 800x1200 with 12 Axes>"
            ],
            "image/png": "[encoded data removed]"
          },
          "metadata": {}
        }
      ]
    },
    {
      "cell_type": "code",
      "source": [
        "# Summary Statistics\n",
        "\n",
        "df[\"anomaly_class\"].describe()"
      ],
      "metadata": {
        "colab": {
          "base_uri": "https://localhost:8080/"
        },
        "id": "Oav2CyrQ-Y5T",
        "outputId": "99205ad4-bc1c-46ec-c644-b38ef15c27ca"
      },
      "execution_count": 7,
      "outputs": [
        {
          "output_type": "execute_result",
          "data": {
            "text/plain": [
              "count          20000\n",
              "unique            12\n",
              "top       No-Anomaly\n",
              "freq           10000\n",
              "Name: anomaly_class, dtype: object"
            ]
          },
          "metadata": {},
          "execution_count": 7
        }
      ]
    },
    {
      "cell_type": "code",
      "source": [
        "# Plot histogram of data\n",
        "\n",
        "figsize(10, 6)\n",
        "plt.hist(df[\"anomaly_class\"], color='skyblue', edgecolor='black', bins = 12, width = 0.5, rwidth = 1)\n",
        "plt.title('Category Distribution')\n",
        "plt.xticks(rotation = 45)\n",
        "\n",
        "plt.show()"
      ],
      "metadata": {
        "colab": {
          "base_uri": "https://localhost:8080/",
          "height": 612
        },
        "id": "se9oG4xLBv6i",
        "outputId": "ffb231c0-eab7-4536-90db-0ed8a5feff9f"
      },
      "execution_count": 8,
      "outputs": [
        {
          "output_type": "display_data",
          "data": {
            "text/plain": [
              "<Figure size 1000x600 with 1 Axes>"
            ],
            "image/png": "[encoded data removed]"
          },
          "metadata": {}
        }
      ]
    },
    {
      "cell_type": "markdown",
      "source": [
        "## Create Train, Validation and Test DF"
      ],
      "metadata": {
        "id": "d_unFHj6F3dz"
      }
    },
    {
      "cell_type": "code",
      "source": [
        "# Split data into df with 0.8/0.1/0.1 ratio\n",
        "\n",
        "seed = 200\n",
        "\n",
        "reduced_df = df.sample(frac = 1, random_state = seed) # random -> seed value\n",
        "train_df = reduced_df.sample(frac = 0.8,random_state = seed)\n",
        "validation_test_df = reduced_df.drop(train_df.index)\n",
        "validation_df = validation_test_df.sample(frac = 0.5,random_state = seed)\n",
        "\n",
        "test_df = validation_test_df.drop(validation_df.index)\n",
        "\n",
        "print(train_df.info())\n",
        "print(validation_df.info())\n",
        "\n",
        "test_df.info()"
      ],
      "metadata": {
        "colab": {
          "base_uri": "https://localhost:8080/"
        },
        "id": "425uQL1mGz1E",
        "outputId": "79038699-4130-4e8d-bcf6-52e69151a678"
      },
      "execution_count": 9,
      "outputs": [
        {
          "output_type": "stream",
          "name": "stdout",
          "text": [
            "<class 'pandas.core.frame.DataFrame'>\n",
            "Int64Index: 16000 entries, 6173 to 19483\n",
            "Data columns (total 3 columns):\n",
            " #   Column          Non-Null Count  Dtype \n",
            "---  ------          --------------  ----- \n",
            " 0   image_filepath  16000 non-null  object\n",
            " 1   anomaly_class   16000 non-null  object\n",
            " 2   image_name      16000 non-null  object\n",
            "dtypes: object(3)\n",
            "memory usage: 500.0+ KB\n",
            "None\n",
            "<class 'pandas.core.frame.DataFrame'>\n",
            "Int64Index: 2000 entries, 11758 to 6277\n",
            "Data columns (total 3 columns):\n",
            " #   Column          Non-Null Count  Dtype \n",
            "---  ------          --------------  ----- \n",
            " 0   image_filepath  2000 non-null   object\n",
            " 1   anomaly_class   2000 non-null   object\n",
            " 2   image_name      2000 non-null   object\n",
            "dtypes: object(3)\n",
            "memory usage: 62.5+ KB\n",
            "None\n",
            "<class 'pandas.core.frame.DataFrame'>\n",
            "Int64Index: 2000 entries, 8571 to 11343\n",
            "Data columns (total 3 columns):\n",
            " #   Column          Non-Null Count  Dtype \n",
            "---  ------          --------------  ----- \n",
            " 0   image_filepath  2000 non-null   object\n",
            " 1   anomaly_class   2000 non-null   object\n",
            " 2   image_name      2000 non-null   object\n",
            "dtypes: object(3)\n",
            "memory usage: 62.5+ KB\n"
          ]
        }
      ]
    },
    {
      "cell_type": "code",
      "source": [
        "# Plot histogram of data\n",
        "\n",
        "figsize(10, 6)\n",
        "plt.hist(train_df[\"anomaly_class\"], color='skyblue', edgecolor='black', bins = 12, width = 0.5, rwidth = 1)\n",
        "plt.title('Category Distribution')\n",
        "plt.xticks(rotation = 45)\n",
        "\n",
        "plt.show()"
      ],
      "metadata": {
        "colab": {
          "base_uri": "https://localhost:8080/",
          "height": 612
        },
        "id": "hK3zAoT9iSO5",
        "outputId": "b46d2fc9-fc30-47d3-c6aa-a34b14cde48b"
      },
      "execution_count": 10,
      "outputs": [
        {
          "output_type": "display_data",
          "data": {
            "text/plain": [
              "<Figure size 1000x600 with 1 Axes>"
            ],
            "image/png": "[encoded data removed]"
          },
          "metadata": {}
        }
      ]
    },
    {
      "cell_type": "code",
      "source": [
        "# Set up train, validation and test generator\n",
        "\n",
        "image_height = 40\n",
        "image_width = 24\n",
        "batch_size = 128\n",
        "\n",
        "\n",
        "\n",
        "train_generator = ImageDataGenerator().flow_from_dataframe(\n",
        "    dataframe = train_df,\n",
        "    directory = f'{path}/InfraredSolarModules/images/',\n",
        "    x_col = \"image_name\",\n",
        "    y_col = \"anomaly_class\",\n",
        "    class_mode = \"categorical\",\n",
        "    target_size = (image_height, image_width),\n",
        "    rescale=1./255,\n",
        "    batch_size = batch_size,\n",
        "    color_mode = \"grayscale\",\n",
        "    shuffle = False\n",
        ")\n",
        "\n",
        "validation_generator = ImageDataGenerator().flow_from_dataframe(\n",
        "    dataframe = validation_df,\n",
        "    directory = f'{path}/InfraredSolarModules/images/',\n",
        "    x_col = \"image_name\",\n",
        "    y_col = \"anomaly_class\",\n",
        "    class_mode = \"categorical\",\n",
        "    target_size = (image_height, image_width),\n",
        "    rescale=1./255,\n",
        "    batch_size = batch_size,\n",
        "    color_mode = \"grayscale\",\n",
        "    shuffle = False\n",
        ")\n",
        "\n",
        "test_generator = ImageDataGenerator().flow_from_dataframe(\n",
        "    dataframe = test_df,\n",
        "    directory = f'{path}/InfraredSolarModules/images/',\n",
        "    x_col = \"image_name\",\n",
        "    y_col = \"anomaly_class\",\n",
        "    class_mode = \"categorical\",\n",
        "    target_size = (image_height, image_width),\n",
        "    rescale=1./255,\n",
        "    batch_size = batch_size,\n",
        "    color_mode = \"grayscale\",\n",
        "    shuffle = False\n",
        ")\n"
      ],
      "metadata": {
        "colab": {
          "base_uri": "https://localhost:8080/"
        },
        "id": "1Z1a6UikGJnO",
        "outputId": "13dcdff0-b6d5-4077-de6c-30d298fd8c36"
      },
      "execution_count": 11,
      "outputs": [
        {
          "output_type": "stream",
          "name": "stdout",
          "text": [
            "Found 16000 validated image filenames belonging to 12 classes.\n",
            "Found 2000 validated image filenames belonging to 12 classes.\n",
            "Found 2000 validated image filenames belonging to 12 classes.\n"
          ]
        }
      ]
    },
    {
      "cell_type": "markdown",
      "source": [
        "# CNN Model 4 - additional dense layer"
      ],
      "metadata": {
        "id": "3feq4g-pJH9n"
      }
    },
    {
      "cell_type": "code",
      "source": [
        "# Class weights\n",
        "class_weight_list = compute_class_weight(class_weight = 'balanced',classes = np.unique(train_df['anomaly_class']), y = train_df['anomaly_class'])\n",
        "print(class_weight_list)\n",
        "print()\n",
        "\n",
        "class_weight_rooted = [math.sqrt(n) for n in class_weight_list]\n",
        "\n",
        "class_weight_list = preprocessing.normalize([class_weight_rooted])\n",
        "print(class_weight_list)\n",
        "print()\n",
        "\n",
        "class_weights = dict(zip(np.unique(train_df['anomaly_class']), class_weight_list[0])) #[0]\n",
        "print(class_weights)\n",
        "\n",
        "class_weight_dict = {}\n",
        "n = 0\n",
        "\n",
        "for i in class_weights:\n",
        "  key = str(n)\n",
        "  key = int(n)\n",
        "  class_weight_dict[key] = float(class_weights[i])\n",
        "  n = n + 1\n",
        "\n",
        "print()\n",
        "print(class_weight_dict)\n"
      ],
      "metadata": {
        "colab": {
          "base_uri": "https://localhost:8080/"
        },
        "id": "3LdDlwO5e8Fl",
        "outputId": "92603e08-6e17-4555-9b60-926fb8b83bb1"
      },
      "execution_count": 20,
      "outputs": [
        {
          "output_type": "stream",
          "name": "stdout",
          "text": [
            "[0.88183422 1.29701686 1.7520806  1.12612613 9.52380952 6.83760684\n",
            " 6.76818951 0.16647938 2.05761317 1.56311059 7.88954635 1.02249489]\n",
            "\n",
            "[[0.14686106 0.17810905 0.20700947 0.16596125 0.48263468 0.40894532\n",
            "  0.40686416 0.06381068 0.22433397 0.19552758 0.43927774 0.15814073]]\n",
            "\n",
            "{'Cell': 0.14686105677467162, 'Cell-Multi': 0.17810905000040383, 'Cracking': 0.2070094712879631, 'Diode': 0.16596124851798494, 'Diode-Multi': 0.48263468168720725, 'Hot-Spot': 0.40894531660911776, 'Hot-Spot-Multi': 0.40686415645050494, 'No-Anomaly': 0.06381068367176822, 'Offline-Module': 0.22433396977037995, 'Shadowing': 0.19552758171551296, 'Soiling': 0.43927773583883156, 'Vegetation': 0.15814073349893937}\n",
            "\n",
            "{0: 0.14686105677467162, 1: 0.17810905000040383, 2: 0.2070094712879631, 3: 0.16596124851798494, 4: 0.48263468168720725, 5: 0.40894531660911776, 6: 0.40686415645050494, 7: 0.06381068367176822, 8: 0.22433396977037995, 9: 0.19552758171551296, 10: 0.43927773583883156, 11: 0.15814073349893937}\n"
          ]
        }
      ]
    },
    {
      "cell_type": "markdown",
      "source": [
        "## Build Model 4"
      ],
      "metadata": {
        "id": "kC_0NZwDJH9t"
      }
    },
    {
      "cell_type": "code",
      "source": [
        "# build the CNN\n",
        "\n",
        "image_height = 40\n",
        "image_width = 24\n",
        "num_classes = 12\n",
        "\n",
        "model_4 = Sequential()\n",
        "model_4.add(Conv2D(filters = 64, kernel_size = (2,2), input_shape=(image_height, image_width, 1), activation = \"relu\"))\n",
        "model_4.add(MaxPooling2D(pool_size= (2,2)))\n",
        "\n",
        "model_4.add(Conv2D(filters = 128, kernel_size = (2,2), activation = \"relu\"))\n",
        "model_4.add(MaxPooling2D(pool_size = (2,2)))\n",
        "\n",
        "model_4.add(Conv2D(filters = 256, kernel_size = (2,2), activation = \"relu\"))\n",
        "model_4.add(MaxPooling2D(pool_size = (2,2)))\n",
        "\n",
        "model_4.add(Flatten())\n",
        "model_4.add(Dropout(0.5))\n",
        "\n",
        "model_4.add(Dense(2048, activation=\"relu\"))\n",
        "model_4.add(Dropout(0.5))\n",
        "\n",
        "model_4.add(Dense(1024, activation=\"relu\"))\n",
        "model_4.add(Dropout(0.5))\n",
        "\n",
        "model_4.add(Dense(512, activation=\"relu\"))\n",
        "model_4.add(Dropout(0.1))\n",
        "\n",
        "model_4.add(Dense(num_classes, Activation('softmax')))\n",
        "\n",
        "model_4.compile(loss='categorical_crossentropy',\n",
        "              optimizer=tf.keras.optimizers.AdamW(1e-3),\n",
        "              metrics=['accuracy'])\n",
        "model_4.summary()"
      ],
      "metadata": {
        "colab": {
          "base_uri": "https://localhost:8080/"
        },
        "outputId": "cffb651d-fbe9-4206-f73d-15b5e636c45d",
        "id": "EO22SVLMJH9t"
      },
      "execution_count": 75,
      "outputs": [
        {
          "output_type": "stream",
          "name": "stdout",
          "text": [
            "Model: \"sequential_11\"\n",
            "_________________________________________________________________\n",
            " Layer (type)                Output Shape              Param #   \n",
            "=================================================================\n",
            " conv2d_33 (Conv2D)          (None, 39, 23, 64)        320       \n",
            "                                                                 \n",
            " max_pooling2d_33 (MaxPooli  (None, 19, 11, 64)        0         \n",
            " ng2D)                                                           \n",
            "                                                                 \n",
            " conv2d_34 (Conv2D)          (None, 18, 10, 128)       32896     \n",
            "                                                                 \n",
            " max_pooling2d_34 (MaxPooli  (None, 9, 5, 128)         0         \n",
            " ng2D)                                                           \n",
            "                                                                 \n",
            " conv2d_35 (Conv2D)          (None, 8, 4, 256)         131328    \n",
            "                                                                 \n",
            " max_pooling2d_35 (MaxPooli  (None, 4, 2, 256)         0         \n",
            " ng2D)                                                           \n",
            "                                                                 \n",
            " flatten_11 (Flatten)        (None, 2048)              0         \n",
            "                                                                 \n",
            " dropout_28 (Dropout)        (None, 2048)              0         \n",
            "                                                                 \n",
            " dense_41 (Dense)            (None, 2048)              4196352   \n",
            "                                                                 \n",
            " dropout_29 (Dropout)        (None, 2048)              0         \n",
            "                                                                 \n",
            " dense_42 (Dense)            (None, 1024)              2098176   \n",
            "                                                                 \n",
            " dropout_30 (Dropout)        (None, 1024)              0         \n",
            "                                                                 \n",
            " dense_43 (Dense)            (None, 512)               524800    \n",
            "                                                                 \n",
            " dropout_31 (Dropout)        (None, 512)               0         \n",
            "                                                                 \n",
            " dense_44 (Dense)            (None, 12)                6156      \n",
            "                                                                 \n",
            "=================================================================\n",
            "Total params: 6990028 (26.66 MB)\n",
            "Trainable params: 6990028 (26.66 MB)\n",
            "Non-trainable params: 0 (0.00 Byte)\n",
            "_________________________________________________________________\n"
          ]
        }
      ]
    },
    {
      "cell_type": "code",
      "source": [
        "# Visualize Model\n",
        "\n",
        "visualkeras.layered_view(model_4, legend=True)\n",
        "\n",
        "color_map = defaultdict(dict)\n",
        "color_map[layers.Conv2D]['fill'] = 'skyblue'\n",
        "color_map[layers.MaxPooling2D]['fill'] = 'green'\n",
        "color_map[layers.Dropout]['fill'] = 'red'\n",
        "color_map[layers.Dense]['fill'] = 'orange'\n",
        "color_map[layers.Flatten]['fill'] = 'grey'\n",
        "color_map[layers.Activation]['fill'] = 'yellow'\n",
        "visualkeras.layered_view(model_4, legend=True, color_map = color_map)"
      ],
      "metadata": {
        "outputId": "026e3465-ff85-4bff-9ca9-9a89907bc5e3",
        "colab": {
          "base_uri": "https://localhost:8080/",
          "height": 197
        },
        "id": "z14cjjjkJH9u"
      },
      "execution_count": 76,
      "outputs": [
        {
          "output_type": "execute_result",
          "data": {
            "text/plain": [
              "<PIL.Image.Image image mode=RGBA size=1467x180>"
            ],
            "image/png": "[encoded data removed]"
          },
          "metadata": {},
          "execution_count": 76
        }
      ]
    },
    {
      "cell_type": "markdown",
      "source": [
        "## Train Model 4\n"
      ],
      "metadata": {
        "id": "pTVoXydzJH9u"
      }
    },
    {
      "cell_type": "code",
      "source": [
        "history_4 = model_4.fit(\n",
        "    train_generator,\n",
        "    epochs = 200,\n",
        "    validation_data = validation_generator,\n",
        "    class_weight = class_weight_dict\n",
        " )\n",
        "\n",
        "#model_4.save(\"/content/drive/My Drive/Colab Notebooks/models/pv_classification/model_4\")"
      ],
      "metadata": {
        "colab": {
          "base_uri": "https://localhost:8080/",
          "height": 1000
        },
        "outputId": "da5c31c2-512d-4223-c452-317b73f93540",
        "id": "t0oxEmTjJH9u"
      },
      "execution_count": 74,
      "outputs": [
        {
          "output_type": "stream",
          "name": "stdout",
          "text": [
            "Epoch 1/200\n",
            "125/125 [==============================] - 8s 40ms/step - loss: 0.9346 - accuracy: 0.1674 - val_loss: 2.3679 - val_accuracy: 0.4880\n",
            "Epoch 2/200\n",
            "125/125 [==============================] - 5s 44ms/step - loss: 0.3217 - accuracy: 0.2984 - val_loss: 2.2478 - val_accuracy: 0.4870\n",
            "Epoch 3/200\n",
            "125/125 [==============================] - 6s 47ms/step - loss: 0.3129 - accuracy: 0.4291 - val_loss: 2.1858 - val_accuracy: 0.4870\n",
            "Epoch 4/200\n",
            "125/125 [==============================] - 6s 51ms/step - loss: 0.3088 - accuracy: 0.4841 - val_loss: 2.0885 - val_accuracy: 0.4915\n",
            "Epoch 5/200\n",
            "125/125 [==============================] - 6s 45ms/step - loss: 0.3057 - accuracy: 0.4981 - val_loss: 2.0851 - val_accuracy: 0.5005\n",
            "Epoch 6/200\n",
            "125/125 [==============================] - 8s 60ms/step - loss: 0.3012 - accuracy: 0.5071 - val_loss: 1.9110 - val_accuracy: 0.5085\n",
            "Epoch 7/200\n",
            "125/125 [==============================] - 6s 49ms/step - loss: 0.2959 - accuracy: 0.5142 - val_loss: 1.9396 - val_accuracy: 0.5295\n",
            "Epoch 8/200\n",
            "125/125 [==============================] - 6s 44ms/step - loss: 0.2904 - accuracy: 0.5183 - val_loss: 1.7968 - val_accuracy: 0.5305\n",
            "Epoch 9/200\n",
            "125/125 [==============================] - 5s 40ms/step - loss: 0.2878 - accuracy: 0.5224 - val_loss: 1.8533 - val_accuracy: 0.5450\n",
            "Epoch 10/200\n",
            "125/125 [==============================] - 6s 52ms/step - loss: 0.2819 - accuracy: 0.5311 - val_loss: 1.6574 - val_accuracy: 0.5510\n",
            "Epoch 11/200\n",
            "125/125 [==============================] - 6s 46ms/step - loss: 0.2785 - accuracy: 0.5329 - val_loss: 1.6301 - val_accuracy: 0.5445\n",
            "Epoch 12/200\n",
            "125/125 [==============================] - 5s 40ms/step - loss: 0.2745 - accuracy: 0.5392 - val_loss: 1.6059 - val_accuracy: 0.5555\n",
            "Epoch 13/200\n",
            "125/125 [==============================] - 6s 51ms/step - loss: 0.2701 - accuracy: 0.5443 - val_loss: 1.5859 - val_accuracy: 0.5730\n",
            "Epoch 14/200\n",
            "125/125 [==============================] - 5s 41ms/step - loss: 0.2661 - accuracy: 0.5474 - val_loss: 1.5732 - val_accuracy: 0.5740\n",
            "Epoch 15/200\n",
            "125/125 [==============================] - 6s 52ms/step - loss: 0.2634 - accuracy: 0.5497 - val_loss: 1.6864 - val_accuracy: 0.5755\n",
            "Epoch 16/200\n",
            "125/125 [==============================] - 5s 40ms/step - loss: 0.2608 - accuracy: 0.5627 - val_loss: 1.6414 - val_accuracy: 0.5815\n",
            "Epoch 17/200\n",
            "125/125 [==============================] - 5s 42ms/step - loss: 0.2552 - accuracy: 0.5709 - val_loss: 1.5281 - val_accuracy: 0.5990\n",
            "Epoch 18/200\n",
            "125/125 [==============================] - 5s 40ms/step - loss: 0.2521 - accuracy: 0.5839 - val_loss: 1.4784 - val_accuracy: 0.5970\n",
            "Epoch 19/200\n",
            "125/125 [==============================] - 6s 51ms/step - loss: 0.2492 - accuracy: 0.5851 - val_loss: 1.4298 - val_accuracy: 0.5970\n",
            "Epoch 20/200\n",
            "125/125 [==============================] - 6s 51ms/step - loss: 0.2471 - accuracy: 0.5841 - val_loss: 1.3836 - val_accuracy: 0.6145\n",
            "Epoch 21/200\n",
            "125/125 [==============================] - 6s 45ms/step - loss: 0.2438 - accuracy: 0.5899 - val_loss: 1.4300 - val_accuracy: 0.6245\n",
            "Epoch 22/200\n",
            "125/125 [==============================] - 5s 40ms/step - loss: 0.2404 - accuracy: 0.5954 - val_loss: 1.2926 - val_accuracy: 0.6335\n",
            "Epoch 23/200\n",
            "125/125 [==============================] - 6s 51ms/step - loss: 0.2398 - accuracy: 0.5947 - val_loss: 1.3534 - val_accuracy: 0.6105\n",
            "Epoch 24/200\n",
            "125/125 [==============================] - 6s 50ms/step - loss: 0.2376 - accuracy: 0.5932 - val_loss: 1.2808 - val_accuracy: 0.6410\n",
            "Epoch 25/200\n",
            "125/125 [==============================] - 5s 40ms/step - loss: 0.2296 - accuracy: 0.6083 - val_loss: 1.2341 - val_accuracy: 0.6465\n",
            "Epoch 26/200\n",
            "125/125 [==============================] - 6s 50ms/step - loss: 0.2316 - accuracy: 0.6029 - val_loss: 1.2167 - val_accuracy: 0.6465\n",
            "Epoch 27/200\n",
            "125/125 [==============================] - 5s 42ms/step - loss: 0.2307 - accuracy: 0.6024 - val_loss: 1.2981 - val_accuracy: 0.6385\n",
            "Epoch 28/200\n",
            "125/125 [==============================] - 6s 49ms/step - loss: 0.2242 - accuracy: 0.6150 - val_loss: 1.2276 - val_accuracy: 0.6435\n",
            "Epoch 29/200\n",
            "125/125 [==============================] - 5s 40ms/step - loss: 0.2234 - accuracy: 0.6109 - val_loss: 1.2622 - val_accuracy: 0.6475\n",
            "Epoch 30/200\n",
            "125/125 [==============================] - 6s 50ms/step - loss: 0.2205 - accuracy: 0.6115 - val_loss: 1.2106 - val_accuracy: 0.6530\n",
            "Epoch 31/200\n",
            "125/125 [==============================] - 5s 40ms/step - loss: 0.2191 - accuracy: 0.6181 - val_loss: 1.2166 - val_accuracy: 0.6535\n",
            "Epoch 32/200\n",
            "125/125 [==============================] - 7s 53ms/step - loss: 0.2165 - accuracy: 0.6159 - val_loss: 1.1864 - val_accuracy: 0.6515\n",
            "Epoch 33/200\n",
            "125/125 [==============================] - 5s 42ms/step - loss: 0.2171 - accuracy: 0.6194 - val_loss: 1.1336 - val_accuracy: 0.6690\n",
            "Epoch 34/200\n",
            "125/125 [==============================] - 8s 68ms/step - loss: 0.2135 - accuracy: 0.6227 - val_loss: 1.1274 - val_accuracy: 0.6715\n",
            "Epoch 35/200\n",
            "125/125 [==============================] - 6s 45ms/step - loss: 0.2117 - accuracy: 0.6267 - val_loss: 1.2115 - val_accuracy: 0.6625\n",
            "Epoch 36/200\n",
            "125/125 [==============================] - 7s 58ms/step - loss: 0.2121 - accuracy: 0.6269 - val_loss: 1.1311 - val_accuracy: 0.6745\n",
            "Epoch 37/200\n",
            "125/125 [==============================] - 6s 44ms/step - loss: 0.2109 - accuracy: 0.6194 - val_loss: 1.1061 - val_accuracy: 0.6810\n",
            "Epoch 38/200\n",
            "125/125 [==============================] - 7s 53ms/step - loss: 0.2072 - accuracy: 0.6277 - val_loss: 1.1017 - val_accuracy: 0.6730\n",
            "Epoch 39/200\n",
            "125/125 [==============================] - 5s 41ms/step - loss: 0.2056 - accuracy: 0.6288 - val_loss: 1.0944 - val_accuracy: 0.6800\n",
            "Epoch 40/200\n",
            "125/125 [==============================] - 6s 51ms/step - loss: 0.2034 - accuracy: 0.6341 - val_loss: 1.1005 - val_accuracy: 0.6755\n",
            "Epoch 41/200\n",
            "125/125 [==============================] - 5s 41ms/step - loss: 0.2024 - accuracy: 0.6374 - val_loss: 1.0651 - val_accuracy: 0.6850\n",
            "Epoch 42/200\n",
            "125/125 [==============================] - 6s 52ms/step - loss: 0.2020 - accuracy: 0.6332 - val_loss: 1.0620 - val_accuracy: 0.6895\n",
            "Epoch 43/200\n",
            "125/125 [==============================] - 5s 40ms/step - loss: 0.1984 - accuracy: 0.6389 - val_loss: 1.0338 - val_accuracy: 0.6930\n",
            "Epoch 44/200\n",
            "125/125 [==============================] - 5s 42ms/step - loss: 0.1994 - accuracy: 0.6302 - val_loss: 1.0795 - val_accuracy: 0.6795\n",
            "Epoch 45/200\n",
            "125/125 [==============================] - 5s 41ms/step - loss: 0.1964 - accuracy: 0.6407 - val_loss: 1.0511 - val_accuracy: 0.6865\n",
            "Epoch 46/200\n",
            "125/125 [==============================] - 6s 51ms/step - loss: 0.1958 - accuracy: 0.6446 - val_loss: 1.0636 - val_accuracy: 0.6865\n",
            "Epoch 47/200\n",
            "125/125 [==============================] - 5s 42ms/step - loss: 0.1953 - accuracy: 0.6454 - val_loss: 1.0587 - val_accuracy: 0.6855\n",
            "Epoch 48/200\n",
            "125/125 [==============================] - 6s 49ms/step - loss: 0.1948 - accuracy: 0.6412 - val_loss: 1.0382 - val_accuracy: 0.6935\n",
            "Epoch 49/200\n",
            "125/125 [==============================] - 5s 41ms/step - loss: 0.1948 - accuracy: 0.6403 - val_loss: 1.0321 - val_accuracy: 0.6925\n",
            "Epoch 50/200\n",
            "125/125 [==============================] - 7s 52ms/step - loss: 0.1928 - accuracy: 0.6423 - val_loss: 1.0100 - val_accuracy: 0.7065\n",
            "Epoch 51/200\n",
            "125/125 [==============================] - 5s 40ms/step - loss: 0.1923 - accuracy: 0.6443 - val_loss: 1.1174 - val_accuracy: 0.6710\n",
            "Epoch 52/200\n",
            "125/125 [==============================] - 6s 51ms/step - loss: 0.1902 - accuracy: 0.6421 - val_loss: 1.0021 - val_accuracy: 0.7005\n",
            "Epoch 53/200\n",
            "125/125 [==============================] - 5s 40ms/step - loss: 0.1902 - accuracy: 0.6472 - val_loss: 1.0070 - val_accuracy: 0.7070\n",
            "Epoch 54/200\n",
            "125/125 [==============================] - 6s 52ms/step - loss: 0.1848 - accuracy: 0.6529 - val_loss: 0.9894 - val_accuracy: 0.6985\n",
            "Epoch 55/200\n",
            "125/125 [==============================] - 5s 41ms/step - loss: 0.1867 - accuracy: 0.6470 - val_loss: 0.9881 - val_accuracy: 0.7045\n",
            "Epoch 56/200\n",
            "125/125 [==============================] - 7s 52ms/step - loss: 0.1856 - accuracy: 0.6554 - val_loss: 0.9917 - val_accuracy: 0.6990\n",
            "Epoch 57/200\n",
            "125/125 [==============================] - 5s 43ms/step - loss: 0.1850 - accuracy: 0.6513 - val_loss: 1.0222 - val_accuracy: 0.7060\n",
            "Epoch 58/200\n",
            "125/125 [==============================] - 6s 50ms/step - loss: 0.1838 - accuracy: 0.6576 - val_loss: 0.9908 - val_accuracy: 0.7000\n",
            "Epoch 59/200\n",
            "125/125 [==============================] - 5s 43ms/step - loss: 0.1827 - accuracy: 0.6498 - val_loss: 0.9660 - val_accuracy: 0.7030\n",
            "Epoch 60/200\n",
            "125/125 [==============================] - 7s 53ms/step - loss: 0.1838 - accuracy: 0.6522 - val_loss: 0.9523 - val_accuracy: 0.7080\n",
            "Epoch 61/200\n",
            "125/125 [==============================] - 6s 49ms/step - loss: 0.1806 - accuracy: 0.6601 - val_loss: 0.9595 - val_accuracy: 0.7050\n",
            "Epoch 62/200\n",
            "125/125 [==============================] - 5s 44ms/step - loss: 0.1795 - accuracy: 0.6640 - val_loss: 1.0358 - val_accuracy: 0.7020\n",
            "Epoch 63/200\n",
            "125/125 [==============================] - 8s 61ms/step - loss: 0.1793 - accuracy: 0.6592 - val_loss: 0.9603 - val_accuracy: 0.7070\n",
            "Epoch 64/200\n",
            "125/125 [==============================] - 5s 41ms/step - loss: 0.1780 - accuracy: 0.6664 - val_loss: 0.9413 - val_accuracy: 0.7125\n",
            "Epoch 65/200\n",
            "125/125 [==============================] - 5s 42ms/step - loss: 0.1762 - accuracy: 0.6657 - val_loss: 0.9610 - val_accuracy: 0.7060\n",
            "Epoch 66/200\n",
            "125/125 [==============================] - 5s 43ms/step - loss: 0.1768 - accuracy: 0.6598 - val_loss: 0.9539 - val_accuracy: 0.7135\n",
            "Epoch 67/200\n",
            "125/125 [==============================] - 5s 42ms/step - loss: 0.1775 - accuracy: 0.6601 - val_loss: 0.9752 - val_accuracy: 0.7015\n",
            "Epoch 68/200\n",
            "125/125 [==============================] - 6s 52ms/step - loss: 0.1768 - accuracy: 0.6594 - val_loss: 0.9763 - val_accuracy: 0.7050\n",
            "Epoch 69/200\n",
            "125/125 [==============================] - 5s 41ms/step - loss: 0.1753 - accuracy: 0.6618 - val_loss: 0.9515 - val_accuracy: 0.7035\n",
            "Epoch 70/200\n",
            "125/125 [==============================] - 6s 48ms/step - loss: 0.1731 - accuracy: 0.6703 - val_loss: 0.9427 - val_accuracy: 0.7140\n",
            "Epoch 71/200\n",
            "125/125 [==============================] - 5s 41ms/step - loss: 0.1718 - accuracy: 0.6654 - val_loss: 1.0074 - val_accuracy: 0.7050\n",
            "Epoch 72/200\n",
            "125/125 [==============================] - 6s 51ms/step - loss: 0.1722 - accuracy: 0.6648 - val_loss: 0.9353 - val_accuracy: 0.7125\n",
            "Epoch 73/200\n",
            "125/125 [==============================] - 5s 41ms/step - loss: 0.1715 - accuracy: 0.6699 - val_loss: 1.0469 - val_accuracy: 0.7050\n",
            "Epoch 74/200\n",
            "125/125 [==============================] - 5s 43ms/step - loss: 0.1708 - accuracy: 0.6650 - val_loss: 0.9151 - val_accuracy: 0.7230\n",
            "Epoch 75/200\n",
            "125/125 [==============================] - 5s 43ms/step - loss: 0.1712 - accuracy: 0.6667 - val_loss: 0.9759 - val_accuracy: 0.7025\n",
            "Epoch 76/200\n",
            "125/125 [==============================] - 6s 51ms/step - loss: 0.1694 - accuracy: 0.6722 - val_loss: 0.9082 - val_accuracy: 0.7260\n",
            "Epoch 77/200\n",
            "125/125 [==============================] - 5s 41ms/step - loss: 0.1689 - accuracy: 0.6745 - val_loss: 0.9218 - val_accuracy: 0.7215\n",
            "Epoch 78/200\n",
            "125/125 [==============================] - 5s 41ms/step - loss: 0.1650 - accuracy: 0.6801 - val_loss: 0.9077 - val_accuracy: 0.7220\n",
            "Epoch 79/200\n",
            "125/125 [==============================] - 5s 43ms/step - loss: 0.1664 - accuracy: 0.6735 - val_loss: 0.9009 - val_accuracy: 0.7280\n",
            "Epoch 80/200\n",
            "125/125 [==============================] - 5s 43ms/step - loss: 0.1670 - accuracy: 0.6711 - val_loss: 0.9193 - val_accuracy: 0.7180\n",
            "Epoch 81/200\n",
            "125/125 [==============================] - 5s 41ms/step - loss: 0.1636 - accuracy: 0.6812 - val_loss: 0.9247 - val_accuracy: 0.7180\n",
            "Epoch 82/200\n",
            "125/125 [==============================] - 7s 53ms/step - loss: 0.1644 - accuracy: 0.6809 - val_loss: 0.9443 - val_accuracy: 0.7145\n",
            "Epoch 83/200\n",
            "125/125 [==============================] - 5s 43ms/step - loss: 0.1659 - accuracy: 0.6739 - val_loss: 0.9247 - val_accuracy: 0.7230\n",
            "Epoch 84/200\n",
            "125/125 [==============================] - 7s 52ms/step - loss: 0.1631 - accuracy: 0.6790 - val_loss: 0.9414 - val_accuracy: 0.7275\n",
            "Epoch 85/200\n",
            "125/125 [==============================] - 5s 42ms/step - loss: 0.1635 - accuracy: 0.6793 - val_loss: 0.8883 - val_accuracy: 0.7230\n",
            "Epoch 86/200\n",
            "125/125 [==============================] - 6s 50ms/step - loss: 0.1622 - accuracy: 0.6823 - val_loss: 0.9046 - val_accuracy: 0.7220\n",
            "Epoch 87/200\n",
            "125/125 [==============================] - 5s 42ms/step - loss: 0.1611 - accuracy: 0.6837 - val_loss: 0.8910 - val_accuracy: 0.7300\n",
            "Epoch 88/200\n",
            "125/125 [==============================] - 6s 51ms/step - loss: 0.1609 - accuracy: 0.6821 - val_loss: 0.8929 - val_accuracy: 0.7305\n",
            "Epoch 89/200\n",
            "125/125 [==============================] - 5s 41ms/step - loss: 0.1602 - accuracy: 0.6829 - val_loss: 0.8962 - val_accuracy: 0.7250\n",
            "Epoch 90/200\n",
            "125/125 [==============================] - 5s 40ms/step - loss: 0.1574 - accuracy: 0.6855 - val_loss: 0.8963 - val_accuracy: 0.7275\n",
            "Epoch 91/200\n",
            "125/125 [==============================] - 7s 53ms/step - loss: 0.1592 - accuracy: 0.6879 - val_loss: 0.8755 - val_accuracy: 0.7290\n",
            "Epoch 92/200\n",
            "125/125 [==============================] - 5s 40ms/step - loss: 0.1558 - accuracy: 0.6888 - val_loss: 0.8883 - val_accuracy: 0.7330\n",
            "Epoch 93/200\n",
            "125/125 [==============================] - 6s 46ms/step - loss: 0.1551 - accuracy: 0.6906 - val_loss: 0.8775 - val_accuracy: 0.7325\n",
            "Epoch 94/200\n",
            "125/125 [==============================] - 6s 46ms/step - loss: 0.1569 - accuracy: 0.6919 - val_loss: 0.8909 - val_accuracy: 0.7290\n",
            "Epoch 95/200\n",
            "125/125 [==============================] - 5s 41ms/step - loss: 0.1540 - accuracy: 0.6951 - val_loss: 0.8859 - val_accuracy: 0.7390\n",
            "Epoch 96/200\n",
            "125/125 [==============================] - 7s 53ms/step - loss: 0.1531 - accuracy: 0.6952 - val_loss: 0.9180 - val_accuracy: 0.7255\n",
            "Epoch 97/200\n",
            "125/125 [==============================] - 5s 42ms/step - loss: 0.1546 - accuracy: 0.6916 - val_loss: 0.8897 - val_accuracy: 0.7180\n",
            "Epoch 98/200\n",
            "125/125 [==============================] - 6s 49ms/step - loss: 0.1537 - accuracy: 0.6930 - val_loss: 0.8666 - val_accuracy: 0.7380\n",
            "Epoch 99/200\n",
            "125/125 [==============================] - 6s 52ms/step - loss: 0.1543 - accuracy: 0.6927 - val_loss: 0.8630 - val_accuracy: 0.7350\n",
            "Epoch 100/200\n",
            "125/125 [==============================] - 5s 41ms/step - loss: 0.1507 - accuracy: 0.7023 - val_loss: 0.9145 - val_accuracy: 0.7285\n",
            "Epoch 101/200\n",
            "125/125 [==============================] - 5s 43ms/step - loss: 0.1514 - accuracy: 0.6991 - val_loss: 0.8485 - val_accuracy: 0.7345\n",
            "Epoch 102/200\n",
            "125/125 [==============================] - 6s 49ms/step - loss: 0.1496 - accuracy: 0.7031 - val_loss: 0.8878 - val_accuracy: 0.7305\n",
            "Epoch 103/200\n",
            "125/125 [==============================] - 13s 102ms/step - loss: 0.1531 - accuracy: 0.6920 - val_loss: 0.8526 - val_accuracy: 0.7425\n",
            "Epoch 104/200\n",
            "125/125 [==============================] - 10s 84ms/step - loss: 0.1500 - accuracy: 0.7018 - val_loss: 0.9535 - val_accuracy: 0.7130\n",
            "Epoch 105/200\n",
            "125/125 [==============================] - 5s 40ms/step - loss: 0.1513 - accuracy: 0.6961 - val_loss: 0.8744 - val_accuracy: 0.7385\n",
            "Epoch 106/200\n",
            "125/125 [==============================] - 6s 49ms/step - loss: 0.1477 - accuracy: 0.7012 - val_loss: 0.8692 - val_accuracy: 0.7425\n",
            "Epoch 107/200\n",
            "125/125 [==============================] - 5s 41ms/step - loss: 0.1484 - accuracy: 0.7063 - val_loss: 0.8614 - val_accuracy: 0.7420\n",
            "Epoch 108/200\n",
            "125/125 [==============================] - 5s 41ms/step - loss: 0.1485 - accuracy: 0.7039 - val_loss: 0.8953 - val_accuracy: 0.7295\n",
            "Epoch 109/200\n",
            "125/125 [==============================] - 6s 50ms/step - loss: 0.1429 - accuracy: 0.7088 - val_loss: 0.8928 - val_accuracy: 0.7280\n",
            "Epoch 110/200\n",
            "125/125 [==============================] - 7s 53ms/step - loss: 0.1463 - accuracy: 0.7058 - val_loss: 0.9078 - val_accuracy: 0.7305\n",
            "Epoch 111/200\n",
            "125/125 [==============================] - 5s 41ms/step - loss: 0.1451 - accuracy: 0.7067 - val_loss: 0.8706 - val_accuracy: 0.7370\n",
            "Epoch 112/200\n",
            "125/125 [==============================] - 6s 51ms/step - loss: 0.1451 - accuracy: 0.7081 - val_loss: 0.8596 - val_accuracy: 0.7400\n",
            "Epoch 113/200\n",
            "125/125 [==============================] - 5s 42ms/step - loss: 0.1440 - accuracy: 0.7071 - val_loss: 0.8642 - val_accuracy: 0.7450\n",
            "Epoch 114/200\n",
            "125/125 [==============================] - 5s 39ms/step - loss: 0.1434 - accuracy: 0.7099 - val_loss: 0.8646 - val_accuracy: 0.7385\n",
            "Epoch 115/200\n",
            "125/125 [==============================] - 6s 51ms/step - loss: 0.1423 - accuracy: 0.7124 - val_loss: 0.8508 - val_accuracy: 0.7365\n",
            "Epoch 116/200\n",
            "125/125 [==============================] - 7s 57ms/step - loss: 0.1431 - accuracy: 0.7077 - val_loss: 0.9014 - val_accuracy: 0.7415\n",
            "Epoch 117/200\n",
            "125/125 [==============================] - 5s 39ms/step - loss: 0.1430 - accuracy: 0.7090 - val_loss: 0.8618 - val_accuracy: 0.7455\n",
            "Epoch 118/200\n",
            "125/125 [==============================] - 7s 52ms/step - loss: 0.1401 - accuracy: 0.7155 - val_loss: 0.8389 - val_accuracy: 0.7530\n",
            "Epoch 119/200\n",
            "125/125 [==============================] - 5s 40ms/step - loss: 0.1385 - accuracy: 0.7159 - val_loss: 0.8489 - val_accuracy: 0.7420\n",
            "Epoch 120/200\n",
            "125/125 [==============================] - 5s 42ms/step - loss: 0.1415 - accuracy: 0.7107 - val_loss: 0.8117 - val_accuracy: 0.7560\n",
            "Epoch 121/200\n",
            "125/125 [==============================] - 6s 48ms/step - loss: 0.1379 - accuracy: 0.7189 - val_loss: 0.8678 - val_accuracy: 0.7470\n",
            "Epoch 122/200\n",
            "125/125 [==============================] - 5s 40ms/step - loss: 0.1372 - accuracy: 0.7181 - val_loss: 0.8625 - val_accuracy: 0.7380\n",
            "Epoch 123/200\n",
            "125/125 [==============================] - 7s 54ms/step - loss: 0.1384 - accuracy: 0.7190 - val_loss: 0.8380 - val_accuracy: 0.7480\n",
            "Epoch 124/200\n",
            "125/125 [==============================] - 5s 41ms/step - loss: 0.1376 - accuracy: 0.7188 - val_loss: 0.8586 - val_accuracy: 0.7375\n",
            "Epoch 125/200\n",
            "125/125 [==============================] - 5s 40ms/step - loss: 0.1360 - accuracy: 0.7228 - val_loss: 0.8727 - val_accuracy: 0.7400\n",
            "Epoch 126/200\n",
            "125/125 [==============================] - 7s 52ms/step - loss: 0.1347 - accuracy: 0.7194 - val_loss: 0.8373 - val_accuracy: 0.7435\n",
            "Epoch 127/200\n",
            "125/125 [==============================] - 5s 41ms/step - loss: 0.1349 - accuracy: 0.7183 - val_loss: 0.8384 - val_accuracy: 0.7485\n",
            "Epoch 128/200\n",
            "125/125 [==============================] - 5s 40ms/step - loss: 0.1361 - accuracy: 0.7172 - val_loss: 0.8645 - val_accuracy: 0.7430\n",
            "Epoch 129/200\n",
            "125/125 [==============================] - 6s 51ms/step - loss: 0.1345 - accuracy: 0.7247 - val_loss: 0.8252 - val_accuracy: 0.7560\n"
          ]
        },
        {
          "output_type": "error",
          "ename": "KeyboardInterrupt",
          "evalue": "",
          "traceback": [
            "\u001b[0;31m---------------------------------------------------------------------------\u001b[0m",
            "\u001b[0;31mKeyboardInterrupt\u001b[0m                         Traceback (most recent call last)",
            "\u001b[0;32m<ipython-input-74-f597dbd7f04d>\u001b[0m in \u001b[0;36m<cell line: 1>\u001b[0;34m()\u001b[0m\n\u001b[0;32m----> 1\u001b[0;31m history_4 = model_4.fit(\n\u001b[0m\u001b[1;32m      2\u001b[0m     \u001b[0mtrain_generator\u001b[0m\u001b[0;34m,\u001b[0m\u001b[0;34m\u001b[0m\u001b[0;34m\u001b[0m\u001b[0m\n\u001b[1;32m      3\u001b[0m     \u001b[0mepochs\u001b[0m \u001b[0;34m=\u001b[0m \u001b[0;36m200\u001b[0m\u001b[0;34m,\u001b[0m\u001b[0;34m\u001b[0m\u001b[0;34m\u001b[0m\u001b[0m\n\u001b[1;32m      4\u001b[0m     \u001b[0mvalidation_data\u001b[0m \u001b[0;34m=\u001b[0m \u001b[0mvalidation_generator\u001b[0m\u001b[0;34m,\u001b[0m\u001b[0;34m\u001b[0m\u001b[0;34m\u001b[0m\u001b[0m\n\u001b[1;32m      5\u001b[0m     \u001b[0mclass_weight\u001b[0m \u001b[0;34m=\u001b[0m \u001b[0mclass_weight_dict\u001b[0m\u001b[0;34m\u001b[0m\u001b[0;34m\u001b[0m\u001b[0m\n",
            "\u001b[0;32m/usr/local/lib/python3.10/dist-packages/keras/src/utils/traceback_utils.py\u001b[0m in \u001b[0;36merror_handler\u001b[0;34m(*args, **kwargs)\u001b[0m\n\u001b[1;32m     63\u001b[0m         \u001b[0mfiltered_tb\u001b[0m \u001b[0;34m=\u001b[0m \u001b[0;32mNone\u001b[0m\u001b[0;34m\u001b[0m\u001b[0;34m\u001b[0m\u001b[0m\n\u001b[1;32m     64\u001b[0m         \u001b[0;32mtry\u001b[0m\u001b[0;34m:\u001b[0m\u001b[0;34m\u001b[0m\u001b[0;34m\u001b[0m\u001b[0m\n\u001b[0;32m---> 65\u001b[0;31m             \u001b[0;32mreturn\u001b[0m \u001b[0mfn\u001b[0m\u001b[0;34m(\u001b[0m\u001b[0;34m*\u001b[0m\u001b[0margs\u001b[0m\u001b[0;34m,\u001b[0m \u001b[0;34m**\u001b[0m\u001b[0mkwargs\u001b[0m\u001b[0;34m)\u001b[0m\u001b[0;34m\u001b[0m\u001b[0;34m\u001b[0m\u001b[0m\n\u001b[0m\u001b[1;32m     66\u001b[0m         \u001b[0;32mexcept\u001b[0m \u001b[0mException\u001b[0m \u001b[0;32mas\u001b[0m \u001b[0me\u001b[0m\u001b[0;34m:\u001b[0m\u001b[0;34m\u001b[0m\u001b[0;34m\u001b[0m\u001b[0m\n\u001b[1;32m     67\u001b[0m             \u001b[0mfiltered_tb\u001b[0m \u001b[0;34m=\u001b[0m \u001b[0m_process_traceback_frames\u001b[0m\u001b[0;34m(\u001b[0m\u001b[0me\u001b[0m\u001b[0;34m.\u001b[0m\u001b[0m__traceback__\u001b[0m\u001b[0;34m)\u001b[0m\u001b[0;34m\u001b[0m\u001b[0;34m\u001b[0m\u001b[0m\n",
            "\u001b[0;32m/usr/local/lib/python3.10/dist-packages/keras/src/engine/training.py\u001b[0m in \u001b[0;36mfit\u001b[0;34m(self, x, y, batch_size, epochs, verbose, callbacks, validation_split, validation_data, shuffle, class_weight, sample_weight, initial_epoch, steps_per_epoch, validation_steps, validation_batch_size, validation_freq, max_queue_size, workers, use_multiprocessing)\u001b[0m\n\u001b[1;32m   1793\u001b[0m             \u001b[0mlogs\u001b[0m \u001b[0;34m=\u001b[0m \u001b[0;32mNone\u001b[0m\u001b[0;34m\u001b[0m\u001b[0;34m\u001b[0m\u001b[0m\n\u001b[1;32m   1794\u001b[0m             \u001b[0;32mfor\u001b[0m \u001b[0mepoch\u001b[0m\u001b[0;34m,\u001b[0m \u001b[0miterator\u001b[0m \u001b[0;32min\u001b[0m \u001b[0mdata_handler\u001b[0m\u001b[0;34m.\u001b[0m\u001b[0menumerate_epochs\u001b[0m\u001b[0;34m(\u001b[0m\u001b[0;34m)\u001b[0m\u001b[0;34m:\u001b[0m\u001b[0;34m\u001b[0m\u001b[0;34m\u001b[0m\u001b[0m\n\u001b[0;32m-> 1795\u001b[0;31m                 \u001b[0mself\u001b[0m\u001b[0;34m.\u001b[0m\u001b[0mreset_metrics\u001b[0m\u001b[0;34m(\u001b[0m\u001b[0;34m)\u001b[0m\u001b[0;34m\u001b[0m\u001b[0;34m\u001b[0m\u001b[0m\n\u001b[0m\u001b[1;32m   1796\u001b[0m                 \u001b[0mcallbacks\u001b[0m\u001b[0;34m.\u001b[0m\u001b[0mon_epoch_begin\u001b[0m\u001b[0;34m(\u001b[0m\u001b[0mepoch\u001b[0m\u001b[0;34m)\u001b[0m\u001b[0;34m\u001b[0m\u001b[0;34m\u001b[0m\u001b[0m\n\u001b[1;32m   1797\u001b[0m                 \u001b[0;32mwith\u001b[0m \u001b[0mdata_handler\u001b[0m\u001b[0;34m.\u001b[0m\u001b[0mcatch_stop_iteration\u001b[0m\u001b[0;34m(\u001b[0m\u001b[0;34m)\u001b[0m\u001b[0;34m:\u001b[0m\u001b[0;34m\u001b[0m\u001b[0;34m\u001b[0m\u001b[0m\n",
            "\u001b[0;32m/usr/local/lib/python3.10/dist-packages/keras/src/engine/training.py\u001b[0m in \u001b[0;36mreset_metrics\u001b[0;34m(self)\u001b[0m\n\u001b[1;32m   2701\u001b[0m         \u001b[0;32mreturn\u001b[0m \u001b[0mtf_utils\u001b[0m\u001b[0;34m.\u001b[0m\u001b[0msync_to_numpy_or_python_type\u001b[0m\u001b[0;34m(\u001b[0m\u001b[0mall_outputs\u001b[0m\u001b[0;34m)\u001b[0m\u001b[0;34m\u001b[0m\u001b[0;34m\u001b[0m\u001b[0m\n\u001b[1;32m   2702\u001b[0m \u001b[0;34m\u001b[0m\u001b[0m\n\u001b[0;32m-> 2703\u001b[0;31m     \u001b[0;32mdef\u001b[0m \u001b[0mreset_metrics\u001b[0m\u001b[0;34m(\u001b[0m\u001b[0mself\u001b[0m\u001b[0;34m)\u001b[0m\u001b[0;34m:\u001b[0m\u001b[0;34m\u001b[0m\u001b[0;34m\u001b[0m\u001b[0m\n\u001b[0m\u001b[1;32m   2704\u001b[0m         \"\"\"Resets the state of all the metrics in the model.\n\u001b[1;32m   2705\u001b[0m \u001b[0;34m\u001b[0m\u001b[0m\n",
            "\u001b[0;31mKeyboardInterrupt\u001b[0m: "
          ]
        }
      ]
    },
    {
      "cell_type": "markdown",
      "source": [
        "## Model 4 Training Performance"
      ],
      "metadata": {
        "id": "vh3PqiR4JH9u"
      }
    },
    {
      "cell_type": "code",
      "source": [
        "plt.figure(figsize = (8,6))\n",
        "accuracy = history_4.history[\"accuracy\"]\n",
        "val_accuracy = history_4.history[\"val_accuracy\"]\n",
        "loss = history_4.history[\"loss\"]\n",
        "val_loss = history_4.history[\"val_loss\"]\n",
        "epochs = range(1, len(accuracy) + 1)\n",
        "\n",
        "plt.plot(epochs, accuracy, \"bo\", label = \"Training accuracy\", color = \"skyblue\")\n",
        "plt.plot(epochs, val_accuracy, \"b\", label = \"Validation accuracy\",color = \"orange\")\n",
        "plt.title(\"Training and validation accuracy\")\n",
        "plt.legend()\n",
        "\n",
        "plt.figure(figsize = (8,6))\n",
        "plt.plot(epochs, loss, \"bo\", label = \"Training loss\", color = \"skyblue\")\n",
        "plt.plot(epochs, val_loss, \"b\", label=\"Validation loss\", color = \"orange\")\n",
        "plt.title(\"Training and validation loss\")\n",
        "plt.legend()\n",
        "\n",
        "plt.show()"
      ],
      "metadata": {
        "id": "jWyXkhHRJH9u",
        "colab": {
          "base_uri": "https://localhost:8080/",
          "height": 1000
        },
        "outputId": "9ea348b9-d791-4755-e2dc-18528ab2fcfe"
      },
      "execution_count": 70,
      "outputs": [
        {
          "output_type": "stream",
          "name": "stderr",
          "text": [
            "<ipython-input-70-7b16ec24e35d>:8: UserWarning: color is redundantly defined by the 'color' keyword argument and the fmt string \"bo\" (-> color='b'). The keyword argument will take precedence.\n",
            "  plt.plot(epochs, accuracy, \"bo\", label = \"Training accuracy\", color = \"skyblue\")\n",
            "<ipython-input-70-7b16ec24e35d>:9: UserWarning: color is redundantly defined by the 'color' keyword argument and the fmt string \"b\" (-> color=(0.0, 0.0, 1.0, 1)). The keyword argument will take precedence.\n",
            "  plt.plot(epochs, val_accuracy, \"b\", label = \"Validation accuracy\",color = \"orange\")\n",
            "<ipython-input-70-7b16ec24e35d>:14: UserWarning: color is redundantly defined by the 'color' keyword argument and the fmt string \"bo\" (-> color='b'). The keyword argument will take precedence.\n",
            "  plt.plot(epochs, loss, \"bo\", label = \"Training loss\", color = \"skyblue\")\n",
            "<ipython-input-70-7b16ec24e35d>:15: UserWarning: color is redundantly defined by the 'color' keyword argument and the fmt string \"b\" (-> color=(0.0, 0.0, 1.0, 1)). The keyword argument will take precedence.\n",
            "  plt.plot(epochs, val_loss, \"b\", label=\"Validation loss\", color = \"orange\")\n"
          ]
        },
        {
          "output_type": "display_data",
          "data": {
            "text/plain": [
              "<Figure size 800x600 with 1 Axes>"
            ],
            "image/png": "[encoded data removed]"
          },
          "metadata": {}
        },
        {
          "output_type": "display_data",
          "data": {
            "text/plain": [
              "<Figure size 800x600 with 1 Axes>"
            ],
            "image/png": "[encoded data removed]"
          },
          "metadata": {}
        }
      ]
    },
    {
      "cell_type": "code",
      "source": [
        "model_4.evaluate(test_generator)"
      ],
      "metadata": {
        "id": "Msl-DJ8sJH9v",
        "colab": {
          "base_uri": "https://localhost:8080/"
        },
        "outputId": "770ffdca-b9be-4686-af36-e0887c7187bb"
      },
      "execution_count": 68,
      "outputs": [
        {
          "output_type": "stream",
          "name": "stdout",
          "text": [
            "16/16 [==============================] - 1s 30ms/step - loss: 1.2324 - accuracy: 0.7980\n"
          ]
        },
        {
          "output_type": "execute_result",
          "data": {
            "text/plain": [
              "[1.2323709726333618, 0.7979999780654907]"
            ]
          },
          "metadata": {},
          "execution_count": 68
        }
      ]
    },
    {
      "cell_type": "code",
      "source": [
        "\n",
        "for i in range(len(model_4.layers)):\n",
        "    layer = model_4.layers[i]\n",
        "    if 'conv' not in layer.name:\n",
        "        continue\n",
        "    print(i , layer.name , layer.output.shape)\n",
        "\n",
        "\n",
        "model_x = Model(inputs = model_4.inputs , outputs = model_4.layers[1].output)\n",
        "\n",
        "image = load_img(f'{path}/InfraredSolarModules/images/6796.jpg', target_size=(40,24))\n",
        "\n",
        "# convert the image to an array\n",
        "image = img_to_array(image)\n",
        "# expand dimensions so that it represents a single 'sample'\n",
        "image = expand_dims(image, axis=0)\n",
        "\n",
        "image = preprocess_input(image)\n",
        "\n",
        "#calculating features_map\n",
        "features = model_4.predict(image)\n",
        "\n",
        "\n",
        "'''\n",
        "fig = pyplot.figure(figsize=(20,15))\n",
        "\n",
        "for i in range(1,features.shape[3]+1):\n",
        "\n",
        "    pyplot.subplot(8,8,i)\n",
        "    pyplot.imshow(features[0,:,:,i-1] , cmap='gray')\n",
        "\n",
        "pyplot.show()\n",
        "'''"
      ],
      "metadata": {
        "colab": {
          "base_uri": "https://localhost:8080/",
          "height": 790
        },
        "id": "dpuX1lx6Xvos",
        "outputId": "ab4efb4e-8391-4652-e0c7-d88d5ed5ed47"
      },
      "execution_count": null,
      "outputs": [
        {
          "output_type": "stream",
          "name": "stdout",
          "text": [
            "0 conv2d_48 (None, 38, 22, 36)\n",
            "2 conv2d_49 (None, 18, 10, 64)\n",
            "4 conv2d_50 (None, 8, 4, 128)\n"
          ]
        },
        {
          "output_type": "error",
          "ename": "ValueError",
          "evalue": "in user code:\n\n    File \"/usr/local/lib/python3.10/dist-packages/keras/src/engine/training.py\", line 2440, in predict_function  *\n        return step_function(self, iterator)\n    File \"/usr/local/lib/python3.10/dist-packages/keras/src/engine/training.py\", line 2425, in step_function  **\n        outputs = model.distribute_strategy.run(run_step, args=(data,))\n    File \"/usr/local/lib/python3.10/dist-packages/keras/src/engine/training.py\", line 2413, in run_step  **\n        outputs = model.predict_step(data)\n    File \"/usr/local/lib/python3.10/dist-packages/keras/src/engine/training.py\", line 2381, in predict_step\n        return self(x, training=False)\n    File \"/usr/local/lib/python3.10/dist-packages/keras/src/utils/traceback_utils.py\", line 70, in error_handler\n        raise e.with_traceback(filtered_tb) from None\n    File \"/usr/local/lib/python3.10/dist-packages/keras/src/engine/input_spec.py\", line 280, in assert_input_compatibility\n        raise ValueError(\n\n    ValueError: Exception encountered when calling layer 'sequential_16' (type Sequential).\n    \n    Input 0 of layer \"conv2d_48\" is incompatible with the layer: expected axis -1 of input shape to have value 1, but received input with shape (None, 40, 24, 3)\n    \n    Call arguments received by layer 'sequential_16' (type Sequential):\n      • inputs=tf.Tensor(shape=(None, 40, 24, 3), dtype=float32)\n      • training=False\n      • mask=None\n",
          "traceback": [
            "\u001b[0;31m---------------------------------------------------------------------------\u001b[0m",
            "\u001b[0;31mValueError\u001b[0m                                Traceback (most recent call last)",
            "\u001b[0;32m<ipython-input-138-c7fb92623fa7>\u001b[0m in \u001b[0;36m<cell line: 20>\u001b[0;34m()\u001b[0m\n\u001b[1;32m     18\u001b[0m \u001b[0;34m\u001b[0m\u001b[0m\n\u001b[1;32m     19\u001b[0m \u001b[0;31m#calculating features_map\u001b[0m\u001b[0;34m\u001b[0m\u001b[0;34m\u001b[0m\u001b[0m\n\u001b[0;32m---> 20\u001b[0;31m \u001b[0mfeatures\u001b[0m \u001b[0;34m=\u001b[0m \u001b[0mmodel_4\u001b[0m\u001b[0;34m.\u001b[0m\u001b[0mpredict\u001b[0m\u001b[0;34m(\u001b[0m\u001b[0mimage\u001b[0m\u001b[0;34m)\u001b[0m\u001b[0;34m\u001b[0m\u001b[0;34m\u001b[0m\u001b[0m\n\u001b[0m\u001b[1;32m     21\u001b[0m \u001b[0;34m\u001b[0m\u001b[0m\n\u001b[1;32m     22\u001b[0m \u001b[0;34m\u001b[0m\u001b[0m\n",
            "\u001b[0;32m/usr/local/lib/python3.10/dist-packages/keras/src/utils/traceback_utils.py\u001b[0m in \u001b[0;36merror_handler\u001b[0;34m(*args, **kwargs)\u001b[0m\n\u001b[1;32m     68\u001b[0m             \u001b[0;31m# To get the full stack trace, call:\u001b[0m\u001b[0;34m\u001b[0m\u001b[0;34m\u001b[0m\u001b[0m\n\u001b[1;32m     69\u001b[0m             \u001b[0;31m# `tf.debugging.disable_traceback_filtering()`\u001b[0m\u001b[0;34m\u001b[0m\u001b[0;34m\u001b[0m\u001b[0m\n\u001b[0;32m---> 70\u001b[0;31m             \u001b[0;32mraise\u001b[0m \u001b[0me\u001b[0m\u001b[0;34m.\u001b[0m\u001b[0mwith_traceback\u001b[0m\u001b[0;34m(\u001b[0m\u001b[0mfiltered_tb\u001b[0m\u001b[0;34m)\u001b[0m \u001b[0;32mfrom\u001b[0m \u001b[0;32mNone\u001b[0m\u001b[0;34m\u001b[0m\u001b[0;34m\u001b[0m\u001b[0m\n\u001b[0m\u001b[1;32m     71\u001b[0m         \u001b[0;32mfinally\u001b[0m\u001b[0;34m:\u001b[0m\u001b[0;34m\u001b[0m\u001b[0;34m\u001b[0m\u001b[0m\n\u001b[1;32m     72\u001b[0m             \u001b[0;32mdel\u001b[0m \u001b[0mfiltered_tb\u001b[0m\u001b[0;34m\u001b[0m\u001b[0;34m\u001b[0m\u001b[0m\n",
            "\u001b[0;32m/usr/local/lib/python3.10/dist-packages/keras/src/engine/training.py\u001b[0m in \u001b[0;36mtf__predict_function\u001b[0;34m(iterator)\u001b[0m\n\u001b[1;32m     13\u001b[0m                 \u001b[0;32mtry\u001b[0m\u001b[0;34m:\u001b[0m\u001b[0;34m\u001b[0m\u001b[0;34m\u001b[0m\u001b[0m\n\u001b[1;32m     14\u001b[0m                     \u001b[0mdo_return\u001b[0m \u001b[0;34m=\u001b[0m \u001b[0;32mTrue\u001b[0m\u001b[0;34m\u001b[0m\u001b[0;34m\u001b[0m\u001b[0m\n\u001b[0;32m---> 15\u001b[0;31m                     \u001b[0mretval_\u001b[0m \u001b[0;34m=\u001b[0m \u001b[0mag__\u001b[0m\u001b[0;34m.\u001b[0m\u001b[0mconverted_call\u001b[0m\u001b[0;34m(\u001b[0m\u001b[0mag__\u001b[0m\u001b[0;34m.\u001b[0m\u001b[0mld\u001b[0m\u001b[0;34m(\u001b[0m\u001b[0mstep_function\u001b[0m\u001b[0;34m)\u001b[0m\u001b[0;34m,\u001b[0m \u001b[0;34m(\u001b[0m\u001b[0mag__\u001b[0m\u001b[0;34m.\u001b[0m\u001b[0mld\u001b[0m\u001b[0;34m(\u001b[0m\u001b[0mself\u001b[0m\u001b[0;34m)\u001b[0m\u001b[0;34m,\u001b[0m \u001b[0mag__\u001b[0m\u001b[0;34m.\u001b[0m\u001b[0mld\u001b[0m\u001b[0;34m(\u001b[0m\u001b[0miterator\u001b[0m\u001b[0;34m)\u001b[0m\u001b[0;34m)\u001b[0m\u001b[0;34m,\u001b[0m \u001b[0;32mNone\u001b[0m\u001b[0;34m,\u001b[0m \u001b[0mfscope\u001b[0m\u001b[0;34m)\u001b[0m\u001b[0;34m\u001b[0m\u001b[0;34m\u001b[0m\u001b[0m\n\u001b[0m\u001b[1;32m     16\u001b[0m                 \u001b[0;32mexcept\u001b[0m\u001b[0;34m:\u001b[0m\u001b[0;34m\u001b[0m\u001b[0;34m\u001b[0m\u001b[0m\n\u001b[1;32m     17\u001b[0m                     \u001b[0mdo_return\u001b[0m \u001b[0;34m=\u001b[0m \u001b[0;32mFalse\u001b[0m\u001b[0;34m\u001b[0m\u001b[0;34m\u001b[0m\u001b[0m\n",
            "\u001b[0;31mValueError\u001b[0m: in user code:\n\n    File \"/usr/local/lib/python3.10/dist-packages/keras/src/engine/training.py\", line 2440, in predict_function  *\n        return step_function(self, iterator)\n    File \"/usr/local/lib/python3.10/dist-packages/keras/src/engine/training.py\", line 2425, in step_function  **\n        outputs = model.distribute_strategy.run(run_step, args=(data,))\n    File \"/usr/local/lib/python3.10/dist-packages/keras/src/engine/training.py\", line 2413, in run_step  **\n        outputs = model.predict_step(data)\n    File \"/usr/local/lib/python3.10/dist-packages/keras/src/engine/training.py\", line 2381, in predict_step\n        return self(x, training=False)\n    File \"/usr/local/lib/python3.10/dist-packages/keras/src/utils/traceback_utils.py\", line 70, in error_handler\n        raise e.with_traceback(filtered_tb) from None\n    File \"/usr/local/lib/python3.10/dist-packages/keras/src/engine/input_spec.py\", line 280, in assert_input_compatibility\n        raise ValueError(\n\n    ValueError: Exception encountered when calling layer 'sequential_16' (type Sequential).\n    \n    Input 0 of layer \"conv2d_48\" is incompatible with the layer: expected axis -1 of input shape to have value 1, but received input with shape (None, 40, 24, 3)\n    \n    Call arguments received by layer 'sequential_16' (type Sequential):\n      • inputs=tf.Tensor(shape=(None, 40, 24, 3), dtype=float32)\n      • training=False\n      • mask=None\n"
          ]
        }
      ]
    },
    {
      "cell_type": "markdown",
      "source": [
        "## Confusion Matrix"
      ],
      "metadata": {
        "id": "aNXwd3iHJH9v"
      }
    },
    {
      "cell_type": "code",
      "source": [
        "x = list(train_generator.class_indices.keys())\n",
        "num_of_test_samples = 2000\n",
        "\n",
        "Y_pred = model_4.predict_generator(test_generator, num_of_test_samples // batch_size+1)\n",
        "y_pred = np.argmax(Y_pred, axis=1)\n",
        "print()\n",
        "print('Confusion Matrix')\n",
        "print(confusion_matrix(test_generator.classes, y_pred))\n",
        "\n",
        "print()\n",
        "print('Classification Report')\n",
        "target_names = x\n",
        "print(classification_report(test_generator.classes, y_pred, target_names = target_names))"
      ],
      "metadata": {
        "id": "GPZPp1_AJH9v",
        "colab": {
          "base_uri": "https://localhost:8080/"
        },
        "outputId": "1e457373-90d6-4629-925b-57dcf5d69601"
      },
      "execution_count": 69,
      "outputs": [
        {
          "output_type": "stream",
          "name": "stderr",
          "text": [
            "<ipython-input-69-2465422c318f>:4: UserWarning: `Model.predict_generator` is deprecated and will be removed in a future version. Please use `Model.predict`, which supports generators.\n",
            "  Y_pred = model_4.predict_generator(test_generator, num_of_test_samples // batch_size+1)\n"
          ]
        },
        {
          "output_type": "stream",
          "name": "stdout",
          "text": [
            "\n",
            "Confusion Matrix\n",
            "[[ 99  24   3   0   0   0   0  20   1   3   3  29]\n",
            " [ 27  52  21   1   0   2   0  12   1   8   2  15]\n",
            " [  5  15  47   2   0   0   1   3   0   1   6   5]\n",
            " [  0   0   0 146   0   0   0   2   0   1   0   0]\n",
            " [  0   0   0   3  14   0   0   1   0   0   0   0]\n",
            " [  0   1   0   1   0  16   2   2   2   0   0   1]\n",
            " [  0   0   1   0   1   5  13   4   0   2   0   0]\n",
            " [  4   1   0   6   0   0   0 977   7  17   0   5]\n",
            " [  0   1   1   0   0   0   0  33  58   0   0   0]\n",
            " [  0   1   2   0   0   1   3  12   2  74   1   2]\n",
            " [  2   0   1   0   0   0   2   1   1   1   6   1]\n",
            " [ 27   7   1   0   0   0   0  15   1   2   4  94]]\n",
            "\n",
            "Classification Report\n",
            "                precision    recall  f1-score   support\n",
            "\n",
            "          Cell       0.60      0.54      0.57       182\n",
            "    Cell-Multi       0.51      0.37      0.43       141\n",
            "      Cracking       0.61      0.55      0.58        85\n",
            "         Diode       0.92      0.98      0.95       149\n",
            "   Diode-Multi       0.93      0.78      0.85        18\n",
            "      Hot-Spot       0.67      0.64      0.65        25\n",
            "Hot-Spot-Multi       0.62      0.50      0.55        26\n",
            "    No-Anomaly       0.90      0.96      0.93      1017\n",
            "Offline-Module       0.79      0.62      0.70        93\n",
            "     Shadowing       0.68      0.76      0.71        98\n",
            "       Soiling       0.27      0.40      0.32        15\n",
            "    Vegetation       0.62      0.62      0.62       151\n",
            "\n",
            "      accuracy                           0.80      2000\n",
            "     macro avg       0.68      0.64      0.66      2000\n",
            "  weighted avg       0.79      0.80      0.79      2000\n",
            "\n"
          ]
        }
      ]
    },
    {
      "cell_type": "code",
      "source": [
        "cm = confusion_matrix(validation_generator.classes, y_pred)\n",
        "fig, ax = plt.subplots(figsize = (12,8))\n",
        "im = ax.imshow(cm, interpolation = 'nearest', cmap = plt.cm.Blues)\n",
        "title = 'Confusion matrix'\n",
        "ax.figure.colorbar(im, ax = ax)\n",
        "ax.set(xticks = np.arange(cm.shape[1]),\n",
        "    yticks=np.arange(cm.shape[0]),\n",
        "    xticklabels = target_names, yticklabels = target_names,\n",
        "    title=title,\n",
        "    ylabel ='True label',\n",
        "    xlabel ='Predicted label',\n",
        "    )\n",
        "plt.setp(ax.get_xticklabels(), rotation=45, ha = \"right\",\n",
        "             rotation_mode = \"anchor\")\n",
        "np.set_printoptions(precision = 2)\n",
        "plt.show()"
      ],
      "metadata": {
        "id": "gTnUgBgpJH9v"
      },
      "execution_count": null,
      "outputs": []
    },
    {
      "cell_type": "markdown",
      "source": [
        "# CNN Model 5 - Two-Category Model"
      ],
      "metadata": {
        "id": "6_2L0pAZEVCK"
      }
    },
    {
      "cell_type": "markdown",
      "source": [
        "## Create Train, Validation and Test DF"
      ],
      "metadata": {
        "id": "UeYgYP1hL-IR"
      }
    },
    {
      "cell_type": "code",
      "source": [
        "df_two_cat = df\n",
        "df_two_cat['anomaly_class'] = np.where((df_two_cat['anomaly_class'] != 'No-Anomaly'),'Anomaly',df_two_cat['anomaly_class'])\n",
        "df_two_cat"
      ],
      "metadata": {
        "colab": {
          "base_uri": "https://localhost:8080/",
          "height": 423
        },
        "id": "tNpwoXS4Eeb2",
        "outputId": "c3fea64f-4422-46ff-8f8e-c6373babf4f2"
      },
      "execution_count": null,
      "outputs": [
        {
          "output_type": "execute_result",
          "data": {
            "text/plain": [
              "         image_filepath anomaly_class image_name\n",
              "0          images/0.jpg       Anomaly      0.jpg\n",
              "1          images/1.jpg       Anomaly      1.jpg\n",
              "2          images/2.jpg       Anomaly      2.jpg\n",
              "3          images/3.jpg       Anomaly      3.jpg\n",
              "4          images/4.jpg       Anomaly      4.jpg\n",
              "...                 ...           ...        ...\n",
              "19995  images/19995.jpg    No-Anomaly  19995.jpg\n",
              "19996  images/19996.jpg    No-Anomaly  19996.jpg\n",
              "19997  images/19997.jpg    No-Anomaly  19997.jpg\n",
              "19998  images/19998.jpg    No-Anomaly  19998.jpg\n",
              "19999  images/19999.jpg    No-Anomaly  19999.jpg\n",
              "\n",
              "[20000 rows x 3 columns]"
            ],
            "text/html": [
              "\n",
              "  <div id=\"df-ea613dc2-4432-4bb6-a126-5a7fb9d0e416\" class=\"colab-df-container\">\n",
              "    <div>\n",
              "<style scoped>\n",
              "    .dataframe tbody tr th:only-of-type {\n",
              "        vertical-align: middle;\n",
              "    }\n",
              "\n",
              "    .dataframe tbody tr th {\n",
              "        vertical-align: top;\n",
              "    }\n",
              "\n",
              "    .dataframe thead th {\n",
              "        text-align: right;\n",
              "    }\n",
              "</style>\n",
              "<table border=\"1\" class=\"dataframe\">\n",
              "  <thead>\n",
              "    <tr style=\"text-align: right;\">\n",
              "      <th></th>\n",
              "      <th>image_filepath</th>\n",
              "      <th>anomaly_class</th>\n",
              "      <th>image_name</th>\n",
              "    </tr>\n",
              "  </thead>\n",
              "  <tbody>\n",
              "    <tr>\n",
              "      <th>0</th>\n",
              "      <td>images/0.jpg</td>\n",
              "      <td>Anomaly</td>\n",
              "      <td>0.jpg</td>\n",
              "    </tr>\n",
              "    <tr>\n",
              "      <th>1</th>\n",
              "      <td>images/1.jpg</td>\n",
              "      <td>Anomaly</td>\n",
              "      <td>1.jpg</td>\n",
              "    </tr>\n",
              "    <tr>\n",
              "      <th>2</th>\n",
              "      <td>images/2.jpg</td>\n",
              "      <td>Anomaly</td>\n",
              "      <td>2.jpg</td>\n",
              "    </tr>\n",
              "    <tr>\n",
              "      <th>3</th>\n",
              "      <td>images/3.jpg</td>\n",
              "      <td>Anomaly</td>\n",
              "      <td>3.jpg</td>\n",
              "    </tr>\n",
              "    <tr>\n",
              "      <th>4</th>\n",
              "      <td>images/4.jpg</td>\n",
              "      <td>Anomaly</td>\n",
              "      <td>4.jpg</td>\n",
              "    </tr>\n",
              "    <tr>\n",
              "      <th>...</th>\n",
              "      <td>...</td>\n",
              "      <td>...</td>\n",
              "      <td>...</td>\n",
              "    </tr>\n",
              "    <tr>\n",
              "      <th>19995</th>\n",
              "      <td>images/19995.jpg</td>\n",
              "      <td>No-Anomaly</td>\n",
              "      <td>19995.jpg</td>\n",
              "    </tr>\n",
              "    <tr>\n",
              "      <th>19996</th>\n",
              "      <td>images/19996.jpg</td>\n",
              "      <td>No-Anomaly</td>\n",
              "      <td>19996.jpg</td>\n",
              "    </tr>\n",
              "    <tr>\n",
              "      <th>19997</th>\n",
              "      <td>images/19997.jpg</td>\n",
              "      <td>No-Anomaly</td>\n",
              "      <td>19997.jpg</td>\n",
              "    </tr>\n",
              "    <tr>\n",
              "      <th>19998</th>\n",
              "      <td>images/19998.jpg</td>\n",
              "      <td>No-Anomaly</td>\n",
              "      <td>19998.jpg</td>\n",
              "    </tr>\n",
              "    <tr>\n",
              "      <th>19999</th>\n",
              "      <td>images/19999.jpg</td>\n",
              "      <td>No-Anomaly</td>\n",
              "      <td>19999.jpg</td>\n",
              "    </tr>\n",
              "  </tbody>\n",
              "</table>\n",
              "<p>20000 rows × 3 columns</p>\n",
              "</div>\n",
              "    <div class=\"colab-df-buttons\">\n",
              "\n",
              "  <div class=\"colab-df-container\">\n",
              "    <button class=\"colab-df-convert\" onclick=\"convertToInteractive('df-ea613dc2-4432-4bb6-a126-5a7fb9d0e416')\"\n",
              "            title=\"Convert this dataframe to an interactive table.\"\n",
              "            style=\"display:none;\">\n",
              "\n",
              "  <svg xmlns=\"http://www.w3.org/2000/svg\" height=\"24px\" viewBox=\"0 -960 960 960\">\n",
              "    <path d=\"M120-120v-720h720v720H120Zm60-500h600v-160H180v160Zm220 220h160v-160H400v160Zm0 220h160v-160H400v160ZM180-400h160v-160H180v160Zm440 0h160v-160H620v160ZM180-180h160v-160H180v160Zm440 0h160v-160H620v160Z\"/>\n",
              "  </svg>\n",
              "    </button>\n",
              "\n",
              "  <style>\n",
              "    .colab-df-container {\n",
              "      display:flex;\n",
              "      gap: 12px;\n",
              "    }\n",
              "\n",
              "    .colab-df-convert {\n",
              "      background-color: #E8F0FE;\n",
              "      border: none;\n",
              "      border-radius: 50%;\n",
              "      cursor: pointer;\n",
              "      display: none;\n",
              "      fill: #1967D2;\n",
              "      height: 32px;\n",
              "      padding: 0 0 0 0;\n",
              "      width: 32px;\n",
              "    }\n",
              "\n",
              "    .colab-df-convert:hover {\n",
              "      background-color: #E2EBFA;\n",
              "      box-shadow: 0px 1px 2px rgba(60, 64, 67, 0.3), 0px 1px 3px 1px rgba(60, 64, 67, 0.15);\n",
              "      fill: #174EA6;\n",
              "    }\n",
              "\n",
              "    .colab-df-buttons div {\n",
              "      margin-bottom: 4px;\n",
              "    }\n",
              "\n",
              "    [theme=dark] .colab-df-convert {\n",
              "      background-color: #3B4455;\n",
              "      fill: #D2E3FC;\n",
              "    }\n",
              "\n",
              "    [theme=dark] .colab-df-convert:hover {\n",
              "      background-color: #434B5C;\n",
              "      box-shadow: 0px 1px 3px 1px rgba(0, 0, 0, 0.15);\n",
              "      filter: drop-shadow(0px 1px 2px rgba(0, 0, 0, 0.3));\n",
              "      fill: #FFFFFF;\n",
              "    }\n",
              "  </style>\n",
              "\n",
              "    <script>\n",
              "      const buttonEl =\n",
              "        document.querySelector('#df-ea613dc2-4432-4bb6-a126-5a7fb9d0e416 button.colab-df-convert');\n",
              "      buttonEl.style.display =\n",
              "        google.colab.kernel.accessAllowed ? 'block' : 'none';\n",
              "\n",
              "      async function convertToInteractive(key) {\n",
              "        const element = document.querySelector('#df-ea613dc2-4432-4bb6-a126-5a7fb9d0e416');\n",
              "        const dataTable =\n",
              "          await google.colab.kernel.invokeFunction('convertToInteractive',\n",
              "                                                    [key], {});\n",
              "        if (!dataTable) return;\n",
              "\n",
              "        const docLinkHtml = 'Like what you see? Visit the ' +\n",
              "          '<a target=\"_blank\" href=https://colab.research.google.com/notebooks/data_table.ipynb>data table notebook</a>'\n",
              "          + ' to learn more about interactive tables.';\n",
              "        element.innerHTML = '';\n",
              "        dataTable['output_type'] = 'display_data';\n",
              "        await google.colab.output.renderOutput(dataTable, element);\n",
              "        const docLink = document.createElement('div');\n",
              "        docLink.innerHTML = docLinkHtml;\n",
              "        element.appendChild(docLink);\n",
              "      }\n",
              "    </script>\n",
              "  </div>\n",
              "\n",
              "\n",
              "<div id=\"df-36864323-9be7-42bb-9680-8b1c1ccca478\">\n",
              "  <button class=\"colab-df-quickchart\" onclick=\"quickchart('df-36864323-9be7-42bb-9680-8b1c1ccca478')\"\n",
              "            title=\"Suggest charts\"\n",
              "            style=\"display:none;\">\n",
              "\n",
              "<svg xmlns=\"http://www.w3.org/2000/svg\" height=\"24px\"viewBox=\"0 0 24 24\"\n",
              "     width=\"24px\">\n",
              "    <g>\n",
              "        <path d=\"M19 3H5c-1.1 0-2 .9-2 2v14c0 1.1.9 2 2 2h14c1.1 0 2-.9 2-2V5c0-1.1-.9-2-2-2zM9 17H7v-7h2v7zm4 0h-2V7h2v10zm4 0h-2v-4h2v4z\"/>\n",
              "    </g>\n",
              "</svg>\n",
              "  </button>\n",
              "\n",
              "<style>\n",
              "  .colab-df-quickchart {\n",
              "      --bg-color: #E8F0FE;\n",
              "      --fill-color: #1967D2;\n",
              "      --hover-bg-color: #E2EBFA;\n",
              "      --hover-fill-color: #174EA6;\n",
              "      --disabled-fill-color: #AAA;\n",
              "      --disabled-bg-color: #DDD;\n",
              "  }\n",
              "\n",
              "  [theme=dark] .colab-df-quickchart {\n",
              "      --bg-color: #3B4455;\n",
              "      --fill-color: #D2E3FC;\n",
              "      --hover-bg-color: #434B5C;\n",
              "      --hover-fill-color: #FFFFFF;\n",
              "      --disabled-bg-color: #3B4455;\n",
              "      --disabled-fill-color: #666;\n",
              "  }\n",
              "\n",
              "  .colab-df-quickchart {\n",
              "    background-color: var(--bg-color);\n",
              "    border: none;\n",
              "    border-radius: 50%;\n",
              "    cursor: pointer;\n",
              "    display: none;\n",
              "    fill: var(--fill-color);\n",
              "    height: 32px;\n",
              "    padding: 0;\n",
              "    width: 32px;\n",
              "  }\n",
              "\n",
              "  .colab-df-quickchart:hover {\n",
              "    background-color: var(--hover-bg-color);\n",
              "    box-shadow: 0 1px 2px rgba(60, 64, 67, 0.3), 0 1px 3px 1px rgba(60, 64, 67, 0.15);\n",
              "    fill: var(--button-hover-fill-color);\n",
              "  }\n",
              "\n",
              "  .colab-df-quickchart-complete:disabled,\n",
              "  .colab-df-quickchart-complete:disabled:hover {\n",
              "    background-color: var(--disabled-bg-color);\n",
              "    fill: var(--disabled-fill-color);\n",
              "    box-shadow: none;\n",
              "  }\n",
              "\n",
              "  .colab-df-spinner {\n",
              "    border: 2px solid var(--fill-color);\n",
              "    border-color: transparent;\n",
              "    border-bottom-color: var(--fill-color);\n",
              "    animation:\n",
              "      spin 1s steps(1) infinite;\n",
              "  }\n",
              "\n",
              "  @keyframes spin {\n",
              "    0% {\n",
              "      border-color: transparent;\n",
              "      border-bottom-color: var(--fill-color);\n",
              "      border-left-color: var(--fill-color);\n",
              "    }\n",
              "    20% {\n",
              "      border-color: transparent;\n",
              "      border-left-color: var(--fill-color);\n",
              "      border-top-color: var(--fill-color);\n",
              "    }\n",
              "    30% {\n",
              "      border-color: transparent;\n",
              "      border-left-color: var(--fill-color);\n",
              "      border-top-color: var(--fill-color);\n",
              "      border-right-color: var(--fill-color);\n",
              "    }\n",
              "    40% {\n",
              "      border-color: transparent;\n",
              "      border-right-color: var(--fill-color);\n",
              "      border-top-color: var(--fill-color);\n",
              "    }\n",
              "    60% {\n",
              "      border-color: transparent;\n",
              "      border-right-color: var(--fill-color);\n",
              "    }\n",
              "    80% {\n",
              "      border-color: transparent;\n",
              "      border-right-color: var(--fill-color);\n",
              "      border-bottom-color: var(--fill-color);\n",
              "    }\n",
              "    90% {\n",
              "      border-color: transparent;\n",
              "      border-bottom-color: var(--fill-color);\n",
              "    }\n",
              "  }\n",
              "</style>\n",
              "\n",
              "  <script>\n",
              "    async function quickchart(key) {\n",
              "      const quickchartButtonEl =\n",
              "        document.querySelector('#' + key + ' button');\n",
              "      quickchartButtonEl.disabled = true;  // To prevent multiple clicks.\n",
              "      quickchartButtonEl.classList.add('colab-df-spinner');\n",
              "      try {\n",
              "        const charts = await google.colab.kernel.invokeFunction(\n",
              "            'suggestCharts', [key], {});\n",
              "      } catch (error) {\n",
              "        console.error('Error during call to suggestCharts:', error);\n",
              "      }\n",
              "      quickchartButtonEl.classList.remove('colab-df-spinner');\n",
              "      quickchartButtonEl.classList.add('colab-df-quickchart-complete');\n",
              "    }\n",
              "    (() => {\n",
              "      let quickchartButtonEl =\n",
              "        document.querySelector('#df-36864323-9be7-42bb-9680-8b1c1ccca478 button');\n",
              "      quickchartButtonEl.style.display =\n",
              "        google.colab.kernel.accessAllowed ? 'block' : 'none';\n",
              "    })();\n",
              "  </script>\n",
              "</div>\n",
              "    </div>\n",
              "  </div>\n"
            ],
            "application/vnd.google.colaboratory.intrinsic+json": {
              "type": "dataframe",
              "variable_name": "df",
              "summary": "{\n  \"name\": \"df\",\n  \"rows\": 20000,\n  \"fields\": [\n    {\n      \"column\": \"image_filepath\",\n      \"properties\": {\n        \"dtype\": \"string\",\n        \"num_unique_values\": 20000,\n        \"samples\": [\n          \"images/10650.jpg\",\n          \"images/2041.jpg\",\n          \"images/8668.jpg\"\n        ],\n        \"semantic_type\": \"\",\n        \"description\": \"\"\n      }\n    },\n    {\n      \"column\": \"anomaly_class\",\n      \"properties\": {\n        \"dtype\": \"category\",\n        \"num_unique_values\": 2,\n        \"samples\": [\n          \"No-Anomaly\",\n          \"Anomaly\"\n        ],\n        \"semantic_type\": \"\",\n        \"description\": \"\"\n      }\n    },\n    {\n      \"column\": \"image_name\",\n      \"properties\": {\n        \"dtype\": \"string\",\n        \"num_unique_values\": 20000,\n        \"samples\": [\n          \"10650.jpg\",\n          \"2041.jpg\"\n        ],\n        \"semantic_type\": \"\",\n        \"description\": \"\"\n      }\n    }\n  ]\n}"
            }
          },
          "metadata": {},
          "execution_count": 94
        }
      ]
    },
    {
      "cell_type": "code",
      "source": [
        "# Split data into df with 0.8/0.1/0.1 ratio\n",
        "\n",
        "reduced_df_two_cat = df_two_cat.sample(frac = 1, random_state = 200) # random -> seed value\n",
        "train_df_two_cat = reduced_df_two_cat.sample(frac = 0.8,random_state = 200)\n",
        "validation_test_df_two_cat = reduced_df_two_cat.drop(train_df_two_cat.index)\n",
        "validation_df_two_cat = validation_test_df_two_cat.sample(frac = 0.5,random_state = 200)\n",
        "\n",
        "test_df_two_cat=validation_test_df_two_cat.drop(validation_df_two_cat.index)\n",
        "\n",
        "print(train_df_two_cat.info())\n",
        "print(validation_df_two_cat.info())\n",
        "\n",
        "test_df_two_cat.info()"
      ],
      "metadata": {
        "colab": {
          "base_uri": "https://localhost:8080/"
        },
        "id": "okAalNxBKhHH",
        "outputId": "32953be1-c667-44cf-dc4b-90cf5994889f"
      },
      "execution_count": null,
      "outputs": [
        {
          "output_type": "stream",
          "name": "stdout",
          "text": [
            "<class 'pandas.core.frame.DataFrame'>\n",
            "Int64Index: 16000 entries, 6173 to 19483\n",
            "Data columns (total 3 columns):\n",
            " #   Column          Non-Null Count  Dtype \n",
            "---  ------          --------------  ----- \n",
            " 0   image_filepath  16000 non-null  object\n",
            " 1   anomaly_class   16000 non-null  object\n",
            " 2   image_name      16000 non-null  object\n",
            "dtypes: object(3)\n",
            "memory usage: 500.0+ KB\n",
            "None\n",
            "<class 'pandas.core.frame.DataFrame'>\n",
            "Int64Index: 2000 entries, 11758 to 6277\n",
            "Data columns (total 3 columns):\n",
            " #   Column          Non-Null Count  Dtype \n",
            "---  ------          --------------  ----- \n",
            " 0   image_filepath  2000 non-null   object\n",
            " 1   anomaly_class   2000 non-null   object\n",
            " 2   image_name      2000 non-null   object\n",
            "dtypes: object(3)\n",
            "memory usage: 62.5+ KB\n",
            "None\n",
            "<class 'pandas.core.frame.DataFrame'>\n",
            "Int64Index: 2000 entries, 8571 to 11343\n",
            "Data columns (total 3 columns):\n",
            " #   Column          Non-Null Count  Dtype \n",
            "---  ------          --------------  ----- \n",
            " 0   image_filepath  2000 non-null   object\n",
            " 1   anomaly_class   2000 non-null   object\n",
            " 2   image_name      2000 non-null   object\n",
            "dtypes: object(3)\n",
            "memory usage: 62.5+ KB\n"
          ]
        }
      ]
    },
    {
      "cell_type": "code",
      "source": [
        "# Set up train, validation and test generator\n",
        "\n",
        "image_height = 40\n",
        "image_width = 24\n",
        "batch_size = 32\n",
        "datagen_train=ImageDataGenerator(rescale = 1./255)\n",
        "datagen_validation=ImageDataGenerator(rescale = 1./255)\n",
        "\n",
        "\n",
        "train_generator_2 = datagen_train.flow_from_dataframe(\n",
        "    dataframe = train_df_two_cat,\n",
        "    directory = \"/content/InfraredSolarModules/images/\",\n",
        "    x_col = \"image_name\",\n",
        "    y_col = \"anomaly_class\",\n",
        "    class_mode = \"categorical\",\n",
        "    target_size = (image_height, image_width),\n",
        "    batch_size = batch_size,\n",
        "    color_mode = \"grayscale\",\n",
        "    shuffle = False\n",
        ")\n",
        "\n",
        "validation_generator_2 = datagen_validation.flow_from_dataframe(\n",
        "    dataframe = validation_df_two_cat,\n",
        "    directory = \"/content/InfraredSolarModules/images/\",\n",
        "    x_col = \"image_name\",\n",
        "    y_col = \"anomaly_class\",\n",
        "    class_mode = \"categorical\",\n",
        "    target_size = (image_height, image_width),\n",
        "    batch_size = batch_size,\n",
        "    color_mode = \"grayscale\",\n",
        "    shuffle = False\n",
        ")\n",
        "\n",
        "test_generator_2 = datagen_validation.flow_from_dataframe(\n",
        "    dataframe = test_df_two_cat,\n",
        "    directory = \"/content/InfraredSolarModules/images/\",\n",
        "    x_col = \"image_name\",\n",
        "    y_col = \"anomaly_class\",\n",
        "    class_mode = \"categorical\",\n",
        "    target_size = (image_height, image_width),\n",
        "    batch_size = batch_size,\n",
        "    color_mode = \"grayscale\",\n",
        "    shuffle = False\n",
        ")\n"
      ],
      "metadata": {
        "colab": {
          "base_uri": "https://localhost:8080/"
        },
        "id": "uUOcn0dGK21N",
        "outputId": "4c5ec350-d510-4456-9905-8c50e2d2ca19"
      },
      "execution_count": null,
      "outputs": [
        {
          "output_type": "stream",
          "name": "stdout",
          "text": [
            "Found 16000 validated image filenames belonging to 2 classes.\n",
            "Found 2000 validated image filenames belonging to 2 classes.\n",
            "Found 2000 validated image filenames belonging to 2 classes.\n"
          ]
        }
      ]
    },
    {
      "cell_type": "markdown",
      "source": [
        "## Build Model 5"
      ],
      "metadata": {
        "id": "IiMbG2vUL3u5"
      }
    },
    {
      "cell_type": "code",
      "source": [
        "batch_size = 32\n",
        "image_height = 40\n",
        "image_width = 24\n",
        "num_classes = 2\n",
        "\n",
        "model_5 = Sequential()\n",
        "model_5.add(Conv2D(filters = 32, kernel_size=(3,3), input_shape=(image_height, image_width, 1)))\n",
        "model_5.add(Activation('relu'))\n",
        "model_5.add(MaxPooling2D(pool_size= (2,2)))\n",
        "\n",
        "model_5.add(Conv2D(filters = 64, kernel_size=(3,3)))\n",
        "model_5.add(Activation('relu'))\n",
        "model_5.add(MaxPooling2D(pool_size = (2,2)))\n",
        "\n",
        "model_5.add(Conv2D(filters = 128, kernel_size=(3,3)))\n",
        "model_5.add(Activation('relu'))\n",
        "model_5.add(MaxPooling2D(pool_size = (2,2)))\n",
        "\n",
        "model_5.add(Flatten())\n",
        "model_5.add(Dropout(0.3))\n",
        "model_5.add(Dense(num_classes))\n",
        "model_5.add(Activation('softmax'))\n",
        "\n",
        "model_5.compile(loss='categorical_crossentropy',\n",
        "              optimizer=tf.keras.optimizers.Adam(1e-3),\n",
        "              metrics=['accuracy'])\n",
        "model_5.summary()"
      ],
      "metadata": {
        "colab": {
          "base_uri": "https://localhost:8080/"
        },
        "id": "ElIvhpdCLHfb",
        "outputId": "5a9ee8ad-0ff4-403b-a110-18f641712202"
      },
      "execution_count": null,
      "outputs": [
        {
          "output_type": "stream",
          "name": "stdout",
          "text": [
            "Model: \"sequential_11\"\n",
            "_________________________________________________________________\n",
            " Layer (type)                Output Shape              Param #   \n",
            "=================================================================\n",
            " conv2d_33 (Conv2D)          (None, 38, 22, 32)        320       \n",
            "                                                                 \n",
            " activation_44 (Activation)  (None, 38, 22, 32)        0         \n",
            "                                                                 \n",
            " max_pooling2d_33 (MaxPooli  (None, 19, 11, 32)        0         \n",
            " ng2D)                                                           \n",
            "                                                                 \n",
            " conv2d_34 (Conv2D)          (None, 17, 9, 64)         18496     \n",
            "                                                                 \n",
            " activation_45 (Activation)  (None, 17, 9, 64)         0         \n",
            "                                                                 \n",
            " max_pooling2d_34 (MaxPooli  (None, 8, 4, 64)          0         \n",
            " ng2D)                                                           \n",
            "                                                                 \n",
            " conv2d_35 (Conv2D)          (None, 6, 2, 128)         73856     \n",
            "                                                                 \n",
            " activation_46 (Activation)  (None, 6, 2, 128)         0         \n",
            "                                                                 \n",
            " max_pooling2d_35 (MaxPooli  (None, 3, 1, 128)         0         \n",
            " ng2D)                                                           \n",
            "                                                                 \n",
            " flatten_11 (Flatten)        (None, 384)               0         \n",
            "                                                                 \n",
            " dropout_10 (Dropout)        (None, 384)               0         \n",
            "                                                                 \n",
            " dense_11 (Dense)            (None, 2)                 770       \n",
            "                                                                 \n",
            " activation_47 (Activation)  (None, 2)                 0         \n",
            "                                                                 \n",
            "=================================================================\n",
            "Total params: 93442 (365.01 KB)\n",
            "Trainable params: 93442 (365.01 KB)\n",
            "Non-trainable params: 0 (0.00 Byte)\n",
            "_________________________________________________________________\n"
          ]
        }
      ]
    },
    {
      "cell_type": "code",
      "source": [
        "# Visualize Model\n",
        "\n",
        "visualkeras.layered_view(model_5, legend=True)\n",
        "\n",
        "color_map = defaultdict(dict)\n",
        "color_map[layers.Conv2D]['fill'] = 'skyblue'\n",
        "color_map[layers.MaxPooling2D]['fill'] = 'green'\n",
        "color_map[layers.Dropout]['fill'] = 'red'\n",
        "color_map[layers.Dense]['fill'] = 'orange'\n",
        "color_map[layers.Flatten]['fill'] = 'grey'\n",
        "color_map[layers.Activation]['fill'] = 'yellow'\n",
        "visualkeras.layered_view(model_5, legend=True, color_map = color_map)"
      ],
      "metadata": {
        "colab": {
          "base_uri": "https://localhost:8080/",
          "height": 218
        },
        "id": "UOLpjOS7OylA",
        "outputId": "b978b04c-8918-4173-c7f7-7c9f9d98299f"
      },
      "execution_count": null,
      "outputs": [
        {
          "output_type": "execute_result",
          "data": {
            "text/plain": [
              "<PIL.Image.Image image mode=RGBA size=466x201>"
            ],
            "image/png": "[encoded data removed]"
          },
          "metadata": {},
          "execution_count": 73
        }
      ]
    },
    {
      "cell_type": "markdown",
      "source": [
        "## Train Model 5"
      ],
      "metadata": {
        "id": "0hae-ifWLzLr"
      }
    },
    {
      "cell_type": "code",
      "source": [
        "history_5 = model_5.fit(\n",
        "    train_generator_2,\n",
        "    epochs = 80,\n",
        "    validation_data = validation_generator_2\n",
        " )\n",
        "\n",
        "#model_5.save(\"/content/drive/My Drive/Colab Notebooks/models/pv_classification/model_5\")"
      ],
      "metadata": {
        "colab": {
          "base_uri": "https://localhost:8080/"
        },
        "id": "2kz9fX37LmEk",
        "outputId": "29bdc65c-535e-42fe-9350-1775b4a3c53b"
      },
      "execution_count": null,
      "outputs": [
        {
          "output_type": "stream",
          "name": "stdout",
          "text": [
            "Epoch 1/80\n",
            "500/500 [==============================] - 13s 20ms/step - loss: 0.6626 - accuracy: 0.5885 - val_loss: 0.5885 - val_accuracy: 0.6655\n",
            "Epoch 2/80\n",
            "500/500 [==============================] - 7s 14ms/step - loss: 0.5211 - accuracy: 0.7355 - val_loss: 0.4727 - val_accuracy: 0.7745\n",
            "Epoch 3/80\n",
            "500/500 [==============================] - 7s 13ms/step - loss: 0.4616 - accuracy: 0.7782 - val_loss: 0.4623 - val_accuracy: 0.7840\n",
            "Epoch 4/80\n",
            "500/500 [==============================] - 8s 16ms/step - loss: 0.4415 - accuracy: 0.7956 - val_loss: 0.4326 - val_accuracy: 0.8020\n",
            "Epoch 5/80\n",
            "500/500 [==============================] - 7s 14ms/step - loss: 0.4155 - accuracy: 0.8111 - val_loss: 0.4229 - val_accuracy: 0.8060\n",
            "Epoch 6/80\n",
            "500/500 [==============================] - 8s 16ms/step - loss: 0.4021 - accuracy: 0.8214 - val_loss: 0.4120 - val_accuracy: 0.8220\n",
            "Epoch 7/80\n",
            "500/500 [==============================] - 7s 14ms/step - loss: 0.3933 - accuracy: 0.8266 - val_loss: 0.4008 - val_accuracy: 0.8245\n",
            "Epoch 8/80\n",
            "500/500 [==============================] - 7s 14ms/step - loss: 0.3762 - accuracy: 0.8342 - val_loss: 0.3990 - val_accuracy: 0.8400\n",
            "Epoch 9/80\n",
            "500/500 [==============================] - 8s 17ms/step - loss: 0.3669 - accuracy: 0.8392 - val_loss: 0.3796 - val_accuracy: 0.8415\n",
            "Epoch 10/80\n",
            "500/500 [==============================] - 7s 14ms/step - loss: 0.3573 - accuracy: 0.8493 - val_loss: 0.3776 - val_accuracy: 0.8480\n",
            "Epoch 11/80\n",
            "500/500 [==============================] - 7s 14ms/step - loss: 0.3488 - accuracy: 0.8555 - val_loss: 0.3666 - val_accuracy: 0.8545\n",
            "Epoch 12/80\n",
            "500/500 [==============================] - 9s 18ms/step - loss: 0.3423 - accuracy: 0.8586 - val_loss: 0.3680 - val_accuracy: 0.8570\n",
            "Epoch 13/80\n",
            "500/500 [==============================] - 7s 14ms/step - loss: 0.3334 - accuracy: 0.8646 - val_loss: 0.3603 - val_accuracy: 0.8605\n",
            "Epoch 14/80\n",
            "500/500 [==============================] - 8s 16ms/step - loss: 0.3262 - accuracy: 0.8670 - val_loss: 0.3568 - val_accuracy: 0.8650\n",
            "Epoch 15/80\n",
            "500/500 [==============================] - 8s 15ms/step - loss: 0.3229 - accuracy: 0.8689 - val_loss: 0.3650 - val_accuracy: 0.8720\n",
            "Epoch 16/80\n",
            "500/500 [==============================] - 7s 14ms/step - loss: 0.3230 - accuracy: 0.8686 - val_loss: 0.3675 - val_accuracy: 0.8655\n",
            "Epoch 17/80\n",
            "500/500 [==============================] - 8s 15ms/step - loss: 0.3198 - accuracy: 0.8706 - val_loss: 0.3528 - val_accuracy: 0.8750\n",
            "Epoch 18/80\n",
            "500/500 [==============================] - 8s 17ms/step - loss: 0.3127 - accuracy: 0.8718 - val_loss: 0.3444 - val_accuracy: 0.8745\n",
            "Epoch 19/80\n",
            "500/500 [==============================] - 7s 14ms/step - loss: 0.3064 - accuracy: 0.8759 - val_loss: 0.3413 - val_accuracy: 0.8845\n",
            "Epoch 20/80\n",
            "500/500 [==============================] - 7s 14ms/step - loss: 0.3044 - accuracy: 0.8768 - val_loss: 0.3790 - val_accuracy: 0.8670\n",
            "Epoch 21/80\n",
            "500/500 [==============================] - 8s 16ms/step - loss: 0.3011 - accuracy: 0.8798 - val_loss: 0.3505 - val_accuracy: 0.8795\n",
            "Epoch 22/80\n",
            "500/500 [==============================] - 8s 16ms/step - loss: 0.2947 - accuracy: 0.8833 - val_loss: 0.3442 - val_accuracy: 0.8775\n",
            "Epoch 23/80\n",
            "500/500 [==============================] - 7s 15ms/step - loss: 0.2931 - accuracy: 0.8824 - val_loss: 0.3432 - val_accuracy: 0.8700\n",
            "Epoch 24/80\n",
            "500/500 [==============================] - 8s 16ms/step - loss: 0.2912 - accuracy: 0.8848 - val_loss: 0.3435 - val_accuracy: 0.8820\n",
            "Epoch 25/80\n",
            "500/500 [==============================] - 7s 14ms/step - loss: 0.2867 - accuracy: 0.8865 - val_loss: 0.3312 - val_accuracy: 0.8850\n",
            "Epoch 26/80\n",
            "500/500 [==============================] - 7s 14ms/step - loss: 0.2809 - accuracy: 0.8903 - val_loss: 0.3471 - val_accuracy: 0.8710\n",
            "Epoch 27/80\n",
            "500/500 [==============================] - 8s 15ms/step - loss: 0.2824 - accuracy: 0.8898 - val_loss: 0.3326 - val_accuracy: 0.8890\n",
            "Epoch 28/80\n",
            "500/500 [==============================] - 8s 16ms/step - loss: 0.2788 - accuracy: 0.8926 - val_loss: 0.3207 - val_accuracy: 0.8885\n",
            "Epoch 29/80\n",
            "500/500 [==============================] - 8s 16ms/step - loss: 0.2732 - accuracy: 0.8917 - val_loss: 0.3219 - val_accuracy: 0.8860\n",
            "Epoch 30/80\n",
            "500/500 [==============================] - 8s 16ms/step - loss: 0.2686 - accuracy: 0.8944 - val_loss: 0.3245 - val_accuracy: 0.8925\n",
            "Epoch 31/80\n",
            "500/500 [==============================] - 8s 17ms/step - loss: 0.2657 - accuracy: 0.8969 - val_loss: 0.3210 - val_accuracy: 0.8980\n",
            "Epoch 32/80\n",
            "500/500 [==============================] - 7s 15ms/step - loss: 0.2603 - accuracy: 0.8980 - val_loss: 0.3360 - val_accuracy: 0.8875\n",
            "Epoch 33/80\n",
            "500/500 [==============================] - 8s 16ms/step - loss: 0.2616 - accuracy: 0.8971 - val_loss: 0.3177 - val_accuracy: 0.8865\n",
            "Epoch 34/80\n",
            "500/500 [==============================] - 8s 16ms/step - loss: 0.2564 - accuracy: 0.8993 - val_loss: 0.3178 - val_accuracy: 0.8890\n",
            "Epoch 35/80\n",
            "500/500 [==============================] - 7s 14ms/step - loss: 0.2546 - accuracy: 0.9006 - val_loss: 0.3108 - val_accuracy: 0.8900\n",
            "Epoch 36/80\n",
            "500/500 [==============================] - 8s 16ms/step - loss: 0.2549 - accuracy: 0.8998 - val_loss: 0.3241 - val_accuracy: 0.8855\n",
            "Epoch 37/80\n",
            "500/500 [==============================] - 7s 14ms/step - loss: 0.2435 - accuracy: 0.9050 - val_loss: 0.3100 - val_accuracy: 0.8970\n",
            "Epoch 38/80\n",
            "500/500 [==============================] - 8s 16ms/step - loss: 0.2484 - accuracy: 0.9003 - val_loss: 0.3060 - val_accuracy: 0.9015\n",
            "Epoch 39/80\n",
            "500/500 [==============================] - 8s 16ms/step - loss: 0.2470 - accuracy: 0.9029 - val_loss: 0.3170 - val_accuracy: 0.8965\n",
            "Epoch 40/80\n",
            "500/500 [==============================] - 7s 14ms/step - loss: 0.2429 - accuracy: 0.9037 - val_loss: 0.3085 - val_accuracy: 0.8990\n",
            "Epoch 41/80\n",
            "500/500 [==============================] - 7s 14ms/step - loss: 0.2367 - accuracy: 0.9069 - val_loss: 0.2987 - val_accuracy: 0.8960\n",
            "Epoch 42/80\n",
            "500/500 [==============================] - 8s 17ms/step - loss: 0.2309 - accuracy: 0.9091 - val_loss: 0.3056 - val_accuracy: 0.8895\n",
            "Epoch 43/80\n",
            "500/500 [==============================] - 7s 14ms/step - loss: 0.2318 - accuracy: 0.9086 - val_loss: 0.3169 - val_accuracy: 0.8975\n",
            "Epoch 44/80\n",
            "500/500 [==============================] - 8s 17ms/step - loss: 0.2338 - accuracy: 0.9099 - val_loss: 0.2979 - val_accuracy: 0.9045\n",
            "Epoch 45/80\n",
            "500/500 [==============================] - 8s 16ms/step - loss: 0.2279 - accuracy: 0.9107 - val_loss: 0.3044 - val_accuracy: 0.8925\n",
            "Epoch 46/80\n",
            "500/500 [==============================] - 7s 14ms/step - loss: 0.2265 - accuracy: 0.9091 - val_loss: 0.3136 - val_accuracy: 0.8995\n",
            "Epoch 47/80\n",
            "500/500 [==============================] - 8s 16ms/step - loss: 0.2246 - accuracy: 0.9124 - val_loss: 0.3106 - val_accuracy: 0.8980\n",
            "Epoch 48/80\n",
            "500/500 [==============================] - 7s 14ms/step - loss: 0.2183 - accuracy: 0.9142 - val_loss: 0.3017 - val_accuracy: 0.9020\n",
            "Epoch 49/80\n",
            "500/500 [==============================] - 8s 16ms/step - loss: 0.2155 - accuracy: 0.9151 - val_loss: 0.2928 - val_accuracy: 0.9075\n",
            "Epoch 50/80\n",
            "500/500 [==============================] - 8s 15ms/step - loss: 0.2144 - accuracy: 0.9137 - val_loss: 0.3054 - val_accuracy: 0.9065\n",
            "Epoch 51/80\n",
            "500/500 [==============================] - 7s 15ms/step - loss: 0.2146 - accuracy: 0.9159 - val_loss: 0.2962 - val_accuracy: 0.9085\n",
            "Epoch 52/80\n",
            "500/500 [==============================] - 8s 16ms/step - loss: 0.2111 - accuracy: 0.9161 - val_loss: 0.2905 - val_accuracy: 0.9015\n",
            "Epoch 53/80\n",
            "500/500 [==============================] - 7s 14ms/step - loss: 0.2113 - accuracy: 0.9149 - val_loss: 0.2914 - val_accuracy: 0.9120\n",
            "Epoch 54/80\n",
            "500/500 [==============================] - 8s 16ms/step - loss: 0.2034 - accuracy: 0.9212 - val_loss: 0.2905 - val_accuracy: 0.9050\n",
            "Epoch 55/80\n",
            "500/500 [==============================] - 8s 17ms/step - loss: 0.2054 - accuracy: 0.9194 - val_loss: 0.2952 - val_accuracy: 0.9045\n",
            "Epoch 56/80\n",
            "500/500 [==============================] - 7s 14ms/step - loss: 0.2017 - accuracy: 0.9203 - val_loss: 0.2974 - val_accuracy: 0.9075\n",
            "Epoch 57/80\n",
            "500/500 [==============================] - 8s 16ms/step - loss: 0.1960 - accuracy: 0.9247 - val_loss: 0.2935 - val_accuracy: 0.9035\n",
            "Epoch 58/80\n",
            "500/500 [==============================] - 7s 14ms/step - loss: 0.2007 - accuracy: 0.9196 - val_loss: 0.3010 - val_accuracy: 0.8985\n",
            "Epoch 59/80\n",
            "500/500 [==============================] - 7s 14ms/step - loss: 0.1936 - accuracy: 0.9249 - val_loss: 0.2831 - val_accuracy: 0.9165\n",
            "Epoch 60/80\n",
            "500/500 [==============================] - 8s 16ms/step - loss: 0.1877 - accuracy: 0.9296 - val_loss: 0.2973 - val_accuracy: 0.9060\n",
            "Epoch 61/80\n",
            "500/500 [==============================] - 8s 16ms/step - loss: 0.1919 - accuracy: 0.9254 - val_loss: 0.3010 - val_accuracy: 0.9045\n",
            "Epoch 62/80\n",
            "500/500 [==============================] - 7s 14ms/step - loss: 0.1883 - accuracy: 0.9273 - val_loss: 0.3014 - val_accuracy: 0.9095\n",
            "Epoch 63/80\n",
            "500/500 [==============================] - 8s 16ms/step - loss: 0.1861 - accuracy: 0.9258 - val_loss: 0.3003 - val_accuracy: 0.9025\n",
            "Epoch 64/80\n",
            "500/500 [==============================] - 7s 14ms/step - loss: 0.1888 - accuracy: 0.9281 - val_loss: 0.2948 - val_accuracy: 0.9135\n",
            "Epoch 65/80\n",
            "500/500 [==============================] - 7s 14ms/step - loss: 0.1819 - accuracy: 0.9290 - val_loss: 0.3000 - val_accuracy: 0.9100\n",
            "Epoch 66/80\n",
            "500/500 [==============================] - 7s 15ms/step - loss: 0.1840 - accuracy: 0.9286 - val_loss: 0.3042 - val_accuracy: 0.9080\n",
            "Epoch 67/80\n",
            "500/500 [==============================] - 8s 17ms/step - loss: 0.1781 - accuracy: 0.9317 - val_loss: 0.3067 - val_accuracy: 0.9085\n",
            "Epoch 68/80\n",
            "500/500 [==============================] - 8s 16ms/step - loss: 0.1762 - accuracy: 0.9326 - val_loss: 0.3003 - val_accuracy: 0.9100\n",
            "Epoch 69/80\n",
            "500/500 [==============================] - 7s 14ms/step - loss: 0.1775 - accuracy: 0.9312 - val_loss: 0.3023 - val_accuracy: 0.9140\n",
            "Epoch 70/80\n",
            "500/500 [==============================] - 7s 14ms/step - loss: 0.1751 - accuracy: 0.9343 - val_loss: 0.3002 - val_accuracy: 0.9035\n",
            "Epoch 71/80\n",
            "500/500 [==============================] - 8s 16ms/step - loss: 0.1719 - accuracy: 0.9341 - val_loss: 0.3174 - val_accuracy: 0.9035\n",
            "Epoch 72/80\n",
            "500/500 [==============================] - 9s 17ms/step - loss: 0.1738 - accuracy: 0.9339 - val_loss: 0.2981 - val_accuracy: 0.9095\n",
            "Epoch 73/80\n",
            "500/500 [==============================] - 7s 15ms/step - loss: 0.1715 - accuracy: 0.9338 - val_loss: 0.2965 - val_accuracy: 0.9100\n",
            "Epoch 74/80\n",
            "500/500 [==============================] - 8s 17ms/step - loss: 0.1717 - accuracy: 0.9331 - val_loss: 0.3064 - val_accuracy: 0.9080\n",
            "Epoch 75/80\n",
            "500/500 [==============================] - 8s 16ms/step - loss: 0.1595 - accuracy: 0.9378 - val_loss: 0.3201 - val_accuracy: 0.9060\n",
            "Epoch 76/80\n",
            "500/500 [==============================] - 7s 14ms/step - loss: 0.1599 - accuracy: 0.9401 - val_loss: 0.3133 - val_accuracy: 0.9125\n",
            "Epoch 77/80\n",
            "500/500 [==============================] - 7s 14ms/step - loss: 0.1617 - accuracy: 0.9399 - val_loss: 0.3041 - val_accuracy: 0.9140\n",
            "Epoch 78/80\n",
            "500/500 [==============================] - 8s 17ms/step - loss: 0.1621 - accuracy: 0.9401 - val_loss: 0.3238 - val_accuracy: 0.9090\n",
            "Epoch 79/80\n",
            "500/500 [==============================] - 8s 16ms/step - loss: 0.1621 - accuracy: 0.9382 - val_loss: 0.3122 - val_accuracy: 0.9140\n",
            "Epoch 80/80\n",
            "500/500 [==============================] - 7s 14ms/step - loss: 0.1587 - accuracy: 0.9390 - val_loss: 0.3160 - val_accuracy: 0.9085\n"
          ]
        }
      ]
    },
    {
      "cell_type": "markdown",
      "source": [
        "## Model 5 Training Performance"
      ],
      "metadata": {
        "id": "S_Q_p36qMFIu"
      }
    },
    {
      "cell_type": "code",
      "source": [
        "plt.figure(figsize = (8,6))\n",
        "accuracy = history_5.history[\"accuracy\"]\n",
        "val_accuracy = history_5.history[\"val_accuracy\"]\n",
        "loss = history_5.history[\"loss\"]\n",
        "val_loss = history_5.history[\"val_loss\"]\n",
        "epochs = range(1, len(accuracy) + 1)\n",
        "\n",
        "plt.plot(epochs, accuracy, \"bo\", label = \"Training accuracy\", color = \"skyblue\")\n",
        "plt.plot(epochs, val_accuracy, \"b\", label = \"Validation accuracy\",color = \"orange\")\n",
        "plt.title(\"Training and validation accuracy\")\n",
        "plt.legend()\n",
        "\n",
        "plt.figure(figsize = (8,6))\n",
        "plt.plot(epochs, loss, \"bo\", label = \"Training loss\", color = \"skyblue\")\n",
        "plt.plot(epochs, val_loss, \"b\", label=\"Validation loss\", color = \"orange\")\n",
        "plt.title(\"Training and validation loss\")\n",
        "plt.legend()\n",
        "\n",
        "plt.show()"
      ],
      "metadata": {
        "colab": {
          "base_uri": "https://localhost:8080/",
          "height": 1000
        },
        "id": "52HzgY2oMH9s",
        "outputId": "47e04c23-10cb-4af0-e606-1714f9260083"
      },
      "execution_count": null,
      "outputs": [
        {
          "output_type": "stream",
          "name": "stderr",
          "text": [
            "<ipython-input-87-6d5410425a1b>:8: UserWarning: color is redundantly defined by the 'color' keyword argument and the fmt string \"bo\" (-> color='b'). The keyword argument will take precedence.\n",
            "  plt.plot(epochs, accuracy, \"bo\", label = \"Training accuracy\", color = \"skyblue\")\n",
            "<ipython-input-87-6d5410425a1b>:9: UserWarning: color is redundantly defined by the 'color' keyword argument and the fmt string \"b\" (-> color=(0.0, 0.0, 1.0, 1)). The keyword argument will take precedence.\n",
            "  plt.plot(epochs, val_accuracy, \"b\", label = \"Validation accuracy\",color = \"orange\")\n",
            "<ipython-input-87-6d5410425a1b>:14: UserWarning: color is redundantly defined by the 'color' keyword argument and the fmt string \"bo\" (-> color='b'). The keyword argument will take precedence.\n",
            "  plt.plot(epochs, loss, \"bo\", label = \"Training loss\", color = \"skyblue\")\n",
            "<ipython-input-87-6d5410425a1b>:15: UserWarning: color is redundantly defined by the 'color' keyword argument and the fmt string \"b\" (-> color=(0.0, 0.0, 1.0, 1)). The keyword argument will take precedence.\n",
            "  plt.plot(epochs, val_loss, \"b\", label=\"Validation loss\", color = \"orange\")\n"
          ]
        },
        {
          "output_type": "display_data",
          "data": {
            "text/plain": [
              "<Figure size 800x600 with 1 Axes>"
            ],
            "image/png": "[encoded data removed]"
          },
          "metadata": {}
        },
        {
          "output_type": "display_data",
          "data": {
            "text/plain": [
              "<Figure size 800x600 with 1 Axes>"
            ],
            "image/png": "[encoded data removed]"
          },
          "metadata": {}
        }
      ]
    },
    {
      "cell_type": "code",
      "source": [
        "model_5.evaluate(test_generator_2)"
      ],
      "metadata": {
        "colab": {
          "base_uri": "https://localhost:8080/"
        },
        "id": "yJtKTKbCM_YV",
        "outputId": "bb118748-634a-49ac-d382-fb4a36bffdf2"
      },
      "execution_count": null,
      "outputs": [
        {
          "output_type": "stream",
          "name": "stdout",
          "text": [
            "63/63 [==============================] - 1s 12ms/step - loss: 0.3016 - accuracy: 0.9085\n"
          ]
        },
        {
          "output_type": "execute_result",
          "data": {
            "text/plain": [
              "[0.30164799094200134, 0.9085000157356262]"
            ]
          },
          "metadata": {},
          "execution_count": 79
        }
      ]
    },
    {
      "cell_type": "markdown",
      "source": [
        "## Confusion Matrix"
      ],
      "metadata": {
        "id": "HkHtUYZANES8"
      }
    },
    {
      "cell_type": "code",
      "source": [
        "x = list(train_generator_2.class_indices.keys())\n",
        "num_of_test_samples = 2000\n",
        "\n",
        "Y_pred = model_5.predict_generator(test_generator_2, num_of_test_samples // batch_size+1)\n",
        "y_pred = np.argmax(Y_pred, axis=1)\n",
        "print()\n",
        "print('Confusion Matrix')\n",
        "print(confusion_matrix(test_generator_2.classes, y_pred))\n",
        "\n",
        "print()\n",
        "print('Classification Report')\n",
        "target_names = x\n",
        "print(classification_report(test_generator_2.classes, y_pred, target_names = target_names))"
      ],
      "metadata": {
        "colab": {
          "base_uri": "https://localhost:8080/"
        },
        "id": "ctEtMKyXNDcm",
        "outputId": "12a9b459-f3b8-4a50-f5a4-5f9c66bf6fd4"
      },
      "execution_count": null,
      "outputs": [
        {
          "output_type": "stream",
          "name": "stderr",
          "text": [
            "<ipython-input-80-9085b97fa0af>:4: UserWarning: `Model.predict_generator` is deprecated and will be removed in a future version. Please use `Model.predict`, which supports generators.\n",
            "  Y_pred = model_5.predict_generator(test_generator, num_of_test_samples // batch_size+1)\n"
          ]
        },
        {
          "output_type": "stream",
          "name": "stdout",
          "text": [
            "\n",
            "Confusion Matrix\n",
            "[[855 128]\n",
            " [ 55 962]]\n",
            "\n",
            "Classification Report\n",
            "              precision    recall  f1-score   support\n",
            "\n",
            "     Anomaly       0.94      0.87      0.90       983\n",
            "  No-Anomaly       0.88      0.95      0.91      1017\n",
            "\n",
            "    accuracy                           0.91      2000\n",
            "   macro avg       0.91      0.91      0.91      2000\n",
            "weighted avg       0.91      0.91      0.91      2000\n",
            "\n"
          ]
        }
      ]
    },
    {
      "cell_type": "code",
      "source": [
        "cm = confusion_matrix(validation_generator_2.classes, y_pred)\n",
        "fig, ax = plt.subplots(figsize = (12,8))\n",
        "im = ax.imshow(cm, interpolation = 'nearest', cmap = plt.cm.Blues)\n",
        "title = 'Confusion matrix'\n",
        "ax.figure.colorbar(im, ax = ax)\n",
        "ax.set(xticks = np.arange(cm.shape[1]),\n",
        "    yticks=np.arange(cm.shape[0]),\n",
        "    xticklabels = target_names, yticklabels = target_names,\n",
        "    title=title,\n",
        "    ylabel ='True label',\n",
        "    xlabel ='Predicted label',\n",
        "    )\n",
        "plt.setp(ax.get_xticklabels(), rotation=45, ha = \"right\",\n",
        "             rotation_mode = \"anchor\")\n",
        "np.set_printoptions(precision = 2)\n",
        "plt.show()"
      ],
      "metadata": {
        "colab": {
          "base_uri": "https://localhost:8080/",
          "height": 774
        },
        "id": "sLG2_N1rNL4e",
        "outputId": "290c3987-7966-4569-c070-c4668faaba3e"
      },
      "execution_count": null,
      "outputs": [
        {
          "output_type": "display_data",
          "data": {
            "text/plain": [
              "<Figure size 1200x800 with 2 Axes>"
            ],
            "image/png": "[encoded data removed]"
          },
          "metadata": {}
        }
      ]
    },
    {
      "cell_type": "markdown",
      "source": [
        "# CNN Model 7 - Errors Only"
      ],
      "metadata": {
        "id": "UQgJsXQJS7K_"
      }
    },
    {
      "cell_type": "markdown",
      "source": [
        "## Create Train, Validation and Test DF"
      ],
      "metadata": {
        "id": "nvc_BpVCS4V3"
      }
    },
    {
      "cell_type": "code",
      "source": [
        "df_errors = df[df['anomaly_class'] != 'No-Anomaly']\n"
      ],
      "metadata": {
        "colab": {
          "base_uri": "https://localhost:8080/",
          "height": 423
        },
        "outputId": "f85e5eee-8a12-47e5-9302-14206466f438",
        "id": "yu1qZP9eS4V9"
      },
      "execution_count": null,
      "outputs": [
        {
          "output_type": "execute_result",
          "data": {
            "text/plain": [
              "       image_filepath   anomaly_class image_name\n",
              "0        images/0.jpg  Offline-Module      0.jpg\n",
              "1        images/1.jpg  Offline-Module      1.jpg\n",
              "2        images/2.jpg  Offline-Module      2.jpg\n",
              "3        images/3.jpg  Offline-Module      3.jpg\n",
              "4        images/4.jpg  Offline-Module      4.jpg\n",
              "...               ...             ...        ...\n",
              "9995  images/9995.jpg      Vegetation   9995.jpg\n",
              "9996  images/9996.jpg      Vegetation   9996.jpg\n",
              "9997  images/9997.jpg      Vegetation   9997.jpg\n",
              "9998  images/9998.jpg      Vegetation   9998.jpg\n",
              "9999  images/9999.jpg      Vegetation   9999.jpg\n",
              "\n",
              "[10000 rows x 3 columns]"
            ],
            "text/html": [
              "\n",
              "  <div id=\"df-f1dc75bc-42ea-43fb-89f0-121526028706\" class=\"colab-df-container\">\n",
              "    <div>\n",
              "<style scoped>\n",
              "    .dataframe tbody tr th:only-of-type {\n",
              "        vertical-align: middle;\n",
              "    }\n",
              "\n",
              "    .dataframe tbody tr th {\n",
              "        vertical-align: top;\n",
              "    }\n",
              "\n",
              "    .dataframe thead th {\n",
              "        text-align: right;\n",
              "    }\n",
              "</style>\n",
              "<table border=\"1\" class=\"dataframe\">\n",
              "  <thead>\n",
              "    <tr style=\"text-align: right;\">\n",
              "      <th></th>\n",
              "      <th>image_filepath</th>\n",
              "      <th>anomaly_class</th>\n",
              "      <th>image_name</th>\n",
              "    </tr>\n",
              "  </thead>\n",
              "  <tbody>\n",
              "    <tr>\n",
              "      <th>0</th>\n",
              "      <td>images/0.jpg</td>\n",
              "      <td>Offline-Module</td>\n",
              "      <td>0.jpg</td>\n",
              "    </tr>\n",
              "    <tr>\n",
              "      <th>1</th>\n",
              "      <td>images/1.jpg</td>\n",
              "      <td>Offline-Module</td>\n",
              "      <td>1.jpg</td>\n",
              "    </tr>\n",
              "    <tr>\n",
              "      <th>2</th>\n",
              "      <td>images/2.jpg</td>\n",
              "      <td>Offline-Module</td>\n",
              "      <td>2.jpg</td>\n",
              "    </tr>\n",
              "    <tr>\n",
              "      <th>3</th>\n",
              "      <td>images/3.jpg</td>\n",
              "      <td>Offline-Module</td>\n",
              "      <td>3.jpg</td>\n",
              "    </tr>\n",
              "    <tr>\n",
              "      <th>4</th>\n",
              "      <td>images/4.jpg</td>\n",
              "      <td>Offline-Module</td>\n",
              "      <td>4.jpg</td>\n",
              "    </tr>\n",
              "    <tr>\n",
              "      <th>...</th>\n",
              "      <td>...</td>\n",
              "      <td>...</td>\n",
              "      <td>...</td>\n",
              "    </tr>\n",
              "    <tr>\n",
              "      <th>9995</th>\n",
              "      <td>images/9995.jpg</td>\n",
              "      <td>Vegetation</td>\n",
              "      <td>9995.jpg</td>\n",
              "    </tr>\n",
              "    <tr>\n",
              "      <th>9996</th>\n",
              "      <td>images/9996.jpg</td>\n",
              "      <td>Vegetation</td>\n",
              "      <td>9996.jpg</td>\n",
              "    </tr>\n",
              "    <tr>\n",
              "      <th>9997</th>\n",
              "      <td>images/9997.jpg</td>\n",
              "      <td>Vegetation</td>\n",
              "      <td>9997.jpg</td>\n",
              "    </tr>\n",
              "    <tr>\n",
              "      <th>9998</th>\n",
              "      <td>images/9998.jpg</td>\n",
              "      <td>Vegetation</td>\n",
              "      <td>9998.jpg</td>\n",
              "    </tr>\n",
              "    <tr>\n",
              "      <th>9999</th>\n",
              "      <td>images/9999.jpg</td>\n",
              "      <td>Vegetation</td>\n",
              "      <td>9999.jpg</td>\n",
              "    </tr>\n",
              "  </tbody>\n",
              "</table>\n",
              "<p>10000 rows × 3 columns</p>\n",
              "</div>\n",
              "    <div class=\"colab-df-buttons\">\n",
              "\n",
              "  <div class=\"colab-df-container\">\n",
              "    <button class=\"colab-df-convert\" onclick=\"convertToInteractive('df-f1dc75bc-42ea-43fb-89f0-121526028706')\"\n",
              "            title=\"Convert this dataframe to an interactive table.\"\n",
              "            style=\"display:none;\">\n",
              "\n",
              "  <svg xmlns=\"http://www.w3.org/2000/svg\" height=\"24px\" viewBox=\"0 -960 960 960\">\n",
              "    <path d=\"M120-120v-720h720v720H120Zm60-500h600v-160H180v160Zm220 220h160v-160H400v160Zm0 220h160v-160H400v160ZM180-400h160v-160H180v160Zm440 0h160v-160H620v160ZM180-180h160v-160H180v160Zm440 0h160v-160H620v160Z\"/>\n",
              "  </svg>\n",
              "    </button>\n",
              "\n",
              "  <style>\n",
              "    .colab-df-container {\n",
              "      display:flex;\n",
              "      gap: 12px;\n",
              "    }\n",
              "\n",
              "    .colab-df-convert {\n",
              "      background-color: #E8F0FE;\n",
              "      border: none;\n",
              "      border-radius: 50%;\n",
              "      cursor: pointer;\n",
              "      display: none;\n",
              "      fill: #1967D2;\n",
              "      height: 32px;\n",
              "      padding: 0 0 0 0;\n",
              "      width: 32px;\n",
              "    }\n",
              "\n",
              "    .colab-df-convert:hover {\n",
              "      background-color: #E2EBFA;\n",
              "      box-shadow: 0px 1px 2px rgba(60, 64, 67, 0.3), 0px 1px 3px 1px rgba(60, 64, 67, 0.15);\n",
              "      fill: #174EA6;\n",
              "    }\n",
              "\n",
              "    .colab-df-buttons div {\n",
              "      margin-bottom: 4px;\n",
              "    }\n",
              "\n",
              "    [theme=dark] .colab-df-convert {\n",
              "      background-color: #3B4455;\n",
              "      fill: #D2E3FC;\n",
              "    }\n",
              "\n",
              "    [theme=dark] .colab-df-convert:hover {\n",
              "      background-color: #434B5C;\n",
              "      box-shadow: 0px 1px 3px 1px rgba(0, 0, 0, 0.15);\n",
              "      filter: drop-shadow(0px 1px 2px rgba(0, 0, 0, 0.3));\n",
              "      fill: #FFFFFF;\n",
              "    }\n",
              "  </style>\n",
              "\n",
              "    <script>\n",
              "      const buttonEl =\n",
              "        document.querySelector('#df-f1dc75bc-42ea-43fb-89f0-121526028706 button.colab-df-convert');\n",
              "      buttonEl.style.display =\n",
              "        google.colab.kernel.accessAllowed ? 'block' : 'none';\n",
              "\n",
              "      async function convertToInteractive(key) {\n",
              "        const element = document.querySelector('#df-f1dc75bc-42ea-43fb-89f0-121526028706');\n",
              "        const dataTable =\n",
              "          await google.colab.kernel.invokeFunction('convertToInteractive',\n",
              "                                                    [key], {});\n",
              "        if (!dataTable) return;\n",
              "\n",
              "        const docLinkHtml = 'Like what you see? Visit the ' +\n",
              "          '<a target=\"_blank\" href=https://colab.research.google.com/notebooks/data_table.ipynb>data table notebook</a>'\n",
              "          + ' to learn more about interactive tables.';\n",
              "        element.innerHTML = '';\n",
              "        dataTable['output_type'] = 'display_data';\n",
              "        await google.colab.output.renderOutput(dataTable, element);\n",
              "        const docLink = document.createElement('div');\n",
              "        docLink.innerHTML = docLinkHtml;\n",
              "        element.appendChild(docLink);\n",
              "      }\n",
              "    </script>\n",
              "  </div>\n",
              "\n",
              "\n",
              "<div id=\"df-ce9d4773-6568-4034-ba5d-662ad0c2e26e\">\n",
              "  <button class=\"colab-df-quickchart\" onclick=\"quickchart('df-ce9d4773-6568-4034-ba5d-662ad0c2e26e')\"\n",
              "            title=\"Suggest charts\"\n",
              "            style=\"display:none;\">\n",
              "\n",
              "<svg xmlns=\"http://www.w3.org/2000/svg\" height=\"24px\"viewBox=\"0 0 24 24\"\n",
              "     width=\"24px\">\n",
              "    <g>\n",
              "        <path d=\"M19 3H5c-1.1 0-2 .9-2 2v14c0 1.1.9 2 2 2h14c1.1 0 2-.9 2-2V5c0-1.1-.9-2-2-2zM9 17H7v-7h2v7zm4 0h-2V7h2v10zm4 0h-2v-4h2v4z\"/>\n",
              "    </g>\n",
              "</svg>\n",
              "  </button>\n",
              "\n",
              "<style>\n",
              "  .colab-df-quickchart {\n",
              "      --bg-color: #E8F0FE;\n",
              "      --fill-color: #1967D2;\n",
              "      --hover-bg-color: #E2EBFA;\n",
              "      --hover-fill-color: #174EA6;\n",
              "      --disabled-fill-color: #AAA;\n",
              "      --disabled-bg-color: #DDD;\n",
              "  }\n",
              "\n",
              "  [theme=dark] .colab-df-quickchart {\n",
              "      --bg-color: #3B4455;\n",
              "      --fill-color: #D2E3FC;\n",
              "      --hover-bg-color: #434B5C;\n",
              "      --hover-fill-color: #FFFFFF;\n",
              "      --disabled-bg-color: #3B4455;\n",
              "      --disabled-fill-color: #666;\n",
              "  }\n",
              "\n",
              "  .colab-df-quickchart {\n",
              "    background-color: var(--bg-color);\n",
              "    border: none;\n",
              "    border-radius: 50%;\n",
              "    cursor: pointer;\n",
              "    display: none;\n",
              "    fill: var(--fill-color);\n",
              "    height: 32px;\n",
              "    padding: 0;\n",
              "    width: 32px;\n",
              "  }\n",
              "\n",
              "  .colab-df-quickchart:hover {\n",
              "    background-color: var(--hover-bg-color);\n",
              "    box-shadow: 0 1px 2px rgba(60, 64, 67, 0.3), 0 1px 3px 1px rgba(60, 64, 67, 0.15);\n",
              "    fill: var(--button-hover-fill-color);\n",
              "  }\n",
              "\n",
              "  .colab-df-quickchart-complete:disabled,\n",
              "  .colab-df-quickchart-complete:disabled:hover {\n",
              "    background-color: var(--disabled-bg-color);\n",
              "    fill: var(--disabled-fill-color);\n",
              "    box-shadow: none;\n",
              "  }\n",
              "\n",
              "  .colab-df-spinner {\n",
              "    border: 2px solid var(--fill-color);\n",
              "    border-color: transparent;\n",
              "    border-bottom-color: var(--fill-color);\n",
              "    animation:\n",
              "      spin 1s steps(1) infinite;\n",
              "  }\n",
              "\n",
              "  @keyframes spin {\n",
              "    0% {\n",
              "      border-color: transparent;\n",
              "      border-bottom-color: var(--fill-color);\n",
              "      border-left-color: var(--fill-color);\n",
              "    }\n",
              "    20% {\n",
              "      border-color: transparent;\n",
              "      border-left-color: var(--fill-color);\n",
              "      border-top-color: var(--fill-color);\n",
              "    }\n",
              "    30% {\n",
              "      border-color: transparent;\n",
              "      border-left-color: var(--fill-color);\n",
              "      border-top-color: var(--fill-color);\n",
              "      border-right-color: var(--fill-color);\n",
              "    }\n",
              "    40% {\n",
              "      border-color: transparent;\n",
              "      border-right-color: var(--fill-color);\n",
              "      border-top-color: var(--fill-color);\n",
              "    }\n",
              "    60% {\n",
              "      border-color: transparent;\n",
              "      border-right-color: var(--fill-color);\n",
              "    }\n",
              "    80% {\n",
              "      border-color: transparent;\n",
              "      border-right-color: var(--fill-color);\n",
              "      border-bottom-color: var(--fill-color);\n",
              "    }\n",
              "    90% {\n",
              "      border-color: transparent;\n",
              "      border-bottom-color: var(--fill-color);\n",
              "    }\n",
              "  }\n",
              "</style>\n",
              "\n",
              "  <script>\n",
              "    async function quickchart(key) {\n",
              "      const quickchartButtonEl =\n",
              "        document.querySelector('#' + key + ' button');\n",
              "      quickchartButtonEl.disabled = true;  // To prevent multiple clicks.\n",
              "      quickchartButtonEl.classList.add('colab-df-spinner');\n",
              "      try {\n",
              "        const charts = await google.colab.kernel.invokeFunction(\n",
              "            'suggestCharts', [key], {});\n",
              "      } catch (error) {\n",
              "        console.error('Error during call to suggestCharts:', error);\n",
              "      }\n",
              "      quickchartButtonEl.classList.remove('colab-df-spinner');\n",
              "      quickchartButtonEl.classList.add('colab-df-quickchart-complete');\n",
              "    }\n",
              "    (() => {\n",
              "      let quickchartButtonEl =\n",
              "        document.querySelector('#df-ce9d4773-6568-4034-ba5d-662ad0c2e26e button');\n",
              "      quickchartButtonEl.style.display =\n",
              "        google.colab.kernel.accessAllowed ? 'block' : 'none';\n",
              "    })();\n",
              "  </script>\n",
              "</div>\n",
              "    </div>\n",
              "  </div>\n"
            ],
            "application/vnd.google.colaboratory.intrinsic+json": {
              "type": "dataframe",
              "variable_name": "df_errors",
              "summary": "{\n  \"name\": \"df_errors\",\n  \"rows\": 10000,\n  \"fields\": [\n    {\n      \"column\": \"image_filepath\",\n      \"properties\": {\n        \"dtype\": \"string\",\n        \"num_unique_values\": 10000,\n        \"samples\": [\n          \"images/6252.jpg\",\n          \"images/4684.jpg\",\n          \"images/1731.jpg\"\n        ],\n        \"semantic_type\": \"\",\n        \"description\": \"\"\n      }\n    },\n    {\n      \"column\": \"anomaly_class\",\n      \"properties\": {\n        \"dtype\": \"category\",\n        \"num_unique_values\": 11,\n        \"samples\": [\n          \"Cell\",\n          \"Offline-Module\",\n          \"Soiling\"\n        ],\n        \"semantic_type\": \"\",\n        \"description\": \"\"\n      }\n    },\n    {\n      \"column\": \"image_name\",\n      \"properties\": {\n        \"dtype\": \"string\",\n        \"num_unique_values\": 10000,\n        \"samples\": [\n          \"6252.jpg\",\n          \"4684.jpg\",\n          \"1731.jpg\"\n        ],\n        \"semantic_type\": \"\",\n        \"description\": \"\"\n      }\n    }\n  ]\n}"
            }
          },
          "metadata": {},
          "execution_count": 11
        }
      ]
    },
    {
      "cell_type": "code",
      "source": [
        "# Split data into df with 0.8/0.1/0.1 ratio\n",
        "\n",
        "reduced_df_errors = df_errors.sample(frac = 1, random_state = 200) # random -> seed value\n",
        "train_df_errors = reduced_df_errors.sample(frac = 0.8,random_state = 200)\n",
        "validation_test_df_errors = reduced_df_errors.drop(train_df_errors.index)\n",
        "validation_df_errors = validation_test_df_errors.sample(frac = 0.5,random_state = 200)\n",
        "\n",
        "test_df_errors=validation_test_df_errors.drop(validation_df_errors.index)\n",
        "\n",
        "print(train_df_errors.info())\n",
        "print(validation_df_errors.info())\n",
        "\n",
        "test_df_errors.info()"
      ],
      "metadata": {
        "colab": {
          "base_uri": "https://localhost:8080/"
        },
        "outputId": "a33a03c2-a963-445f-a87d-4ca4d679b2bc",
        "id": "wBy0h3q7S4V9"
      },
      "execution_count": null,
      "outputs": [
        {
          "output_type": "stream",
          "name": "stdout",
          "text": [
            "<class 'pandas.core.frame.DataFrame'>\n",
            "Int64Index: 8000 entries, 920 to 3079\n",
            "Data columns (total 3 columns):\n",
            " #   Column          Non-Null Count  Dtype \n",
            "---  ------          --------------  ----- \n",
            " 0   image_filepath  8000 non-null   object\n",
            " 1   anomaly_class   8000 non-null   object\n",
            " 2   image_name      8000 non-null   object\n",
            "dtypes: object(3)\n",
            "memory usage: 250.0+ KB\n",
            "None\n",
            "<class 'pandas.core.frame.DataFrame'>\n",
            "Int64Index: 1000 entries, 6390 to 5811\n",
            "Data columns (total 3 columns):\n",
            " #   Column          Non-Null Count  Dtype \n",
            "---  ------          --------------  ----- \n",
            " 0   image_filepath  1000 non-null   object\n",
            " 1   anomaly_class   1000 non-null   object\n",
            " 2   image_name      1000 non-null   object\n",
            "dtypes: object(3)\n",
            "memory usage: 31.2+ KB\n",
            "None\n",
            "<class 'pandas.core.frame.DataFrame'>\n",
            "Int64Index: 1000 entries, 8895 to 6229\n",
            "Data columns (total 3 columns):\n",
            " #   Column          Non-Null Count  Dtype \n",
            "---  ------          --------------  ----- \n",
            " 0   image_filepath  1000 non-null   object\n",
            " 1   anomaly_class   1000 non-null   object\n",
            " 2   image_name      1000 non-null   object\n",
            "dtypes: object(3)\n",
            "memory usage: 31.2+ KB\n"
          ]
        }
      ]
    },
    {
      "cell_type": "code",
      "source": [
        "# Set up train, validation and test generator\n",
        "\n",
        "image_height = 40\n",
        "image_width = 24\n",
        "batch_size = 128\n",
        "\n",
        "\n",
        "train_generator_errors = ImageDataGenerator().flow_from_dataframe(\n",
        "    dataframe = train_df_errors,\n",
        "    directory = f'{path}/InfraredSolarModules/images/',\n",
        "    x_col = \"image_name\",\n",
        "    y_col = \"anomaly_class\",\n",
        "    class_mode = \"categorical\",\n",
        "    target_size = (image_height, image_width),\n",
        "    rescale=1./255,\n",
        "    batch_size = batch_size,\n",
        "    color_mode = \"grayscale\",\n",
        "    shuffle = False\n",
        ")\n",
        "\n",
        "validation_generator_errors = ImageDataGenerator().flow_from_dataframe(\n",
        "    dataframe = validation_df_errors,\n",
        "    directory = f'{path}/InfraredSolarModules/images/',\n",
        "    x_col = \"image_name\",\n",
        "    y_col = \"anomaly_class\",\n",
        "    class_mode = \"categorical\",\n",
        "    target_size = (image_height, image_width),\n",
        "    rescale=1./255,\n",
        "    batch_size = batch_size,\n",
        "    color_mode = \"grayscale\",\n",
        "    shuffle = False\n",
        ")\n",
        "\n",
        "test_generator_errors = ImageDataGenerator().flow_from_dataframe(\n",
        "    dataframe = test_df_errors,\n",
        "    directory = f'{path}/InfraredSolarModules/images/',\n",
        "    x_col = \"image_name\",\n",
        "    y_col = \"anomaly_class\",\n",
        "    class_mode = \"categorical\",\n",
        "    target_size = (image_height, image_width),\n",
        "    rescale=1./255,\n",
        "    batch_size = batch_size,\n",
        "    color_mode = \"grayscale\",\n",
        "    shuffle = False\n",
        ")\n"
      ],
      "metadata": {
        "id": "qiT1KAryS4V9"
      },
      "execution_count": null,
      "outputs": []
    },
    {
      "cell_type": "markdown",
      "source": [
        "## Build Model 7"
      ],
      "metadata": {
        "id": "oievTrzfVtzh"
      }
    },
    {
      "cell_type": "code",
      "source": [
        "# build the CNN\n",
        "\n",
        "image_height = 40\n",
        "image_width = 24\n",
        "num_classes = 12\n",
        "\n",
        "model_4 = Sequential()\n",
        "model_4.add(Conv2D(filters = 64, kernel_size = (2,2), input_shape=(image_height, image_width, 1), activation = \"relu\"))\n",
        "model_4.add(MaxPooling2D(pool_size= (2,2)))\n",
        "\n",
        "model_4.add(Conv2D(filters = 128, kernel_size = (2,2), activation = \"relu\"))\n",
        "model_4.add(MaxPooling2D(pool_size = (2,2)))\n",
        "\n",
        "model_4.add(Conv2D(filters = 256, kernel_size = (2,2), activation = \"relu\"))\n",
        "model_4.add(MaxPooling2D(pool_size = (2,2)))\n",
        "\n",
        "model_4.add(Flatten())\n",
        "model_4.add(Dropout(0.5))\n",
        "\n",
        "model_4.add(Dense(2048, activation=\"relu\"))\n",
        "model_4.add(Dropout(0.5))\n",
        "\n",
        "model_4.add(Dense(1024, activation=\"relu\"))\n",
        "model_4.add(Dropout(0.5))\n",
        "\n",
        "model_4.add(Dense(512, activation=\"relu\"))\n",
        "model_4.add(Dropout(0.1))\n",
        "\n",
        "model_4.add(Dense(num_classes, Activation('softmax')))\n",
        "\n",
        "model_4.compile(loss='categorical_crossentropy',\n",
        "              optimizer=tf.keras.optimizers.AdamW(1e-3),\n",
        "              metrics=['accuracy'])\n",
        "model_4.summary()"
      ],
      "metadata": {
        "colab": {
          "base_uri": "https://localhost:8080/"
        },
        "outputId": "df414bb8-a29d-4551-9de4-fb181d09ea62",
        "id": "G-hg_2yRVtzi"
      },
      "execution_count": null,
      "outputs": [
        {
          "output_type": "stream",
          "name": "stdout",
          "text": [
            "Model: \"sequential_3\"\n",
            "_________________________________________________________________\n",
            " Layer (type)                Output Shape              Param #   \n",
            "=================================================================\n",
            " conv2d_9 (Conv2D)           (None, 38, 22, 32)        320       \n",
            "                                                                 \n",
            " activation_12 (Activation)  (None, 38, 22, 32)        0         \n",
            "                                                                 \n",
            " max_pooling2d_9 (MaxPoolin  (None, 19, 11, 32)        0         \n",
            " g2D)                                                            \n",
            "                                                                 \n",
            " conv2d_10 (Conv2D)          (None, 17, 9, 64)         18496     \n",
            "                                                                 \n",
            " activation_13 (Activation)  (None, 17, 9, 64)         0         \n",
            "                                                                 \n",
            " max_pooling2d_10 (MaxPooli  (None, 8, 4, 64)          0         \n",
            " ng2D)                                                           \n",
            "                                                                 \n",
            " conv2d_11 (Conv2D)          (None, 6, 2, 128)         73856     \n",
            "                                                                 \n",
            " activation_14 (Activation)  (None, 6, 2, 128)         0         \n",
            "                                                                 \n",
            " max_pooling2d_11 (MaxPooli  (None, 3, 1, 128)         0         \n",
            " ng2D)                                                           \n",
            "                                                                 \n",
            " flatten_3 (Flatten)         (None, 384)               0         \n",
            "                                                                 \n",
            " dropout_3 (Dropout)         (None, 384)               0         \n",
            "                                                                 \n",
            " dense_3 (Dense)             (None, 11)                4235      \n",
            "                                                                 \n",
            " activation_15 (Activation)  (None, 11)                0         \n",
            "                                                                 \n",
            "=================================================================\n",
            "Total params: 96907 (378.54 KB)\n",
            "Trainable params: 96907 (378.54 KB)\n",
            "Non-trainable params: 0 (0.00 Byte)\n",
            "_________________________________________________________________\n"
          ]
        }
      ]
    },
    {
      "cell_type": "code",
      "source": [
        "# Visualize Model\n",
        "\n",
        "visualkeras.layered_view(model_7, legend=True)\n",
        "\n",
        "color_map = defaultdict(dict)\n",
        "color_map[layers.Conv2D]['fill'] = 'skyblue'\n",
        "color_map[layers.MaxPooling2D]['fill'] = 'green'\n",
        "color_map[layers.Dropout]['fill'] = 'red'\n",
        "color_map[layers.Dense]['fill'] = 'orange'\n",
        "color_map[layers.Flatten]['fill'] = 'grey'\n",
        "color_map[layers.Activation]['fill'] = 'yellow'\n",
        "visualkeras.layered_view(model_7, legend=True, color_map = color_map)"
      ],
      "metadata": {
        "colab": {
          "base_uri": "https://localhost:8080/",
          "height": 218
        },
        "outputId": "112d0804-db02-4329-f1fa-23d6ea0a0c5f",
        "id": "U7QltoBnVtzj"
      },
      "execution_count": null,
      "outputs": [
        {
          "output_type": "execute_result",
          "data": {
            "text/plain": [
              "<PIL.Image.Image image mode=RGBA size=466x201>"
            ],
            "image/png": "[encoded data removed]"
          },
          "metadata": {},
          "execution_count": 32
        }
      ]
    },
    {
      "cell_type": "markdown",
      "source": [
        "## Train Model 7"
      ],
      "metadata": {
        "id": "d6qzhfzyWCWq"
      }
    },
    {
      "cell_type": "code",
      "source": [
        "history_7 = model_7.fit(\n",
        "    train_generator_errors,\n",
        "    epochs = 80,\n",
        "    validation_data = validation_generator_errors\n",
        " )\n",
        "\n",
        "#model_7.save(\"/content/drive/My Drive/Colab Notebooks/models/pv_classification/model_7\")"
      ],
      "metadata": {
        "colab": {
          "base_uri": "https://localhost:8080/"
        },
        "outputId": "df4d970f-529a-45a0-cb66-15d4958b8be5",
        "id": "sm-h3X6WWCWw"
      },
      "execution_count": null,
      "outputs": [
        {
          "output_type": "stream",
          "name": "stdout",
          "text": [
            "Epoch 1/80\n",
            "250/250 [==============================] - 6s 20ms/step - loss: 2.1937 - accuracy: 0.1663 - val_loss: 2.1503 - val_accuracy: 0.2080\n",
            "Epoch 2/80\n",
            "250/250 [==============================] - 3s 14ms/step - loss: 2.1533 - accuracy: 0.1893 - val_loss: 2.1206 - val_accuracy: 0.2070\n",
            "Epoch 3/80\n",
            "250/250 [==============================] - 3s 13ms/step - loss: 2.1253 - accuracy: 0.2045 - val_loss: 2.0846 - val_accuracy: 0.2140\n",
            "Epoch 4/80\n",
            "250/250 [==============================] - 4s 17ms/step - loss: 2.0961 - accuracy: 0.2276 - val_loss: 2.0384 - val_accuracy: 0.2740\n",
            "Epoch 5/80\n",
            "250/250 [==============================] - 3s 13ms/step - loss: 2.0378 - accuracy: 0.2599 - val_loss: 1.9885 - val_accuracy: 0.3080\n",
            "Epoch 6/80\n",
            "250/250 [==============================] - 3s 13ms/step - loss: 1.9381 - accuracy: 0.3065 - val_loss: 1.8417 - val_accuracy: 0.3620\n",
            "Epoch 7/80\n",
            "250/250 [==============================] - 4s 14ms/step - loss: 1.8636 - accuracy: 0.3548 - val_loss: 1.8307 - val_accuracy: 0.3730\n",
            "Epoch 8/80\n",
            "250/250 [==============================] - 4s 15ms/step - loss: 1.7810 - accuracy: 0.3884 - val_loss: 1.7607 - val_accuracy: 0.4170\n",
            "Epoch 9/80\n",
            "250/250 [==============================] - 3s 13ms/step - loss: 1.7064 - accuracy: 0.4196 - val_loss: 1.6564 - val_accuracy: 0.4710\n",
            "Epoch 10/80\n",
            "250/250 [==============================] - 4s 17ms/step - loss: 1.6390 - accuracy: 0.4475 - val_loss: 1.6085 - val_accuracy: 0.4620\n",
            "Epoch 11/80\n",
            "250/250 [==============================] - 3s 14ms/step - loss: 1.5909 - accuracy: 0.4652 - val_loss: 1.5461 - val_accuracy: 0.4980\n",
            "Epoch 12/80\n",
            "250/250 [==============================] - 3s 13ms/step - loss: 1.5695 - accuracy: 0.4650 - val_loss: 1.5535 - val_accuracy: 0.4880\n",
            "Epoch 13/80\n",
            "250/250 [==============================] - 5s 18ms/step - loss: 1.5304 - accuracy: 0.4769 - val_loss: 1.4927 - val_accuracy: 0.5090\n",
            "Epoch 14/80\n",
            "250/250 [==============================] - 3s 13ms/step - loss: 1.5113 - accuracy: 0.4841 - val_loss: 1.4710 - val_accuracy: 0.5090\n",
            "Epoch 15/80\n",
            "250/250 [==============================] - 3s 13ms/step - loss: 1.4857 - accuracy: 0.4931 - val_loss: 1.4720 - val_accuracy: 0.5010\n",
            "Epoch 16/80\n",
            "250/250 [==============================] - 4s 16ms/step - loss: 1.4697 - accuracy: 0.4945 - val_loss: 1.4462 - val_accuracy: 0.5260\n",
            "Epoch 17/80\n",
            "250/250 [==============================] - 4s 15ms/step - loss: 1.4529 - accuracy: 0.5001 - val_loss: 1.4276 - val_accuracy: 0.5370\n",
            "Epoch 18/80\n",
            "250/250 [==============================] - 3s 13ms/step - loss: 1.4353 - accuracy: 0.5058 - val_loss: 1.5158 - val_accuracy: 0.4980\n",
            "Epoch 19/80\n",
            "250/250 [==============================] - 4s 16ms/step - loss: 1.4337 - accuracy: 0.5023 - val_loss: 1.4410 - val_accuracy: 0.5160\n",
            "Epoch 20/80\n",
            "250/250 [==============================] - 4s 16ms/step - loss: 1.4099 - accuracy: 0.5116 - val_loss: 1.4061 - val_accuracy: 0.5160\n",
            "Epoch 21/80\n",
            "250/250 [==============================] - 4s 14ms/step - loss: 1.3917 - accuracy: 0.5195 - val_loss: 1.3822 - val_accuracy: 0.5450\n",
            "Epoch 22/80\n",
            "250/250 [==============================] - 3s 13ms/step - loss: 1.3838 - accuracy: 0.5136 - val_loss: 1.3610 - val_accuracy: 0.5350\n",
            "Epoch 23/80\n",
            "250/250 [==============================] - 5s 20ms/step - loss: 1.3686 - accuracy: 0.5254 - val_loss: 1.3608 - val_accuracy: 0.5370\n",
            "Epoch 24/80\n",
            "250/250 [==============================] - 4s 14ms/step - loss: 1.3648 - accuracy: 0.5165 - val_loss: 1.3584 - val_accuracy: 0.5370\n",
            "Epoch 25/80\n",
            "250/250 [==============================] - 3s 14ms/step - loss: 1.3428 - accuracy: 0.5270 - val_loss: 1.3183 - val_accuracy: 0.5500\n",
            "Epoch 26/80\n",
            "250/250 [==============================] - 4s 14ms/step - loss: 1.3328 - accuracy: 0.5341 - val_loss: 1.3149 - val_accuracy: 0.5540\n",
            "Epoch 27/80\n",
            "250/250 [==============================] - 4s 14ms/step - loss: 1.3104 - accuracy: 0.5435 - val_loss: 1.3219 - val_accuracy: 0.5510\n",
            "Epoch 28/80\n",
            "250/250 [==============================] - 4s 14ms/step - loss: 1.3009 - accuracy: 0.5418 - val_loss: 1.3173 - val_accuracy: 0.5640\n",
            "Epoch 29/80\n",
            "250/250 [==============================] - 5s 18ms/step - loss: 1.2905 - accuracy: 0.5504 - val_loss: 1.2862 - val_accuracy: 0.5530\n",
            "Epoch 30/80\n",
            "250/250 [==============================] - 4s 15ms/step - loss: 1.2831 - accuracy: 0.5520 - val_loss: 1.2908 - val_accuracy: 0.5500\n",
            "Epoch 31/80\n",
            "250/250 [==============================] - 4s 14ms/step - loss: 1.2742 - accuracy: 0.5530 - val_loss: 1.2807 - val_accuracy: 0.5680\n",
            "Epoch 32/80\n",
            "250/250 [==============================] - 3s 13ms/step - loss: 1.2656 - accuracy: 0.5550 - val_loss: 1.2400 - val_accuracy: 0.5680\n",
            "Epoch 33/80\n",
            "250/250 [==============================] - 4s 17ms/step - loss: 1.2509 - accuracy: 0.5562 - val_loss: 1.2404 - val_accuracy: 0.5700\n",
            "Epoch 34/80\n",
            "250/250 [==============================] - 4s 15ms/step - loss: 1.2308 - accuracy: 0.5676 - val_loss: 1.2544 - val_accuracy: 0.5860\n",
            "Epoch 35/80\n",
            "250/250 [==============================] - 4s 14ms/step - loss: 1.2174 - accuracy: 0.5674 - val_loss: 1.2322 - val_accuracy: 0.5870\n",
            "Epoch 36/80\n",
            "250/250 [==============================] - 4s 18ms/step - loss: 1.2189 - accuracy: 0.5680 - val_loss: 1.2435 - val_accuracy: 0.5770\n",
            "Epoch 37/80\n",
            "250/250 [==============================] - 3s 13ms/step - loss: 1.2154 - accuracy: 0.5719 - val_loss: 1.1995 - val_accuracy: 0.5880\n",
            "Epoch 38/80\n",
            "250/250 [==============================] - 3s 13ms/step - loss: 1.1966 - accuracy: 0.5711 - val_loss: 1.2255 - val_accuracy: 0.5800\n",
            "Epoch 39/80\n",
            "250/250 [==============================] - 4s 16ms/step - loss: 1.2041 - accuracy: 0.5755 - val_loss: 1.1853 - val_accuracy: 0.5890\n",
            "Epoch 40/80\n",
            "250/250 [==============================] - 3s 13ms/step - loss: 1.1759 - accuracy: 0.5814 - val_loss: 1.1628 - val_accuracy: 0.6010\n",
            "Epoch 41/80\n",
            "250/250 [==============================] - 4s 14ms/step - loss: 1.1773 - accuracy: 0.5856 - val_loss: 1.1911 - val_accuracy: 0.5850\n",
            "Epoch 42/80\n",
            "250/250 [==============================] - 4s 15ms/step - loss: 1.1629 - accuracy: 0.5847 - val_loss: 1.1542 - val_accuracy: 0.5980\n",
            "Epoch 43/80\n",
            "250/250 [==============================] - 3s 13ms/step - loss: 1.1681 - accuracy: 0.5822 - val_loss: 1.1815 - val_accuracy: 0.5950\n",
            "Epoch 44/80\n",
            "250/250 [==============================] - 3s 13ms/step - loss: 1.1685 - accuracy: 0.5884 - val_loss: 1.1654 - val_accuracy: 0.5900\n",
            "Epoch 45/80\n",
            "250/250 [==============================] - 4s 17ms/step - loss: 1.1543 - accuracy: 0.5910 - val_loss: 1.1953 - val_accuracy: 0.5830\n",
            "Epoch 46/80\n",
            "250/250 [==============================] - 4s 14ms/step - loss: 1.1439 - accuracy: 0.5950 - val_loss: 1.1498 - val_accuracy: 0.6030\n",
            "Epoch 47/80\n",
            "250/250 [==============================] - 3s 13ms/step - loss: 1.1321 - accuracy: 0.5955 - val_loss: 1.1560 - val_accuracy: 0.6000\n",
            "Epoch 48/80\n",
            "250/250 [==============================] - 3s 13ms/step - loss: 1.1255 - accuracy: 0.5974 - val_loss: 1.1388 - val_accuracy: 0.6080\n",
            "Epoch 49/80\n",
            "250/250 [==============================] - 4s 15ms/step - loss: 1.1228 - accuracy: 0.6005 - val_loss: 1.1625 - val_accuracy: 0.6100\n",
            "Epoch 50/80\n",
            "250/250 [==============================] - 3s 13ms/step - loss: 1.1217 - accuracy: 0.5989 - val_loss: 1.1328 - val_accuracy: 0.6130\n",
            "Epoch 51/80\n",
            "250/250 [==============================] - 3s 14ms/step - loss: 1.1119 - accuracy: 0.6043 - val_loss: 1.1315 - val_accuracy: 0.6050\n",
            "Epoch 52/80\n",
            "250/250 [==============================] - 4s 17ms/step - loss: 1.1173 - accuracy: 0.6051 - val_loss: 1.1259 - val_accuracy: 0.5990\n",
            "Epoch 53/80\n",
            "250/250 [==============================] - 3s 13ms/step - loss: 1.1009 - accuracy: 0.6083 - val_loss: 1.1606 - val_accuracy: 0.6020\n",
            "Epoch 54/80\n",
            "250/250 [==============================] - 3s 13ms/step - loss: 1.1056 - accuracy: 0.6056 - val_loss: 1.1424 - val_accuracy: 0.6080\n",
            "Epoch 55/80\n",
            "250/250 [==============================] - 4s 18ms/step - loss: 1.0868 - accuracy: 0.6139 - val_loss: 1.1026 - val_accuracy: 0.6170\n",
            "Epoch 56/80\n",
            "250/250 [==============================] - 3s 13ms/step - loss: 1.0933 - accuracy: 0.6096 - val_loss: 1.1590 - val_accuracy: 0.5950\n",
            "Epoch 57/80\n",
            "250/250 [==============================] - 3s 13ms/step - loss: 1.0832 - accuracy: 0.6139 - val_loss: 1.1329 - val_accuracy: 0.6030\n",
            "Epoch 58/80\n",
            "250/250 [==============================] - 3s 13ms/step - loss: 1.0648 - accuracy: 0.6121 - val_loss: 1.1079 - val_accuracy: 0.6080\n",
            "Epoch 59/80\n",
            "250/250 [==============================] - 3s 13ms/step - loss: 1.0669 - accuracy: 0.6122 - val_loss: 1.1264 - val_accuracy: 0.6080\n",
            "Epoch 60/80\n",
            "250/250 [==============================] - 3s 13ms/step - loss: 1.0655 - accuracy: 0.6211 - val_loss: 1.0823 - val_accuracy: 0.6230\n",
            "Epoch 61/80\n",
            "250/250 [==============================] - 4s 17ms/step - loss: 1.0603 - accuracy: 0.6168 - val_loss: 1.0954 - val_accuracy: 0.6150\n",
            "Epoch 62/80\n",
            "250/250 [==============================] - 3s 13ms/step - loss: 1.0707 - accuracy: 0.6212 - val_loss: 1.0821 - val_accuracy: 0.6190\n",
            "Epoch 63/80\n",
            "250/250 [==============================] - 3s 13ms/step - loss: 1.0563 - accuracy: 0.6223 - val_loss: 1.1215 - val_accuracy: 0.6020\n",
            "Epoch 64/80\n",
            "250/250 [==============================] - 4s 15ms/step - loss: 1.0497 - accuracy: 0.6240 - val_loss: 1.1071 - val_accuracy: 0.6100\n",
            "Epoch 65/80\n",
            "250/250 [==============================] - 3s 13ms/step - loss: 1.0492 - accuracy: 0.6230 - val_loss: 1.1011 - val_accuracy: 0.6330\n",
            "Epoch 66/80\n",
            "250/250 [==============================] - 3s 13ms/step - loss: 1.0425 - accuracy: 0.6308 - val_loss: 1.1031 - val_accuracy: 0.6140\n",
            "Epoch 67/80\n",
            "250/250 [==============================] - 3s 13ms/step - loss: 1.0488 - accuracy: 0.6239 - val_loss: 1.1122 - val_accuracy: 0.6150\n",
            "Epoch 68/80\n",
            "250/250 [==============================] - 4s 18ms/step - loss: 1.0335 - accuracy: 0.6292 - val_loss: 1.1223 - val_accuracy: 0.6110\n",
            "Epoch 69/80\n",
            "250/250 [==============================] - 3s 13ms/step - loss: 1.0324 - accuracy: 0.6317 - val_loss: 1.0940 - val_accuracy: 0.6210\n",
            "Epoch 70/80\n",
            "250/250 [==============================] - 3s 13ms/step - loss: 1.0282 - accuracy: 0.6263 - val_loss: 1.0569 - val_accuracy: 0.6210\n",
            "Epoch 71/80\n",
            "250/250 [==============================] - 4s 16ms/step - loss: 1.0210 - accuracy: 0.6323 - val_loss: 1.0779 - val_accuracy: 0.6240\n",
            "Epoch 72/80\n",
            "250/250 [==============================] - 3s 13ms/step - loss: 1.0021 - accuracy: 0.6359 - val_loss: 1.0850 - val_accuracy: 0.6270\n",
            "Epoch 73/80\n",
            "250/250 [==============================] - 3s 14ms/step - loss: 1.0149 - accuracy: 0.6380 - val_loss: 1.0921 - val_accuracy: 0.6230\n",
            "Epoch 74/80\n",
            "250/250 [==============================] - 4s 17ms/step - loss: 1.0162 - accuracy: 0.6373 - val_loss: 1.0966 - val_accuracy: 0.6180\n",
            "Epoch 75/80\n",
            "250/250 [==============================] - 3s 14ms/step - loss: 1.0060 - accuracy: 0.6405 - val_loss: 1.0774 - val_accuracy: 0.6210\n",
            "Epoch 76/80\n",
            "250/250 [==============================] - 3s 13ms/step - loss: 1.0051 - accuracy: 0.6375 - val_loss: 1.1070 - val_accuracy: 0.6220\n",
            "Epoch 77/80\n",
            "250/250 [==============================] - 4s 14ms/step - loss: 0.9947 - accuracy: 0.6415 - val_loss: 1.0718 - val_accuracy: 0.6420\n",
            "Epoch 78/80\n",
            "250/250 [==============================] - 3s 14ms/step - loss: 1.0034 - accuracy: 0.6407 - val_loss: 1.1005 - val_accuracy: 0.6150\n",
            "Epoch 79/80\n",
            "250/250 [==============================] - 3s 13ms/step - loss: 0.9919 - accuracy: 0.6436 - val_loss: 1.0735 - val_accuracy: 0.6150\n",
            "Epoch 80/80\n",
            "250/250 [==============================] - 4s 18ms/step - loss: 0.9793 - accuracy: 0.6504 - val_loss: 1.0970 - val_accuracy: 0.6250\n"
          ]
        }
      ]
    },
    {
      "cell_type": "markdown",
      "source": [
        "## Model 7 Training Performance"
      ],
      "metadata": {
        "id": "P5hSQHacWppk"
      }
    },
    {
      "cell_type": "code",
      "source": [
        "plt.figure(figsize = (8,6))\n",
        "accuracy = history_7.history[\"accuracy\"]\n",
        "val_accuracy = history_7.history[\"val_accuracy\"]\n",
        "loss = history_7.history[\"loss\"]\n",
        "val_loss = history_7.history[\"val_loss\"]\n",
        "epochs = range(1, len(accuracy) + 1)\n",
        "\n",
        "plt.plot(epochs, accuracy, \"bo\", label = \"Training accuracy\", color = \"skyblue\")\n",
        "plt.plot(epochs, val_accuracy, \"b\", label = \"Validation accuracy\",color = \"orange\")\n",
        "plt.title(\"Training and validation accuracy\")\n",
        "plt.legend()\n",
        "\n",
        "plt.figure(figsize = (8,6))\n",
        "plt.plot(epochs, loss, \"bo\", label = \"Training loss\", color = \"skyblue\")\n",
        "plt.plot(epochs, val_loss, \"b\", label=\"Validation loss\", color = \"orange\")\n",
        "plt.title(\"Training and validation loss\")\n",
        "plt.legend()\n",
        "\n",
        "plt.show()"
      ],
      "metadata": {
        "colab": {
          "base_uri": "https://localhost:8080/",
          "height": 1000
        },
        "outputId": "d3bf95a5-2c9c-410d-a942-828fc37bf165",
        "id": "0YiCSglYWppq"
      },
      "execution_count": null,
      "outputs": [
        {
          "output_type": "stream",
          "name": "stderr",
          "text": [
            "<ipython-input-34-0f0bd9608e4b>:8: UserWarning: color is redundantly defined by the 'color' keyword argument and the fmt string \"bo\" (-> color='b'). The keyword argument will take precedence.\n",
            "  plt.plot(epochs, accuracy, \"bo\", label = \"Training accuracy\", color = \"skyblue\")\n",
            "<ipython-input-34-0f0bd9608e4b>:9: UserWarning: color is redundantly defined by the 'color' keyword argument and the fmt string \"b\" (-> color=(0.0, 0.0, 1.0, 1)). The keyword argument will take precedence.\n",
            "  plt.plot(epochs, val_accuracy, \"b\", label = \"Validation accuracy\",color = \"orange\")\n",
            "<ipython-input-34-0f0bd9608e4b>:14: UserWarning: color is redundantly defined by the 'color' keyword argument and the fmt string \"bo\" (-> color='b'). The keyword argument will take precedence.\n",
            "  plt.plot(epochs, loss, \"bo\", label = \"Training loss\", color = \"skyblue\")\n",
            "<ipython-input-34-0f0bd9608e4b>:15: UserWarning: color is redundantly defined by the 'color' keyword argument and the fmt string \"b\" (-> color=(0.0, 0.0, 1.0, 1)). The keyword argument will take precedence.\n",
            "  plt.plot(epochs, val_loss, \"b\", label=\"Validation loss\", color = \"orange\")\n"
          ]
        },
        {
          "output_type": "display_data",
          "data": {
            "text/plain": [
              "<Figure size 800x600 with 1 Axes>"
            ],
            "image/png": "[encoded data removed]"
          },
          "metadata": {}
        },
        {
          "output_type": "display_data",
          "data": {
            "text/plain": [
              "<Figure size 800x600 with 1 Axes>"
            ],
            "image/png": "[encoded data removed]"
          },
          "metadata": {}
        }
      ]
    },
    {
      "cell_type": "code",
      "source": [
        "model_7.evaluate(test_generator_errors)"
      ],
      "metadata": {
        "colab": {
          "base_uri": "https://localhost:8080/"
        },
        "outputId": "03163417-27fb-4535-a1fa-21960dc32c43",
        "id": "8jsDw7DsWppq"
      },
      "execution_count": null,
      "outputs": [
        {
          "output_type": "stream",
          "name": "stdout",
          "text": [
            "32/32 [==============================] - 0s 10ms/step - loss: 1.1485 - accuracy: 0.5960\n"
          ]
        },
        {
          "output_type": "execute_result",
          "data": {
            "text/plain": [
              "[1.1484737396240234, 0.5960000157356262]"
            ]
          },
          "metadata": {},
          "execution_count": 36
        }
      ]
    },
    {
      "cell_type": "markdown",
      "source": [
        "## Confusion Matrix"
      ],
      "metadata": {
        "id": "j9DIQHPAW1T4"
      }
    },
    {
      "cell_type": "code",
      "source": [
        "x = list(train_generator_errors.class_indices.keys())\n",
        "num_of_test_samples = 2000\n",
        "\n",
        "Y_pred = model_7.predict_generator(test_generator_errors, num_of_test_samples // batch_size+1)\n",
        "y_pred = np.argmax(Y_pred, axis=1)\n",
        "print()\n",
        "print('Confusion Matrix')\n",
        "print(confusion_matrix(test_generator_errors.classes, y_pred))\n",
        "\n",
        "print()\n",
        "print('Classification Report')\n",
        "target_names = x\n",
        "print(classification_report(test_generator_errors.classes, y_pred, target_names = target_names))"
      ],
      "metadata": {
        "colab": {
          "base_uri": "https://localhost:8080/"
        },
        "outputId": "37cf8ec9-a6e9-4e1f-db3a-9c1761dc28b5",
        "id": "dzOI2vcqW1T-"
      },
      "execution_count": null,
      "outputs": [
        {
          "output_type": "stream",
          "name": "stderr",
          "text": [
            "<ipython-input-37-676f0589855f>:4: UserWarning: `Model.predict_generator` is deprecated and will be removed in a future version. Please use `Model.predict`, which supports generators.\n",
            "  Y_pred = model_7.predict_generator(test_generator_3, num_of_test_samples // batch_size+1)\n",
            "WARNING:tensorflow:Your input ran out of data; interrupting training. Make sure that your dataset or generator can generate at least `steps_per_epoch * epochs` batches (in this case, 63 batches). You may need to use the repeat() function when building your dataset.\n"
          ]
        },
        {
          "output_type": "stream",
          "name": "stdout",
          "text": [
            "\n",
            "Confusion Matrix\n",
            "[[125  21   2   0   0   1   0  18   6   0  17]\n",
            " [ 36  41  29   1   1   0   0   9   4   0  13]\n",
            " [  4  10  60   2   0   0   2   0   1   2   2]\n",
            " [  6   0   0 115   2   0   1   5   5   0   1]\n",
            " [  0   0   0   3  10   0   0   4   1   0   0]\n",
            " [  3   1   0   0   0  14   2   1   3   0   0]\n",
            " [  0   2   2   0   0   2  16   1   2   0   3]\n",
            " [  2   2   3   1   0   0   5  65   3   0   1]\n",
            " [ 10  11   5   2   2   1   2  15  59   0   8]\n",
            " [  6   5   3   0   0   0   3   0   2   2   0]\n",
            " [ 36  17   6   1   0   3   2  15   1   0  89]]\n",
            "\n",
            "Classification Report\n",
            "                precision    recall  f1-score   support\n",
            "\n",
            "          Cell       0.55      0.66      0.60       190\n",
            "    Cell-Multi       0.37      0.31      0.34       134\n",
            "      Cracking       0.55      0.72      0.62        83\n",
            "         Diode       0.92      0.85      0.88       135\n",
            "   Diode-Multi       0.67      0.56      0.61        18\n",
            "      Hot-Spot       0.67      0.58      0.62        24\n",
            "Hot-Spot-Multi       0.48      0.57      0.52        28\n",
            "Offline-Module       0.49      0.79      0.60        82\n",
            "     Shadowing       0.68      0.51      0.58       115\n",
            "       Soiling       0.50      0.10      0.16        21\n",
            "    Vegetation       0.66      0.52      0.59       170\n",
            "\n",
            "      accuracy                           0.60      1000\n",
            "     macro avg       0.59      0.56      0.56      1000\n",
            "  weighted avg       0.61      0.60      0.59      1000\n",
            "\n"
          ]
        }
      ]
    },
    {
      "cell_type": "code",
      "source": [
        "cm = confusion_matrix(validation_generator_3.classes, y_pred)\n",
        "fig, ax = plt.subplots(figsize = (12,8))\n",
        "im = ax.imshow(cm, interpolation = 'nearest', cmap = plt.cm.Blues)\n",
        "title = 'Confusion matrix'\n",
        "ax.figure.colorbar(im, ax = ax)\n",
        "ax.set(xticks = np.arange(cm.shape[1]),\n",
        "    yticks=np.arange(cm.shape[0]),\n",
        "    xticklabels = target_names, yticklabels = target_names,\n",
        "    title=title,\n",
        "    ylabel ='True label',\n",
        "    xlabel ='Predicted label',\n",
        "    )\n",
        "plt.setp(ax.get_xticklabels(), rotation=45, ha = \"right\",\n",
        "             rotation_mode = \"anchor\")\n",
        "np.set_printoptions(precision = 2)\n",
        "plt.show()"
      ],
      "metadata": {
        "colab": {
          "base_uri": "https://localhost:8080/",
          "height": 786
        },
        "outputId": "d259ee36-2a51-4cc4-d701-867b84bba781",
        "id": "9eOWUu4vW1T-"
      },
      "execution_count": null,
      "outputs": [
        {
          "output_type": "display_data",
          "data": {
            "text/plain": [
              "<Figure size 1200x800 with 2 Axes>"
            ],
            "image/png": "[encoded data removed]"
          },
          "metadata": {}
        }
      ]
    }
  ]
}